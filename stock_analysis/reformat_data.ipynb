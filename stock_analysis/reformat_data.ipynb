{
 "cells": [
  {
   "cell_type": "code",
   "execution_count": 33,
   "metadata": {},
   "outputs": [],
   "source": [
    "%run -i 'scraping.py'"
   ]
  },
  {
   "cell_type": "code",
   "execution_count": 81,
   "metadata": {},
   "outputs": [],
   "source": [
    "dji_df = dataframe_list[0]\n",
    "sp500_df = dataframe_list[1]\n",
    "nasdaq_df = dataframe_list[2]"
   ]
  },
  {
   "cell_type": "code",
   "execution_count": 82,
   "metadata": {},
   "outputs": [],
   "source": [
    "dji_df = dji_df.sort_index(ascending=False)\n",
    "sp500_df=sp500_df.sort_index(ascending=False)\n",
    "nasdaq_df=nasdaq_df.sort_index(ascending=False)"
   ]
  },
  {
   "cell_type": "code",
   "execution_count": 83,
   "metadata": {},
   "outputs": [],
   "source": [
    "from datetime import datetime"
   ]
  },
  {
   "cell_type": "code",
   "execution_count": 84,
   "metadata": {},
   "outputs": [],
   "source": [
    "def change_date_format(df):\n",
    "    dates = []\n",
    "    for date in df['Date'].values:\n",
    "        formatted_date = date.strftime('%Y-%m-%d')\n",
    "        dates.append(formatted_date)\n",
    "    \n",
    "    return dates"
   ]
  },
  {
   "cell_type": "code",
   "execution_count": 85,
   "metadata": {},
   "outputs": [
    {
     "data": {
      "text/plain": [
       "'2015-06-15'"
      ]
     },
     "execution_count": 85,
     "metadata": {},
     "output_type": "execute_result"
    }
   ],
   "source": [
    "dji_df['Date'] = change_date_format(dji_df)"
   ]
  },
  {
   "cell_type": "code",
   "execution_count": 87,
   "metadata": {},
   "outputs": [
    {
     "data": {
      "text/html": [
       "<div>\n",
       "<style scoped>\n",
       "    .dataframe tbody tr th:only-of-type {\n",
       "        vertical-align: middle;\n",
       "    }\n",
       "\n",
       "    .dataframe tbody tr th {\n",
       "        vertical-align: top;\n",
       "    }\n",
       "\n",
       "    .dataframe thead th {\n",
       "        text-align: right;\n",
       "    }\n",
       "</style>\n",
       "<table border=\"1\" class=\"dataframe\">\n",
       "  <thead>\n",
       "    <tr style=\"text-align: right;\">\n",
       "      <th></th>\n",
       "      <th>Date</th>\n",
       "      <th>Open</th>\n",
       "      <th>High</th>\n",
       "      <th>Low</th>\n",
       "      <th>Close</th>\n",
       "      <th>Adj Close</th>\n",
       "      <th>Volume</th>\n",
       "    </tr>\n",
       "  </thead>\n",
       "  <tbody>\n",
       "    <tr>\n",
       "      <th>1259</th>\n",
       "      <td>2015-06-15</td>\n",
       "      <td>17890.76</td>\n",
       "      <td>17890.76</td>\n",
       "      <td>17698.42</td>\n",
       "      <td>17791.17</td>\n",
       "      <td>17791.17</td>\n",
       "      <td>91920000.0</td>\n",
       "    </tr>\n",
       "    <tr>\n",
       "      <th>1258</th>\n",
       "      <td>2015-06-16</td>\n",
       "      <td>17787.43</td>\n",
       "      <td>17919.62</td>\n",
       "      <td>17774.12</td>\n",
       "      <td>17904.48</td>\n",
       "      <td>17904.48</td>\n",
       "      <td>77510000.0</td>\n",
       "    </tr>\n",
       "    <tr>\n",
       "      <th>1257</th>\n",
       "      <td>2015-06-17</td>\n",
       "      <td>17909.58</td>\n",
       "      <td>17998.00</td>\n",
       "      <td>17839.65</td>\n",
       "      <td>17935.74</td>\n",
       "      <td>17935.74</td>\n",
       "      <td>92410000.0</td>\n",
       "    </tr>\n",
       "    <tr>\n",
       "      <th>1256</th>\n",
       "      <td>2015-06-18</td>\n",
       "      <td>17944.61</td>\n",
       "      <td>18174.73</td>\n",
       "      <td>17944.61</td>\n",
       "      <td>18115.84</td>\n",
       "      <td>18115.84</td>\n",
       "      <td>94460000.0</td>\n",
       "    </tr>\n",
       "    <tr>\n",
       "      <th>1255</th>\n",
       "      <td>2015-06-19</td>\n",
       "      <td>18116.24</td>\n",
       "      <td>18117.71</td>\n",
       "      <td>18010.58</td>\n",
       "      <td>18015.95</td>\n",
       "      <td>18015.95</td>\n",
       "      <td>258300000.0</td>\n",
       "    </tr>\n",
       "  </tbody>\n",
       "</table>\n",
       "</div>"
      ],
      "text/plain": [
       "            Date      Open      High       Low     Close  Adj Close  \\\n",
       "1259  2015-06-15  17890.76  17890.76  17698.42  17791.17   17791.17   \n",
       "1258  2015-06-16  17787.43  17919.62  17774.12  17904.48   17904.48   \n",
       "1257  2015-06-17  17909.58  17998.00  17839.65  17935.74   17935.74   \n",
       "1256  2015-06-18  17944.61  18174.73  17944.61  18115.84   18115.84   \n",
       "1255  2015-06-19  18116.24  18117.71  18010.58  18015.95   18015.95   \n",
       "\n",
       "           Volume  \n",
       "1259   91920000.0  \n",
       "1258   77510000.0  \n",
       "1257   92410000.0  \n",
       "1256   94460000.0  \n",
       "1255  258300000.0  "
      ]
     },
     "execution_count": 87,
     "metadata": {},
     "output_type": "execute_result"
    }
   ],
   "source": [
    "dji_df.head()"
   ]
  },
  {
   "cell_type": "code",
   "execution_count": 80,
   "metadata": {},
   "outputs": [
    {
     "data": {
      "text/plain": [
       "array(['2015-06-15', 17890.76, 17890.76, 17698.42, 17791.17, 17791.17,\n",
       "       91920000.0, '2015-06-15'], dtype=object)"
      ]
     },
     "execution_count": 80,
     "metadata": {},
     "output_type": "execute_result"
    }
   ],
   "source": [
    "dji_df.iloc[0].values"
   ]
  },
  {
   "cell_type": "code",
   "execution_count": 97,
   "metadata": {},
   "outputs": [
    {
     "name": "stdout",
     "output_type": "stream",
     "text": [
      "2015-06-15\n",
      "<class 'float'>\n",
      "17890.76\n",
      "17698.42\n",
      "17791.17\n",
      "17791.17\n",
      "91920000\n"
     ]
    }
   ],
   "source": [
    "for num in range(len(dji_df)):\n",
    "    arr = dji_df.iloc[num].values\n",
    "    date, open_price, high_price, low_price, close_price, adj_close_price, volume = arr[0], arr[1].item(), arr[2].item(), arr[3].item(), arr[4].item(), arr[5].item(), int(arr[6].item())\n",
    "    \n",
    "    print(date)\n",
    "    print(type(open_price))\n",
    "    print(high_price)\n",
    "    print(low_price)\n",
    "    print(close_price)\n",
    "    print(adj_close_price)\n",
    "    print(volume)\n",
    "    break"
   ]
  },
  {
   "cell_type": "code",
   "execution_count": null,
   "metadata": {},
   "outputs": [],
   "source": []
  }
 ],
 "metadata": {
  "kernelspec": {
   "display_name": "Python 3",
   "language": "python",
   "name": "python3"
  },
  "language_info": {
   "codemirror_mode": {
    "name": "ipython",
    "version": 3
   },
   "file_extension": ".py",
   "mimetype": "text/x-python",
   "name": "python",
   "nbconvert_exporter": "python",
   "pygments_lexer": "ipython3",
   "version": "3.8.0"
  }
 },
 "nbformat": 4,
 "nbformat_minor": 4
}
