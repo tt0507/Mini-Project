{
 "cells": [
  {
   "cell_type": "markdown",
   "metadata": {},
   "source": [
    "# Unsupervised Learning"
   ]
  },
  {
   "cell_type": "code",
   "execution_count": 20,
   "metadata": {},
   "outputs": [],
   "source": [
    "import numpy as np\n",
    "import pandas as pd\n",
    "import matplotlib.pyplot as plt "
   ]
  },
  {
   "cell_type": "markdown",
   "metadata": {},
   "source": [
    "## KMeans"
   ]
  },
  {
   "cell_type": "markdown",
   "metadata": {},
   "source": [
    "[Link to Code Reference](https://github.com/madhug-nadig/Machine-Learning-Algorithms-from-Scratch/blob/master/K%20Means%20Clustering.py)"
   ]
  },
  {
   "cell_type": "code",
   "execution_count": 17,
   "metadata": {},
   "outputs": [],
   "source": [
    "class K_Means():\n",
    "    \"\"\"\n",
    "    KMeans Algorithm\n",
    "    \"\"\"\n",
    "    def __init__(self, k = 3, max_iterations = 500, tolerance = 0.0001):\n",
    "        self.k = k\n",
    "        self.max_iterations = max_iterations\n",
    "        self.tolerance = tolerance\n",
    "        \n",
    "    \n",
    "    def fit(self, data):\n",
    "        \"\"\"\n",
    "        Fit the data\n",
    "        \"\"\"\n",
    "        self.centroids = {}\n",
    "        \n",
    "        # initialize the centroids\n",
    "        for i in range(self.k):\n",
    "            self.centroids[i] = data[i]\n",
    "            \n",
    "        # start iteration\n",
    "        for i in range(self.max_iterations):\n",
    "            self.classes = {}\n",
    "            \n",
    "            for i in range(self.k):\n",
    "                self.classes[i] = []\n",
    "                \n",
    "            # find the distance between point and cluster. Choose nearest centroid\n",
    "            for datum in data:\n",
    "                distances = [np.linalg.norm(datum - self.centroids[centroid]) for centroid in self.centroids]\n",
    "                get_index = distances.index(min(distances)) # get index\n",
    "                self.classes[get_index].append(datum)\n",
    "                \n",
    "            previous = dict(self.centroids)\n",
    "            \n",
    "            # average the cluster datapoints to re-calculate the centroids\n",
    "            for classification in self.classes:\n",
    "                self.centroids[classification] = np.average(self.classes[classification], axis = 0)\n",
    "                \n",
    "            isOptimal = True # flag to check if optimal; compare with tolerance\n",
    "            \n",
    "            for centroid in self.centroids:\n",
    "                original_centroid = previous[centroid]\n",
    "                curr = self.centroids[centroid]\n",
    "                \n",
    "                if np.sum((curr - original_centroid)/original_centroid * 100) > self.tolerance:\n",
    "                    isOptimal = False\n",
    "\n",
    "            # break if results are optimal.\n",
    "            if isOptimal:\n",
    "                break\n",
    "    \n",
    "    def predict(self, data):\n",
    "        \"\"\"\n",
    "        Predict clusters\n",
    "        \"\"\"\n",
    "        distances = [np.linalg.norm(data - self.centroids[centroid]) for centroid in self.centroids]\n",
    "        classification - distances.index(min(distances))\n",
    "        \n",
    "        return classification"
   ]
  },
  {
   "cell_type": "code",
   "execution_count": 18,
   "metadata": {},
   "outputs": [],
   "source": [
    "full_data = pd.read_csv('data/datasets_180_408_data.csv')\n",
    "kmeans_data = full_data[['radius_mean', 'texture_mean']].values.tolist()\n",
    "X = full_data[['radius_mean', 'texture_mean']].values\n",
    "\n",
    "km = K_Means(3)\n",
    "km.fit(X)"
   ]
  },
  {
   "cell_type": "code",
   "execution_count": 24,
   "metadata": {},
   "outputs": [
    {
     "data": {
      "image/png": "[encoded data removed]",
      "text/plain": [
       "<Figure size 432x288 with 1 Axes>"
      ]
     },
     "metadata": {
      "needs_background": "light"
     },
     "output_type": "display_data"
    }
   ],
   "source": [
    "colors = 10*[\"r\", \"g\", \"c\", \"b\", \"k\"]\n",
    "\n",
    "for centroid in km.centroids:\n",
    "    plt.scatter(km.centroids[centroid][0], km.centroids[centroid][1], s = 130, marker = \"x\")\n",
    "\n",
    "for classification in km.classes:\n",
    "    color = colors[classification]\n",
    "    for features in km.classes[classification]:\n",
    "        plt.scatter(features[0], features[1], color = color,s = 30)\n",
    "\n",
    "plt.title('KMeans Classification')\n",
    "plt.show()"
   ]
  }
 ],
 "metadata": {
  "kernelspec": {
   "display_name": "Python 3",
   "language": "python",
   "name": "python3"
  },
  "language_info": {
   "codemirror_mode": {
    "name": "ipython",
    "version": 3
   },
   "file_extension": ".py",
   "mimetype": "text/x-python",
   "name": "python",
   "nbconvert_exporter": "python",
   "pygments_lexer": "ipython3",
   "version": "3.8.0"
  }
 },
 "nbformat": 4,
 "nbformat_minor": 4
}
