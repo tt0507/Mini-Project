{
 "cells": [
  {
   "cell_type": "code",
   "execution_count": 1,
   "metadata": {},
   "outputs": [],
   "source": [
    "%run -i 'scraping.py'"
   ]
  },
  {
   "cell_type": "code",
   "execution_count": 8,
   "metadata": {},
   "outputs": [],
   "source": [
    "import pandas as pd\n",
    "import tensorflow as tf\n",
    "from tensorflow import keras\n",
    "import matplotlib.pyplot as plt\n",
    "import numpy as np"
   ]
  },
  {
   "cell_type": "code",
   "execution_count": 3,
   "metadata": {},
   "outputs": [
    {
     "name": "stdout",
     "output_type": "stream",
     "text": [
      "3\n"
     ]
    }
   ],
   "source": [
    "print(len(dataframe_list))"
   ]
  },
  {
   "cell_type": "code",
   "execution_count": 4,
   "metadata": {},
   "outputs": [],
   "source": [
    "dji = dataframe_list[0]\n",
    "sp_500 = dataframe_list[1]\n",
    "nasdaq = dataframe_list[2]"
   ]
  },
  {
   "cell_type": "code",
   "execution_count": 5,
   "metadata": {},
   "outputs": [
    {
     "data": {
      "text/html": [
       "<div>\n",
       "<style scoped>\n",
       "    .dataframe tbody tr th:only-of-type {\n",
       "        vertical-align: middle;\n",
       "    }\n",
       "\n",
       "    .dataframe tbody tr th {\n",
       "        vertical-align: top;\n",
       "    }\n",
       "\n",
       "    .dataframe thead th {\n",
       "        text-align: right;\n",
       "    }\n",
       "</style>\n",
       "<table border=\"1\" class=\"dataframe\">\n",
       "  <thead>\n",
       "    <tr style=\"text-align: right;\">\n",
       "      <th></th>\n",
       "      <th>Open</th>\n",
       "      <th>High</th>\n",
       "      <th>Low</th>\n",
       "      <th>Close</th>\n",
       "      <th>Adj Close</th>\n",
       "      <th>Volume</th>\n",
       "    </tr>\n",
       "    <tr>\n",
       "      <th>Date</th>\n",
       "      <th></th>\n",
       "      <th></th>\n",
       "      <th></th>\n",
       "      <th></th>\n",
       "      <th></th>\n",
       "      <th></th>\n",
       "    </tr>\n",
       "  </thead>\n",
       "  <tbody>\n",
       "    <tr>\n",
       "      <th>2020-06-12</th>\n",
       "      <td>25659.42</td>\n",
       "      <td>25965.55</td>\n",
       "      <td>25078.41</td>\n",
       "      <td>25605.54</td>\n",
       "      <td>25605.54</td>\n",
       "      <td>514440000.0</td>\n",
       "    </tr>\n",
       "    <tr>\n",
       "      <th>2020-06-11</th>\n",
       "      <td>26282.51</td>\n",
       "      <td>26294.08</td>\n",
       "      <td>25082.72</td>\n",
       "      <td>25128.17</td>\n",
       "      <td>25128.17</td>\n",
       "      <td>647780000.0</td>\n",
       "    </tr>\n",
       "    <tr>\n",
       "      <th>2020-06-10</th>\n",
       "      <td>27251.89</td>\n",
       "      <td>27355.22</td>\n",
       "      <td>26938.05</td>\n",
       "      <td>26989.99</td>\n",
       "      <td>26989.99</td>\n",
       "      <td>448930000.0</td>\n",
       "    </tr>\n",
       "    <tr>\n",
       "      <th>2020-06-09</th>\n",
       "      <td>27447.37</td>\n",
       "      <td>27447.37</td>\n",
       "      <td>27151.06</td>\n",
       "      <td>27272.30</td>\n",
       "      <td>27272.30</td>\n",
       "      <td>381430000.0</td>\n",
       "    </tr>\n",
       "    <tr>\n",
       "      <th>2020-06-08</th>\n",
       "      <td>27232.93</td>\n",
       "      <td>27580.21</td>\n",
       "      <td>27232.48</td>\n",
       "      <td>27572.44</td>\n",
       "      <td>27572.44</td>\n",
       "      <td>430200000.0</td>\n",
       "    </tr>\n",
       "  </tbody>\n",
       "</table>\n",
       "</div>"
      ],
      "text/plain": [
       "                Open      High       Low     Close  Adj Close       Volume\n",
       "Date                                                                      \n",
       "2020-06-12  25659.42  25965.55  25078.41  25605.54   25605.54  514440000.0\n",
       "2020-06-11  26282.51  26294.08  25082.72  25128.17   25128.17  647780000.0\n",
       "2020-06-10  27251.89  27355.22  26938.05  26989.99   26989.99  448930000.0\n",
       "2020-06-09  27447.37  27447.37  27151.06  27272.30   27272.30  381430000.0\n",
       "2020-06-08  27232.93  27580.21  27232.48  27572.44   27572.44  430200000.0"
      ]
     },
     "execution_count": 5,
     "metadata": {},
     "output_type": "execute_result"
    }
   ],
   "source": [
    "dji.head()"
   ]
  },
  {
   "cell_type": "code",
   "execution_count": 6,
   "metadata": {},
   "outputs": [
    {
     "data": {
      "text/html": [
       "<div>\n",
       "<style scoped>\n",
       "    .dataframe tbody tr th:only-of-type {\n",
       "        vertical-align: middle;\n",
       "    }\n",
       "\n",
       "    .dataframe tbody tr th {\n",
       "        vertical-align: top;\n",
       "    }\n",
       "\n",
       "    .dataframe thead th {\n",
       "        text-align: right;\n",
       "    }\n",
       "</style>\n",
       "<table border=\"1\" class=\"dataframe\">\n",
       "  <thead>\n",
       "    <tr style=\"text-align: right;\">\n",
       "      <th></th>\n",
       "      <th>Open</th>\n",
       "      <th>High</th>\n",
       "      <th>Low</th>\n",
       "      <th>Close</th>\n",
       "      <th>Adj Close</th>\n",
       "      <th>Volume</th>\n",
       "    </tr>\n",
       "    <tr>\n",
       "      <th>Date</th>\n",
       "      <th></th>\n",
       "      <th></th>\n",
       "      <th></th>\n",
       "      <th></th>\n",
       "      <th></th>\n",
       "      <th></th>\n",
       "    </tr>\n",
       "  </thead>\n",
       "  <tbody>\n",
       "    <tr>\n",
       "      <th>2020-06-12</th>\n",
       "      <td>3071.04</td>\n",
       "      <td>3088.42</td>\n",
       "      <td>2984.47</td>\n",
       "      <td>3041.31</td>\n",
       "      <td>3041.31</td>\n",
       "      <td>5.832250e+09</td>\n",
       "    </tr>\n",
       "    <tr>\n",
       "      <th>2020-06-11</th>\n",
       "      <td>3123.53</td>\n",
       "      <td>3123.53</td>\n",
       "      <td>2999.49</td>\n",
       "      <td>3002.10</td>\n",
       "      <td>3002.10</td>\n",
       "      <td>7.018890e+09</td>\n",
       "    </tr>\n",
       "    <tr>\n",
       "      <th>2020-06-10</th>\n",
       "      <td>3213.42</td>\n",
       "      <td>3223.27</td>\n",
       "      <td>3181.49</td>\n",
       "      <td>3190.14</td>\n",
       "      <td>3190.14</td>\n",
       "      <td>6.570840e+09</td>\n",
       "    </tr>\n",
       "    <tr>\n",
       "      <th>2020-06-09</th>\n",
       "      <td>3213.32</td>\n",
       "      <td>3222.71</td>\n",
       "      <td>3193.11</td>\n",
       "      <td>3207.18</td>\n",
       "      <td>3207.18</td>\n",
       "      <td>6.382620e+09</td>\n",
       "    </tr>\n",
       "    <tr>\n",
       "      <th>2020-06-08</th>\n",
       "      <td>3199.92</td>\n",
       "      <td>3233.13</td>\n",
       "      <td>3196.00</td>\n",
       "      <td>3232.39</td>\n",
       "      <td>3232.39</td>\n",
       "      <td>8.437380e+09</td>\n",
       "    </tr>\n",
       "  </tbody>\n",
       "</table>\n",
       "</div>"
      ],
      "text/plain": [
       "               Open     High      Low    Close  Adj Close        Volume\n",
       "Date                                                                   \n",
       "2020-06-12  3071.04  3088.42  2984.47  3041.31    3041.31  5.832250e+09\n",
       "2020-06-11  3123.53  3123.53  2999.49  3002.10    3002.10  7.018890e+09\n",
       "2020-06-10  3213.42  3223.27  3181.49  3190.14    3190.14  6.570840e+09\n",
       "2020-06-09  3213.32  3222.71  3193.11  3207.18    3207.18  6.382620e+09\n",
       "2020-06-08  3199.92  3233.13  3196.00  3232.39    3232.39  8.437380e+09"
      ]
     },
     "execution_count": 6,
     "metadata": {},
     "output_type": "execute_result"
    }
   ],
   "source": [
    "sp_500.head()"
   ]
  },
  {
   "cell_type": "code",
   "execution_count": 7,
   "metadata": {},
   "outputs": [
    {
     "data": {
      "text/html": [
       "<div>\n",
       "<style scoped>\n",
       "    .dataframe tbody tr th:only-of-type {\n",
       "        vertical-align: middle;\n",
       "    }\n",
       "\n",
       "    .dataframe tbody tr th {\n",
       "        vertical-align: top;\n",
       "    }\n",
       "\n",
       "    .dataframe thead th {\n",
       "        text-align: right;\n",
       "    }\n",
       "</style>\n",
       "<table border=\"1\" class=\"dataframe\">\n",
       "  <thead>\n",
       "    <tr style=\"text-align: right;\">\n",
       "      <th></th>\n",
       "      <th>Open</th>\n",
       "      <th>High</th>\n",
       "      <th>Low</th>\n",
       "      <th>Close</th>\n",
       "      <th>Adj Close</th>\n",
       "      <th>Volume</th>\n",
       "    </tr>\n",
       "    <tr>\n",
       "      <th>Date</th>\n",
       "      <th></th>\n",
       "      <th></th>\n",
       "      <th></th>\n",
       "      <th></th>\n",
       "      <th></th>\n",
       "      <th></th>\n",
       "    </tr>\n",
       "  </thead>\n",
       "  <tbody>\n",
       "    <tr>\n",
       "      <th>2020-06-12</th>\n",
       "      <td>9715.87</td>\n",
       "      <td>9768.64</td>\n",
       "      <td>9413.62</td>\n",
       "      <td>9588.81</td>\n",
       "      <td>9588.81</td>\n",
       "      <td>4.366190e+09</td>\n",
       "    </tr>\n",
       "    <tr>\n",
       "      <th>2020-06-11</th>\n",
       "      <td>9791.24</td>\n",
       "      <td>9868.08</td>\n",
       "      <td>9491.31</td>\n",
       "      <td>9492.73</td>\n",
       "      <td>9492.73</td>\n",
       "      <td>5.271000e+09</td>\n",
       "    </tr>\n",
       "    <tr>\n",
       "      <th>2020-06-10</th>\n",
       "      <td>10012.32</td>\n",
       "      <td>10086.89</td>\n",
       "      <td>9962.58</td>\n",
       "      <td>10020.35</td>\n",
       "      <td>10020.35</td>\n",
       "      <td>5.128400e+09</td>\n",
       "    </tr>\n",
       "    <tr>\n",
       "      <th>2020-06-09</th>\n",
       "      <td>9867.19</td>\n",
       "      <td>10002.50</td>\n",
       "      <td>9863.27</td>\n",
       "      <td>9953.75</td>\n",
       "      <td>9953.75</td>\n",
       "      <td>5.281860e+09</td>\n",
       "    </tr>\n",
       "    <tr>\n",
       "      <th>2020-06-08</th>\n",
       "      <td>9823.44</td>\n",
       "      <td>9927.13</td>\n",
       "      <td>9780.61</td>\n",
       "      <td>9924.75</td>\n",
       "      <td>9924.75</td>\n",
       "      <td>6.143120e+09</td>\n",
       "    </tr>\n",
       "  </tbody>\n",
       "</table>\n",
       "</div>"
      ],
      "text/plain": [
       "                Open      High      Low     Close  Adj Close        Volume\n",
       "Date                                                                      \n",
       "2020-06-12   9715.87   9768.64  9413.62   9588.81    9588.81  4.366190e+09\n",
       "2020-06-11   9791.24   9868.08  9491.31   9492.73    9492.73  5.271000e+09\n",
       "2020-06-10  10012.32  10086.89  9962.58  10020.35   10020.35  5.128400e+09\n",
       "2020-06-09   9867.19  10002.50  9863.27   9953.75    9953.75  5.281860e+09\n",
       "2020-06-08   9823.44   9927.13  9780.61   9924.75    9924.75  6.143120e+09"
      ]
     },
     "execution_count": 7,
     "metadata": {},
     "output_type": "execute_result"
    }
   ],
   "source": [
    "nasdaq.head()"
   ]
  },
  {
   "cell_type": "code",
   "execution_count": 32,
   "metadata": {},
   "outputs": [],
   "source": [
    "TRAIN_SPLIT = len(dji) - 10 # same for all data\n",
    "\n",
    "def standarize(data):\n",
    "    global TRAIN_SPLIT\n",
    "    data_values = data.values\n",
    "    mean = data_values[:TRAIN_SPLIT].mean()\n",
    "    std = data_values[:TRAIN_SPLIT].std()\n",
    "    standarized_value = (data_values-mean) / std\n",
    "    return standarized_value"
   ]
  },
  {
   "cell_type": "code",
   "execution_count": 34,
   "metadata": {},
   "outputs": [],
   "source": [
    "dji_standarized = standarize(dji)\n",
    "sp500_standarized = standarize(sp_500)\n",
    "nasdaq_standarized = standarize(nasdaq)"
   ]
  },
  {
   "cell_type": "code",
   "execution_count": 35,
   "metadata": {},
   "outputs": [],
   "source": [
    "assert dji_standarized.shape == (len(dji), 6)\n",
    "assert sp500_standarized.shape == (len(sp_500), 6)\n",
    "assert nasdaq_standarized.shape == (len(nasdaq), 6)"
   ]
  },
  {
   "cell_type": "code",
   "execution_count": 47,
   "metadata": {},
   "outputs": [],
   "source": [
    "START_INDEX = 20\n",
    "\n",
    "def train_data(dataset, target_index, start_index, train_split):\n",
    "    data = []\n",
    "    labels = []\n",
    "    target = dataset[:, target_index]\n",
    "\n",
    "    # model will be given 20 bitcoin prices\n",
    "    start_index = start_index\n",
    "    end_index = train_split\n",
    "    \n",
    "    for i in range(start_index, end_index):\n",
    "        indices = range(i - start_index, i)\n",
    "        data.append(dataset[indices])\n",
    "        labels.append(target[i])\n",
    "    \n",
    "    return np.array(data), np.array(labels)"
   ]
  },
  {
   "cell_type": "code",
   "execution_count": 48,
   "metadata": {},
   "outputs": [],
   "source": [
    "dji_train, dji_label = train_data(dji_standarized, 4, START_INDEX, TRAIN_SPLIT)"
   ]
  },
  {
   "cell_type": "code",
   "execution_count": 57,
   "metadata": {},
   "outputs": [],
   "source": [
    "assert dji_train.shape == (TRAIN_SPLIT - START_INDEX, 20, 6)"
   ]
  },
  {
   "cell_type": "code",
   "execution_count": null,
   "metadata": {},
   "outputs": [],
   "source": []
  }
 ],
 "metadata": {
  "kernelspec": {
   "display_name": "Python 3",
   "language": "python",
   "name": "python3"
  },
  "language_info": {
   "codemirror_mode": {
    "name": "ipython",
    "version": 3
   },
   "file_extension": ".py",
   "mimetype": "text/x-python",
   "name": "python",
   "nbconvert_exporter": "python",
   "pygments_lexer": "ipython3",
   "version": "3.8.0"
  }
 },
 "nbformat": 4,
 "nbformat_minor": 4
}
