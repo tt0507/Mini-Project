{
 "cells": [
  {
   "cell_type": "code",
   "execution_count": 61,
   "metadata": {},
   "outputs": [],
   "source": [
    "%run -i 'scraping.py'"
   ]
  },
  {
   "cell_type": "code",
   "execution_count": 223,
   "metadata": {},
   "outputs": [],
   "source": [
    "import pandas as pd\n",
    "import tensorflow as tf\n",
    "from tensorflow import keras\n",
    "import matplotlib.pyplot as plt\n",
    "import numpy as np\n",
    "from sklearn.preprocessing import StandardScaler"
   ]
  },
  {
   "cell_type": "code",
   "execution_count": 62,
   "metadata": {},
   "outputs": [
    {
     "name": "stdout",
     "output_type": "stream",
     "text": [
      "3\n"
     ]
    }
   ],
   "source": [
    "assert len(dataframe_list) == 3"
   ]
  },
  {
   "cell_type": "code",
   "execution_count": 63,
   "metadata": {},
   "outputs": [],
   "source": [
    "dji = dataframe_list[0]\n",
    "sp_500 = dataframe_list[1]\n",
    "nasdaq = dataframe_list[2]"
   ]
  },
  {
   "cell_type": "code",
   "execution_count": 65,
   "metadata": {},
   "outputs": [],
   "source": [
    "assert len(dji) == len(sp_500)\n",
    "assert len(dji) == len(nasdaq)\n",
    "assert len(sp_500) == len(nasdaq)"
   ]
  },
  {
   "cell_type": "code",
   "execution_count": 245,
   "metadata": {},
   "outputs": [],
   "source": [
    "dji = dji.sort_index()\n",
    "sp_500 = sp_500.sort_index()\n",
    "nasdaq = nasdaq.sort_index()"
   ]
  },
  {
   "cell_type": "code",
   "execution_count": 246,
   "metadata": {},
   "outputs": [
    {
     "data": {
      "text/html": [
       "<div>\n",
       "<style scoped>\n",
       "    .dataframe tbody tr th:only-of-type {\n",
       "        vertical-align: middle;\n",
       "    }\n",
       "\n",
       "    .dataframe tbody tr th {\n",
       "        vertical-align: top;\n",
       "    }\n",
       "\n",
       "    .dataframe thead th {\n",
       "        text-align: right;\n",
       "    }\n",
       "</style>\n",
       "<table border=\"1\" class=\"dataframe\">\n",
       "  <thead>\n",
       "    <tr style=\"text-align: right;\">\n",
       "      <th></th>\n",
       "      <th>Open</th>\n",
       "      <th>High</th>\n",
       "      <th>Low</th>\n",
       "      <th>Close</th>\n",
       "      <th>Adj Close</th>\n",
       "      <th>Volume</th>\n",
       "    </tr>\n",
       "    <tr>\n",
       "      <th>Date</th>\n",
       "      <th></th>\n",
       "      <th></th>\n",
       "      <th></th>\n",
       "      <th></th>\n",
       "      <th></th>\n",
       "      <th></th>\n",
       "    </tr>\n",
       "  </thead>\n",
       "  <tbody>\n",
       "    <tr>\n",
       "      <th>2015-06-15</th>\n",
       "      <td>17890.76</td>\n",
       "      <td>17890.76</td>\n",
       "      <td>17698.42</td>\n",
       "      <td>17791.17</td>\n",
       "      <td>17791.17</td>\n",
       "      <td>91920000.0</td>\n",
       "    </tr>\n",
       "    <tr>\n",
       "      <th>2015-06-16</th>\n",
       "      <td>17787.43</td>\n",
       "      <td>17919.62</td>\n",
       "      <td>17774.12</td>\n",
       "      <td>17904.48</td>\n",
       "      <td>17904.48</td>\n",
       "      <td>77510000.0</td>\n",
       "    </tr>\n",
       "    <tr>\n",
       "      <th>2015-06-17</th>\n",
       "      <td>17909.58</td>\n",
       "      <td>17998.00</td>\n",
       "      <td>17839.65</td>\n",
       "      <td>17935.74</td>\n",
       "      <td>17935.74</td>\n",
       "      <td>92410000.0</td>\n",
       "    </tr>\n",
       "    <tr>\n",
       "      <th>2015-06-18</th>\n",
       "      <td>17944.61</td>\n",
       "      <td>18174.73</td>\n",
       "      <td>17944.61</td>\n",
       "      <td>18115.84</td>\n",
       "      <td>18115.84</td>\n",
       "      <td>94460000.0</td>\n",
       "    </tr>\n",
       "    <tr>\n",
       "      <th>2015-06-19</th>\n",
       "      <td>18116.24</td>\n",
       "      <td>18117.71</td>\n",
       "      <td>18010.58</td>\n",
       "      <td>18015.95</td>\n",
       "      <td>18015.95</td>\n",
       "      <td>258300000.0</td>\n",
       "    </tr>\n",
       "  </tbody>\n",
       "</table>\n",
       "</div>"
      ],
      "text/plain": [
       "                Open      High       Low     Close  Adj Close       Volume\n",
       "Date                                                                      \n",
       "2015-06-15  17890.76  17890.76  17698.42  17791.17   17791.17   91920000.0\n",
       "2015-06-16  17787.43  17919.62  17774.12  17904.48   17904.48   77510000.0\n",
       "2015-06-17  17909.58  17998.00  17839.65  17935.74   17935.74   92410000.0\n",
       "2015-06-18  17944.61  18174.73  17944.61  18115.84   18115.84   94460000.0\n",
       "2015-06-19  18116.24  18117.71  18010.58  18015.95   18015.95  258300000.0"
      ]
     },
     "execution_count": 246,
     "metadata": {},
     "output_type": "execute_result"
    }
   ],
   "source": [
    "dji.head()"
   ]
  },
  {
   "cell_type": "code",
   "execution_count": 247,
   "metadata": {},
   "outputs": [
    {
     "data": {
      "text/html": [
       "<div>\n",
       "<style scoped>\n",
       "    .dataframe tbody tr th:only-of-type {\n",
       "        vertical-align: middle;\n",
       "    }\n",
       "\n",
       "    .dataframe tbody tr th {\n",
       "        vertical-align: top;\n",
       "    }\n",
       "\n",
       "    .dataframe thead th {\n",
       "        text-align: right;\n",
       "    }\n",
       "</style>\n",
       "<table border=\"1\" class=\"dataframe\">\n",
       "  <thead>\n",
       "    <tr style=\"text-align: right;\">\n",
       "      <th></th>\n",
       "      <th>Open</th>\n",
       "      <th>High</th>\n",
       "      <th>Low</th>\n",
       "      <th>Close</th>\n",
       "      <th>Adj Close</th>\n",
       "      <th>Volume</th>\n",
       "    </tr>\n",
       "    <tr>\n",
       "      <th>Date</th>\n",
       "      <th></th>\n",
       "      <th></th>\n",
       "      <th></th>\n",
       "      <th></th>\n",
       "      <th></th>\n",
       "      <th></th>\n",
       "    </tr>\n",
       "  </thead>\n",
       "  <tbody>\n",
       "    <tr>\n",
       "      <th>2015-06-15</th>\n",
       "      <td>2091.34</td>\n",
       "      <td>2091.34</td>\n",
       "      <td>2072.49</td>\n",
       "      <td>2084.43</td>\n",
       "      <td>2084.43</td>\n",
       "      <td>3.061570e+09</td>\n",
       "    </tr>\n",
       "    <tr>\n",
       "      <th>2015-06-16</th>\n",
       "      <td>2084.26</td>\n",
       "      <td>2097.40</td>\n",
       "      <td>2082.10</td>\n",
       "      <td>2096.29</td>\n",
       "      <td>2096.29</td>\n",
       "      <td>2.919900e+09</td>\n",
       "    </tr>\n",
       "    <tr>\n",
       "      <th>2015-06-17</th>\n",
       "      <td>2097.40</td>\n",
       "      <td>2106.79</td>\n",
       "      <td>2088.86</td>\n",
       "      <td>2100.44</td>\n",
       "      <td>2100.44</td>\n",
       "      <td>3.222240e+09</td>\n",
       "    </tr>\n",
       "    <tr>\n",
       "      <th>2015-06-18</th>\n",
       "      <td>2101.58</td>\n",
       "      <td>2126.65</td>\n",
       "      <td>2101.58</td>\n",
       "      <td>2121.24</td>\n",
       "      <td>2121.24</td>\n",
       "      <td>3.520360e+09</td>\n",
       "    </tr>\n",
       "    <tr>\n",
       "      <th>2015-06-19</th>\n",
       "      <td>2121.06</td>\n",
       "      <td>2121.64</td>\n",
       "      <td>2109.45</td>\n",
       "      <td>2109.99</td>\n",
       "      <td>2109.99</td>\n",
       "      <td>4.449810e+09</td>\n",
       "    </tr>\n",
       "  </tbody>\n",
       "</table>\n",
       "</div>"
      ],
      "text/plain": [
       "               Open     High      Low    Close  Adj Close        Volume\n",
       "Date                                                                   \n",
       "2015-06-15  2091.34  2091.34  2072.49  2084.43    2084.43  3.061570e+09\n",
       "2015-06-16  2084.26  2097.40  2082.10  2096.29    2096.29  2.919900e+09\n",
       "2015-06-17  2097.40  2106.79  2088.86  2100.44    2100.44  3.222240e+09\n",
       "2015-06-18  2101.58  2126.65  2101.58  2121.24    2121.24  3.520360e+09\n",
       "2015-06-19  2121.06  2121.64  2109.45  2109.99    2109.99  4.449810e+09"
      ]
     },
     "execution_count": 247,
     "metadata": {},
     "output_type": "execute_result"
    }
   ],
   "source": [
    "sp_500.head()"
   ]
  },
  {
   "cell_type": "code",
   "execution_count": 248,
   "metadata": {},
   "outputs": [
    {
     "data": {
      "text/html": [
       "<div>\n",
       "<style scoped>\n",
       "    .dataframe tbody tr th:only-of-type {\n",
       "        vertical-align: middle;\n",
       "    }\n",
       "\n",
       "    .dataframe tbody tr th {\n",
       "        vertical-align: top;\n",
       "    }\n",
       "\n",
       "    .dataframe thead th {\n",
       "        text-align: right;\n",
       "    }\n",
       "</style>\n",
       "<table border=\"1\" class=\"dataframe\">\n",
       "  <thead>\n",
       "    <tr style=\"text-align: right;\">\n",
       "      <th></th>\n",
       "      <th>Open</th>\n",
       "      <th>High</th>\n",
       "      <th>Low</th>\n",
       "      <th>Close</th>\n",
       "      <th>Adj Close</th>\n",
       "      <th>Volume</th>\n",
       "    </tr>\n",
       "    <tr>\n",
       "      <th>Date</th>\n",
       "      <th></th>\n",
       "      <th></th>\n",
       "      <th></th>\n",
       "      <th></th>\n",
       "      <th></th>\n",
       "      <th></th>\n",
       "    </tr>\n",
       "  </thead>\n",
       "  <tbody>\n",
       "    <tr>\n",
       "      <th>2015-06-15</th>\n",
       "      <td>5011.79</td>\n",
       "      <td>5035.37</td>\n",
       "      <td>4985.94</td>\n",
       "      <td>5029.97</td>\n",
       "      <td>5029.97</td>\n",
       "      <td>1.790280e+09</td>\n",
       "    </tr>\n",
       "    <tr>\n",
       "      <th>2015-06-16</th>\n",
       "      <td>5023.58</td>\n",
       "      <td>5063.06</td>\n",
       "      <td>5022.56</td>\n",
       "      <td>5055.55</td>\n",
       "      <td>5055.55</td>\n",
       "      <td>1.654820e+09</td>\n",
       "    </tr>\n",
       "    <tr>\n",
       "      <th>2015-06-17</th>\n",
       "      <td>5067.68</td>\n",
       "      <td>5080.11</td>\n",
       "      <td>5042.25</td>\n",
       "      <td>5064.88</td>\n",
       "      <td>5064.88</td>\n",
       "      <td>1.712820e+09</td>\n",
       "    </tr>\n",
       "    <tr>\n",
       "      <th>2015-06-18</th>\n",
       "      <td>5082.06</td>\n",
       "      <td>5143.32</td>\n",
       "      <td>5082.03</td>\n",
       "      <td>5132.95</td>\n",
       "      <td>5132.95</td>\n",
       "      <td>1.877920e+09</td>\n",
       "    </tr>\n",
       "    <tr>\n",
       "      <th>2015-06-19</th>\n",
       "      <td>5139.77</td>\n",
       "      <td>5140.17</td>\n",
       "      <td>5113.94</td>\n",
       "      <td>5117.00</td>\n",
       "      <td>5117.00</td>\n",
       "      <td>2.468310e+09</td>\n",
       "    </tr>\n",
       "  </tbody>\n",
       "</table>\n",
       "</div>"
      ],
      "text/plain": [
       "               Open     High      Low    Close  Adj Close        Volume\n",
       "Date                                                                   \n",
       "2015-06-15  5011.79  5035.37  4985.94  5029.97    5029.97  1.790280e+09\n",
       "2015-06-16  5023.58  5063.06  5022.56  5055.55    5055.55  1.654820e+09\n",
       "2015-06-17  5067.68  5080.11  5042.25  5064.88    5064.88  1.712820e+09\n",
       "2015-06-18  5082.06  5143.32  5082.03  5132.95    5132.95  1.877920e+09\n",
       "2015-06-19  5139.77  5140.17  5113.94  5117.00    5117.00  2.468310e+09"
      ]
     },
     "execution_count": 248,
     "metadata": {},
     "output_type": "execute_result"
    }
   ],
   "source": [
    "nasdaq.head()"
   ]
  },
  {
   "cell_type": "code",
   "execution_count": 249,
   "metadata": {},
   "outputs": [],
   "source": [
    "# constants\n",
    "TRAIN_SPLIT = len(dji) - 10 # same for all data\n",
    "START_INDEX = 20"
   ]
  },
  {
   "cell_type": "code",
   "execution_count": 250,
   "metadata": {},
   "outputs": [],
   "source": [
    "#standard scaler\n",
    "standard_scaler = StandardScaler()\n",
    "dji_standarized = standard_scaler.fit_transform(dji.values)\n",
    "sp500_standarized = standard_scaler.fit_transform(sp_500.values)\n",
    "nasdaq_standarized = standard_scaler.fit_transform(nasdaq.values)"
   ]
  },
  {
   "cell_type": "code",
   "execution_count": 251,
   "metadata": {},
   "outputs": [],
   "source": [
    "assert dji_standarized.shape == (len(dji), 6)\n",
    "assert sp500_standarized.shape == (len(sp_500), 6)\n",
    "assert nasdaq_standarized.shape == (len(nasdaq), 6)"
   ]
  },
  {
   "cell_type": "code",
   "execution_count": 252,
   "metadata": {},
   "outputs": [],
   "source": [
    "def train_data(dataset, target_index, start_index, train_split):\n",
    "    \"\"\"\n",
    "    \"\"\"\n",
    "    data = []\n",
    "    labels = []\n",
    "    target = dataset[:, target_index]\n",
    "\n",
    "    # model will be given 20 bitcoin prices\n",
    "    start_index = start_index\n",
    "    end_index = train_split\n",
    "    \n",
    "    for i in range(start_index, end_index):\n",
    "        indices = range(i - start_index, i)\n",
    "        data.append(dataset[indices])\n",
    "        labels.append(target[i])\n",
    "    \n",
    "    return np.array(data), np.array(labels)"
   ]
  },
  {
   "cell_type": "code",
   "execution_count": 253,
   "metadata": {},
   "outputs": [],
   "source": [
    "dji_train, dji_label = train_data(dji_standarized, 4, START_INDEX, TRAIN_SPLIT)\n",
    "sp500_train, sp500_label = train_data(sp500_standarized, 4, START_INDEX, TRAIN_SPLIT)\n",
    "nasdaq_train, nasdaq_label = train_data(nasdaq_standarized, 4, START_INDEX, TRAIN_SPLIT)"
   ]
  },
  {
   "cell_type": "code",
   "execution_count": 254,
   "metadata": {},
   "outputs": [],
   "source": [
    "# check shape of training data\n",
    "assert dji_train.shape == (TRAIN_SPLIT - START_INDEX, 20, 6)\n",
    "assert sp500_train.shape == (TRAIN_SPLIT - START_INDEX, 20, 6)\n",
    "assert nasdaq_train.shape == (TRAIN_SPLIT - START_INDEX, 20, 6)\n",
    "\n",
    "# check shape of label data\n",
    "assert dji_label.shape == (TRAIN_SPLIT - START_INDEX,)\n",
    "assert sp500_label.shape == (TRAIN_SPLIT - START_INDEX,)\n",
    "assert nasdaq_label.shape == (TRAIN_SPLIT - START_INDEX,)"
   ]
  },
  {
   "cell_type": "code",
   "execution_count": 255,
   "metadata": {},
   "outputs": [],
   "source": [
    "def validation_data(dataset, target_index, start_index):\n",
    "    \"\"\"\n",
    "    \"\"\"\n",
    "    valid_data = []\n",
    "    valid_labels = []\n",
    "    target = dataset[:, target_index]\n",
    "\n",
    "    # set index \n",
    "    start_index = start_index\n",
    "    end_index = len(dataset)\n",
    "\n",
    "    for i in range(start_index, end_index):\n",
    "        indices = range(i - 20, i)\n",
    "        valid_data.append(dataset[indices])\n",
    "        valid_labels.append(target[i])\n",
    "\n",
    "    return np.array(valid_data), np.array(valid_labels)"
   ]
  },
  {
   "cell_type": "code",
   "execution_count": 256,
   "metadata": {},
   "outputs": [],
   "source": [
    "dji_valid_data, dji_valid_label = validation_data(dji_standarized, 4, TRAIN_SPLIT)\n",
    "sp500_valid_data, sp500_valid_label = validation_data(sp500_standarized, 4, TRAIN_SPLIT)\n",
    "nasdaq_valid_data, nasdaq_valid_label = validation_data(nasdaq_standarized, 4, TRAIN_SPLIT)"
   ]
  },
  {
   "cell_type": "code",
   "execution_count": 257,
   "metadata": {},
   "outputs": [],
   "source": [
    "# check shape of validation data\n",
    "assert dji_valid_data.shape == (10, 20, 6)\n",
    "assert sp500_valid_data.shape == (10, 20, 6)\n",
    "assert nasdaq_valid_data.shape == (10, 20, 6)\n",
    "\n",
    "# check shape of validation label\n",
    "assert dji_valid_label.shape == (10,)\n",
    "assert sp500_valid_label.shape == (10,)\n",
    "assert nasdaq_valid_label.shape == (10,)"
   ]
  },
  {
   "cell_type": "code",
   "execution_count": 300,
   "metadata": {
    "collapsed": true,
    "jupyter": {
     "outputs_hidden": true
    }
   },
   "outputs": [
    {
     "name": "stdout",
     "output_type": "stream",
     "text": [
      "Epoch 1/100\n",
      "39/39 [==============================] - 2s 40ms/step - loss: 0.1763 - val_loss: 0.3830\n",
      "Epoch 2/100\n",
      "39/39 [==============================] - 1s 21ms/step - loss: 0.1333 - val_loss: 0.4225\n",
      "Epoch 3/100\n",
      "39/39 [==============================] - 1s 21ms/step - loss: 0.1291 - val_loss: 0.3186\n",
      "Epoch 4/100\n",
      "39/39 [==============================] - 1s 21ms/step - loss: 0.1156 - val_loss: 0.2850\n",
      "Epoch 5/100\n",
      "39/39 [==============================] - 1s 21ms/step - loss: 0.1068 - val_loss: 0.2910\n",
      "Epoch 6/100\n",
      "39/39 [==============================] - 1s 21ms/step - loss: 0.1041 - val_loss: 0.3224\n",
      "Epoch 7/100\n",
      "39/39 [==============================] - 1s 21ms/step - loss: 0.1023 - val_loss: 0.2104\n",
      "Epoch 8/100\n",
      "39/39 [==============================] - 1s 21ms/step - loss: 0.0974 - val_loss: 0.3327\n",
      "Epoch 9/100\n",
      "39/39 [==============================] - 1s 21ms/step - loss: 0.0963 - val_loss: 0.2850\n",
      "Epoch 10/100\n",
      "39/39 [==============================] - 1s 21ms/step - loss: 0.0915 - val_loss: 0.2387\n",
      "Epoch 11/100\n",
      "39/39 [==============================] - 1s 21ms/step - loss: 0.0860 - val_loss: 0.2716\n",
      "Epoch 12/100\n",
      "39/39 [==============================] - 1s 21ms/step - loss: 0.0879 - val_loss: 0.3354\n",
      "Epoch 13/100\n",
      "39/39 [==============================] - 1s 21ms/step - loss: 0.0847 - val_loss: 0.2878\n",
      "Epoch 14/100\n",
      "39/39 [==============================] - 1s 21ms/step - loss: 0.0818 - val_loss: 0.2043\n",
      "Epoch 15/100\n",
      "39/39 [==============================] - 1s 21ms/step - loss: 0.0781 - val_loss: 0.2092\n",
      "Epoch 16/100\n",
      "39/39 [==============================] - 1s 21ms/step - loss: 0.0799 - val_loss: 0.2117\n",
      "Epoch 17/100\n",
      "39/39 [==============================] - 1s 21ms/step - loss: 0.0755 - val_loss: 0.1735\n",
      "Epoch 18/100\n",
      "39/39 [==============================] - 1s 21ms/step - loss: 0.0767 - val_loss: 0.2013\n",
      "Epoch 19/100\n",
      "39/39 [==============================] - 1s 21ms/step - loss: 0.0727 - val_loss: 0.1933\n",
      "Epoch 20/100\n",
      "39/39 [==============================] - 1s 21ms/step - loss: 0.0729 - val_loss: 0.1702\n",
      "Epoch 21/100\n",
      "39/39 [==============================] - 1s 21ms/step - loss: 0.0729 - val_loss: 0.2300\n",
      "Epoch 22/100\n",
      "39/39 [==============================] - 1s 21ms/step - loss: 0.0702 - val_loss: 0.1937\n",
      "Epoch 23/100\n",
      "39/39 [==============================] - 1s 21ms/step - loss: 0.0694 - val_loss: 0.2842\n",
      "Epoch 24/100\n",
      "39/39 [==============================] - 1s 21ms/step - loss: 0.0682 - val_loss: 0.2018\n",
      "Epoch 25/100\n",
      "39/39 [==============================] - 1s 21ms/step - loss: 0.0668 - val_loss: 0.2319\n",
      "Epoch 26/100\n",
      "39/39 [==============================] - 1s 21ms/step - loss: 0.0665 - val_loss: 0.1794\n",
      "Epoch 27/100\n",
      "39/39 [==============================] - 1s 22ms/step - loss: 0.0654 - val_loss: 0.1641\n",
      "Epoch 28/100\n",
      "39/39 [==============================] - 1s 21ms/step - loss: 0.0662 - val_loss: 0.2331\n",
      "Epoch 29/100\n",
      "39/39 [==============================] - 1s 21ms/step - loss: 0.0641 - val_loss: 0.1359\n",
      "Epoch 30/100\n",
      "39/39 [==============================] - 1s 21ms/step - loss: 0.0646 - val_loss: 0.2038\n",
      "Epoch 31/100\n",
      "39/39 [==============================] - 1s 21ms/step - loss: 0.0619 - val_loss: 0.1408\n",
      "Epoch 32/100\n",
      "39/39 [==============================] - 1s 22ms/step - loss: 0.0629 - val_loss: 0.1308\n",
      "Epoch 33/100\n",
      "39/39 [==============================] - 1s 21ms/step - loss: 0.0600 - val_loss: 0.2409\n",
      "Epoch 34/100\n",
      "39/39 [==============================] - 1s 21ms/step - loss: 0.0612 - val_loss: 0.1652\n",
      "Epoch 35/100\n",
      "39/39 [==============================] - 1s 21ms/step - loss: 0.0602 - val_loss: 0.1602\n",
      "Epoch 36/100\n",
      "39/39 [==============================] - 1s 21ms/step - loss: 0.0603 - val_loss: 0.1919\n",
      "Epoch 37/100\n",
      "39/39 [==============================] - 1s 21ms/step - loss: 0.0609 - val_loss: 0.1405\n",
      "Epoch 38/100\n",
      "39/39 [==============================] - 1s 21ms/step - loss: 0.0592 - val_loss: 0.2298\n",
      "Epoch 39/100\n",
      "39/39 [==============================] - 1s 22ms/step - loss: 0.0593 - val_loss: 0.1200\n",
      "Epoch 40/100\n",
      "39/39 [==============================] - 1s 21ms/step - loss: 0.0565 - val_loss: 0.1887\n",
      "Epoch 41/100\n",
      "39/39 [==============================] - 1s 22ms/step - loss: 0.0582 - val_loss: 0.1797\n",
      "Epoch 42/100\n",
      "39/39 [==============================] - 1s 22ms/step - loss: 0.0579 - val_loss: 0.1754\n",
      "Epoch 43/100\n",
      "39/39 [==============================] - 1s 21ms/step - loss: 0.0562 - val_loss: 0.2005\n",
      "Epoch 44/100\n",
      "39/39 [==============================] - 1s 21ms/step - loss: 0.0550 - val_loss: 0.1517\n",
      "Epoch 45/100\n",
      "39/39 [==============================] - 1s 21ms/step - loss: 0.0554 - val_loss: 0.1739\n",
      "Epoch 46/100\n",
      "39/39 [==============================] - 1s 22ms/step - loss: 0.0556 - val_loss: 0.1265\n",
      "Epoch 47/100\n",
      "39/39 [==============================] - 1s 21ms/step - loss: 0.0537 - val_loss: 0.1801\n",
      "Epoch 48/100\n",
      "39/39 [==============================] - 1s 21ms/step - loss: 0.0548 - val_loss: 0.1985\n",
      "Epoch 49/100\n",
      "39/39 [==============================] - 1s 21ms/step - loss: 0.0549 - val_loss: 0.1832\n"
     ]
    }
   ],
   "source": [
    "# DIJ time series\n",
    "dji_model = keras.models.Sequential([\n",
    "    keras.layers.LSTM(100, return_sequences=True, input_shape = dji_train.shape[-2:]),\n",
    "    keras.layers.LSTM(50, return_sequences=True),\n",
    "    keras.layers.LSTM(25),\n",
    "    keras.layers.Dense(1)\n",
    "])\n",
    "\n",
    "callback = keras.callbacks.EarlyStopping(patience=10, restore_best_weights=True)\n",
    "checkpoint_cb = keras.callbacks.ModelCheckpoint(\"model/dji_model.h5\", save_best_only=True)\n",
    "dji_model.compile(optimizer = tf.keras.optimizers.RMSprop(), loss='mae')\n",
    "\n",
    "history = dji_model.fit(dji_train, dji_label, epochs=100,\n",
    "                    validation_data=(dji_valid_data, dji_valid_label),\n",
    "                        callbacks=[callback, checkpoint_cb])\n",
    "\n",
    "dji_predict = dji_model.predict(dji_valid_data)"
   ]
  },
  {
   "cell_type": "code",
   "execution_count": 301,
   "metadata": {},
   "outputs": [],
   "source": [
    "def unstandarize(predict, target_data):\n",
    "    \"\"\"\n",
    "    \"\"\"\n",
    "    mean = target_data.mean()\n",
    "    std = target_data.std()\n",
    "    unstandarized_arr = predict*std + mean\n",
    "    return unstandarized_arr"
   ]
  },
  {
   "cell_type": "code",
   "execution_count": 302,
   "metadata": {},
   "outputs": [],
   "source": [
    "dji_unstan_predict = unstandarize(dji_predict, dji['Adj Close'].values)"
   ]
  },
  {
   "cell_type": "code",
   "execution_count": 303,
   "metadata": {},
   "outputs": [],
   "source": [
    "def plot_valid_predict(data, train_split, predict, span):\n",
    "    \"\"\"\n",
    "    \"\"\"\n",
    "    train_split = len(data) - train_split\n",
    "    adj_close = [x for x in data['Adj Close'].values]\n",
    "    train_date = data.index[:train_split]\n",
    "            \n",
    "    plt.figure(figsize=(18, 8))\n",
    "    plt.plot(data.index[-20:-10], adj_close[-20:-10], label='History')\n",
    "    plt.plot(data.index[-train_split:], adj_close[-train_split:], label='True Future')\n",
    "    plt.plot(data.index[-train_split:], predict, label='Predicted Price')\n",
    "    plt.xlabel(\"Date\")\n",
    "    plt.ylabel(\"Normalized Price\")\n",
    "    plt.legend()\n",
    "    plt.show()"
   ]
  },
  {
   "cell_type": "code",
   "execution_count": 304,
   "metadata": {},
   "outputs": [
    {
     "data": {
      "image/png": "[encoded data removed]",
      "text/plain": [
       "<Figure size 1296x576 with 1 Axes>"
      ]
     },
     "metadata": {
      "needs_background": "light"
     },
     "output_type": "display_data"
    }
   ],
   "source": [
    "plot_valid_predict(dji, TRAIN_SPLIT, dji_unstan_predict, 20)"
   ]
  },
  {
   "cell_type": "code",
   "execution_count": 315,
   "metadata": {
    "collapsed": true,
    "jupyter": {
     "outputs_hidden": true
    }
   },
   "outputs": [
    {
     "name": "stdout",
     "output_type": "stream",
     "text": [
      "Epoch 1/100\n",
      "39/39 [==============================] - 2s 41ms/step - loss: 0.2144 - val_loss: 0.6047\n",
      "Epoch 2/100\n",
      "39/39 [==============================] - 1s 22ms/step - loss: 0.1432 - val_loss: 0.3848\n",
      "Epoch 3/100\n",
      "39/39 [==============================] - 1s 21ms/step - loss: 0.1194 - val_loss: 0.6529\n",
      "Epoch 4/100\n",
      "39/39 [==============================] - 1s 21ms/step - loss: 0.1178 - val_loss: 0.3869\n",
      "Epoch 5/100\n",
      "39/39 [==============================] - 1s 21ms/step - loss: 0.1089 - val_loss: 0.4406\n",
      "Epoch 6/100\n",
      "39/39 [==============================] - 1s 21ms/step - loss: 0.1097 - val_loss: 0.3921\n",
      "Epoch 7/100\n",
      "39/39 [==============================] - 1s 21ms/step - loss: 0.1053 - val_loss: 0.1882\n",
      "Epoch 8/100\n",
      "39/39 [==============================] - 1s 21ms/step - loss: 0.1006 - val_loss: 0.4772\n",
      "Epoch 9/100\n",
      "39/39 [==============================] - 1s 21ms/step - loss: 0.0992 - val_loss: 0.7837\n",
      "Epoch 10/100\n",
      "39/39 [==============================] - 1s 21ms/step - loss: 0.0964 - val_loss: 0.3649\n",
      "Epoch 11/100\n",
      "39/39 [==============================] - 1s 21ms/step - loss: 0.0909 - val_loss: 0.2724\n",
      "Epoch 12/100\n",
      "39/39 [==============================] - 1s 21ms/step - loss: 0.0920 - val_loss: 0.1988\n",
      "Epoch 13/100\n",
      "39/39 [==============================] - 1s 21ms/step - loss: 0.0850 - val_loss: 0.2413\n",
      "Epoch 14/100\n",
      "39/39 [==============================] - 1s 21ms/step - loss: 0.0868 - val_loss: 0.2837\n",
      "Epoch 15/100\n",
      "39/39 [==============================] - 1s 21ms/step - loss: 0.0839 - val_loss: 0.1783\n",
      "Epoch 16/100\n",
      "39/39 [==============================] - 1s 21ms/step - loss: 0.0851 - val_loss: 0.2438\n",
      "Epoch 17/100\n",
      "39/39 [==============================] - 1s 21ms/step - loss: 0.0796 - val_loss: 0.2314\n",
      "Epoch 18/100\n",
      "39/39 [==============================] - 1s 21ms/step - loss: 0.0805 - val_loss: 0.2136\n",
      "Epoch 19/100\n",
      "39/39 [==============================] - 1s 21ms/step - loss: 0.0807 - val_loss: 0.2497\n",
      "Epoch 20/100\n",
      "39/39 [==============================] - 1s 21ms/step - loss: 0.0764 - val_loss: 0.1491\n",
      "Epoch 21/100\n",
      "39/39 [==============================] - 1s 21ms/step - loss: 0.0769 - val_loss: 0.2809\n",
      "Epoch 22/100\n",
      "39/39 [==============================] - 1s 22ms/step - loss: 0.0739 - val_loss: 0.4099\n",
      "Epoch 23/100\n",
      "39/39 [==============================] - 1s 21ms/step - loss: 0.0755 - val_loss: 0.1817\n",
      "Epoch 24/100\n",
      "39/39 [==============================] - 1s 22ms/step - loss: 0.0710 - val_loss: 0.1482\n",
      "Epoch 25/100\n",
      "39/39 [==============================] - 1s 22ms/step - loss: 0.0705 - val_loss: 0.3315\n",
      "Epoch 26/100\n",
      "39/39 [==============================] - 1s 22ms/step - loss: 0.0722 - val_loss: 0.1257\n",
      "Epoch 27/100\n",
      "39/39 [==============================] - 1s 21ms/step - loss: 0.0686 - val_loss: 0.3406\n",
      "Epoch 28/100\n",
      "39/39 [==============================] - 1s 21ms/step - loss: 0.0697 - val_loss: 0.1395\n",
      "Epoch 29/100\n",
      "39/39 [==============================] - 1s 21ms/step - loss: 0.0671 - val_loss: 0.3035\n",
      "Epoch 30/100\n",
      "39/39 [==============================] - 1s 21ms/step - loss: 0.0663 - val_loss: 0.3264\n",
      "Epoch 31/100\n",
      "39/39 [==============================] - 1s 21ms/step - loss: 0.0675 - val_loss: 0.1361\n",
      "Epoch 32/100\n",
      "39/39 [==============================] - 1s 21ms/step - loss: 0.0656 - val_loss: 0.2526\n",
      "Epoch 33/100\n",
      "39/39 [==============================] - 1s 21ms/step - loss: 0.0628 - val_loss: 0.2462\n",
      "Epoch 34/100\n",
      "39/39 [==============================] - 1s 21ms/step - loss: 0.0672 - val_loss: 0.2077\n",
      "Epoch 35/100\n",
      "39/39 [==============================] - 1s 21ms/step - loss: 0.0610 - val_loss: 0.2792\n",
      "Epoch 36/100\n",
      "39/39 [==============================] - 1s 21ms/step - loss: 0.0649 - val_loss: 0.1333\n"
     ]
    }
   ],
   "source": [
    "# S&P 500 model\n",
    "sp500_model = keras.models.Sequential([\n",
    "    keras.layers.LSTM(100, return_sequences=True, input_shape = nasdaq_train.shape[-2:]),\n",
    "    keras.layers.LSTM(50, return_sequences=True),\n",
    "    keras.layers.LSTM(25),\n",
    "    keras.layers.Dense(1)\n",
    "])\n",
    "\n",
    "callback = keras.callbacks.EarlyStopping(patience=10, restore_best_weights=True)\n",
    "checkpoint_cb = keras.callbacks.ModelCheckpoint(\"model/sp500_model.h5\", save_best_only=True)\n",
    "sp500_model.compile(optimizer = tf.keras.optimizers.RMSprop(), loss='mae')\n",
    "\n",
    "history = sp500_model.fit(sp500_train, sp500_label, epochs=100,\n",
    "                    validation_data=(sp500_valid_data, sp500_valid_label),\n",
    "                        callbacks=[callback, checkpoint_cb])\n",
    "\n",
    "sp500_predict = sp500_model.predict(sp500_valid_data)"
   ]
  },
  {
   "cell_type": "code",
   "execution_count": 316,
   "metadata": {},
   "outputs": [],
   "source": [
    "sp500_unstan_predict = unstandarize(sp500_predict, sp_500['Adj Close'].values)"
   ]
  },
  {
   "cell_type": "code",
   "execution_count": 317,
   "metadata": {},
   "outputs": [
    {
     "data": {
      "image/png": "[encoded data removed]",
      "text/plain": [
       "<Figure size 1296x576 with 1 Axes>"
      ]
     },
     "metadata": {
      "needs_background": "light"
     },
     "output_type": "display_data"
    }
   ],
   "source": [
    "plot_valid_predict(sp_500, TRAIN_SPLIT, sp500_unstan_predict, 20)"
   ]
  },
  {
   "cell_type": "code",
   "execution_count": 311,
   "metadata": {
    "collapsed": true,
    "jupyter": {
     "outputs_hidden": true
    }
   },
   "outputs": [
    {
     "name": "stdout",
     "output_type": "stream",
     "text": [
      "Epoch 1/100\n",
      "39/39 [==============================] - 2s 40ms/step - loss: 0.1960 - val_loss: 0.7259\n",
      "Epoch 2/100\n",
      "39/39 [==============================] - 1s 21ms/step - loss: 0.1276 - val_loss: 0.8592\n",
      "Epoch 3/100\n",
      "39/39 [==============================] - 1s 21ms/step - loss: 0.1122 - val_loss: 0.4938\n",
      "Epoch 4/100\n",
      "39/39 [==============================] - 1s 21ms/step - loss: 0.1077 - val_loss: 0.7922\n",
      "Epoch 5/100\n",
      "39/39 [==============================] - 1s 21ms/step - loss: 0.1060 - val_loss: 0.4498\n",
      "Epoch 6/100\n",
      "39/39 [==============================] - 1s 21ms/step - loss: 0.1014 - val_loss: 0.2778\n",
      "Epoch 7/100\n",
      "39/39 [==============================] - 1s 21ms/step - loss: 0.0911 - val_loss: 0.3848\n",
      "Epoch 8/100\n",
      "39/39 [==============================] - 1s 21ms/step - loss: 0.0919 - val_loss: 0.3678\n",
      "Epoch 9/100\n",
      "39/39 [==============================] - 1s 21ms/step - loss: 0.0875 - val_loss: 0.1324\n",
      "Epoch 10/100\n",
      "39/39 [==============================] - 1s 21ms/step - loss: 0.0881 - val_loss: 0.4966\n",
      "Epoch 11/100\n",
      "39/39 [==============================] - 1s 21ms/step - loss: 0.0848 - val_loss: 0.2606\n",
      "Epoch 12/100\n",
      "39/39 [==============================] - 1s 21ms/step - loss: 0.0830 - val_loss: 0.3274\n",
      "Epoch 13/100\n",
      "39/39 [==============================] - 1s 21ms/step - loss: 0.0789 - val_loss: 0.1606\n",
      "Epoch 14/100\n",
      "39/39 [==============================] - 1s 21ms/step - loss: 0.0802 - val_loss: 0.5634\n",
      "Epoch 15/100\n",
      "39/39 [==============================] - 1s 21ms/step - loss: 0.0736 - val_loss: 0.3229\n",
      "Epoch 16/100\n",
      "39/39 [==============================] - 1s 21ms/step - loss: 0.0759 - val_loss: 0.2179\n",
      "Epoch 17/100\n",
      "39/39 [==============================] - 1s 21ms/step - loss: 0.0727 - val_loss: 0.1931\n",
      "Epoch 18/100\n",
      "39/39 [==============================] - 1s 21ms/step - loss: 0.0711 - val_loss: 0.2520\n",
      "Epoch 19/100\n",
      "39/39 [==============================] - 1s 21ms/step - loss: 0.0718 - val_loss: 0.2062\n"
     ]
    }
   ],
   "source": [
    "# NASDAQ model\n",
    "nasdaq_model = keras.models.Sequential([\n",
    "    keras.layers.LSTM(100, return_sequences=True, input_shape = nasdaq_train.shape[-2:]),\n",
    "    keras.layers.LSTM(50, return_sequences=True),\n",
    "    keras.layers.LSTM(25),\n",
    "    keras.layers.Dense(1)\n",
    "])\n",
    "\n",
    "callback = keras.callbacks.EarlyStopping(patience=10, restore_best_weights=True)\n",
    "checkpoint_cb = keras.callbacks.ModelCheckpoint(\"model/nasdaq_model.h5\", save_best_only=True)\n",
    "nasdaq_model.compile(optimizer = tf.keras.optimizers.RMSprop(), loss='mae')\n",
    "\n",
    "history = nasdaq_model.fit(nasdaq_train, nasdaq_label, epochs=100,\n",
    "                    validation_data=(nasdaq_valid_data, nasdaq_valid_label),\n",
    "                        callbacks=[callback, checkpoint_cb])\n",
    "\n",
    "nasdaq_predict = nasdaq_model.predict(nasdaq_valid_data)"
   ]
  },
  {
   "cell_type": "code",
   "execution_count": 312,
   "metadata": {},
   "outputs": [],
   "source": [
    "nasdaq_unstan_predict = unstandarize(nasdaq_predict, nasdaq['Adj Close'].values)"
   ]
  },
  {
   "cell_type": "code",
   "execution_count": 314,
   "metadata": {},
   "outputs": [
    {
     "data": {
      "image/png": "[encoded data removed]",
      "text/plain": [
       "<Figure size 1296x576 with 1 Axes>"
      ]
     },
     "metadata": {
      "needs_background": "light"
     },
     "output_type": "display_data"
    }
   ],
   "source": [
    "plot_valid_predict(nasdaq, TRAIN_SPLIT, nasdaq_unstan_predict, 20)"
   ]
  }
 ],
 "metadata": {
  "kernelspec": {
   "display_name": "Python 3",
   "language": "python",
   "name": "python3"
  },
  "language_info": {
   "codemirror_mode": {
    "name": "ipython",
    "version": 3
   },
   "file_extension": ".py",
   "mimetype": "text/x-python",
   "name": "python",
   "nbconvert_exporter": "python",
   "pygments_lexer": "ipython3",
   "version": "3.8.0"
  }
 },
 "nbformat": 4,
 "nbformat_minor": 4
}
