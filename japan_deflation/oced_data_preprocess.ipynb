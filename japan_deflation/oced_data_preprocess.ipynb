{
 "cells": [
  {
   "cell_type": "markdown",
   "metadata": {},
   "source": [
    "# OECD Data Preprocess"
   ]
  },
  {
   "cell_type": "markdown",
   "metadata": {},
   "source": []
  },
  {
   "cell_type": "code",
   "execution_count": 1,
   "metadata": {},
   "outputs": [],
   "source": [
    "import pandas as pd\n",
    "import numpy as np"
   ]
  },
  {
   "cell_type": "code",
   "execution_count": 2,
   "metadata": {},
   "outputs": [],
   "source": [
    "# get data\n",
    "economic_indicator_full = pd.read_csv('data/economic_indicator.csv')\n",
    "population_full = pd.read_csv('data/population.csv')\n",
    "cpi_full = pd.read_csv('data/cpi.csv')\n",
    "gdp_and_production_full = pd.read_csv('data/gdp_and_productivity.csv')\n",
    "health_full = pd.read_csv('data/health.csv')\n",
    "ppp_full = pd.read_csv('data/ppp.csv')\n",
    "productivity_ulc_full = pd.read_csv('data/productivity_ulc.csv')\n",
    "resident_full = pd.read_csv('data/resident.csv')"
   ]
  },
  {
   "cell_type": "code",
   "execution_count": 3,
   "metadata": {},
   "outputs": [],
   "source": [
    "# get relevant columns from data\n",
    "economic_indicator = economic_indicator_full[['Subject', 'Country', 'Time', 'Value']]\n",
    "population = population_full[['Country', 'Time', 'Value']]\n",
    "cpi = cpi_full[['Subject', 'Country', 'Time', 'Value']]\n",
    "gdp_production = gdp_and_production_full[['Subject', 'Country', 'Time', 'Value']]\n",
    "health = health_full[['Function', 'Country', 'Year', 'Value']]\n",
    "ppp = ppp_full[['Indicator', 'Country', 'Time', 'Value']]\n",
    "productivity_ulc = productivity_ulc_full[['Subject', 'Country', 'Time', 'Value']]\n",
    "resident = resident_full[['Subject', 'Country', 'Time', 'Value']]"
   ]
  },
  {
   "cell_type": "markdown",
   "metadata": {},
   "source": [
    "Now we check if all the dataset has the same countries."
   ]
  },
  {
   "cell_type": "code",
   "execution_count": 4,
   "metadata": {},
   "outputs": [],
   "source": [
    "def assert_same_countries(list1, list2):\n",
    "    \"\"\"\n",
    "    Check if lists have some countries\n",
    "    \"\"\"\n",
    "    try:\n",
    "        assert len(list1['Country'].unique()) == len(list2['Country'].unique())\n",
    "    except:\n",
    "        print(\"Country not the same\")\n",
    "\n",
    "        if len(list1['Country'].unique()) > len(list2['Country'].unique()):\n",
    "            print('list 2 missing:')\n",
    "            for col in list1['Country'].unique():\n",
    "                if col not in list2['Country'].unique():\n",
    "                    print(col)\n",
    "        else:\n",
    "            print('list 1 missing:')\n",
    "            for col in list2['Country'].unique():\n",
    "                if col not in list1['Country'].unique():\n",
    "                    print(col)"
   ]
  },
  {
   "cell_type": "markdown",
   "metadata": {},
   "source": [
    "Now we use `assert_same_countries` to see if the data have the same countries."
   ]
  },
  {
   "cell_type": "code",
   "execution_count": 5,
   "metadata": {},
   "outputs": [],
   "source": [
    "assert_same_countries(economic_indicator, population)"
   ]
  },
  {
   "cell_type": "code",
   "execution_count": 6,
   "metadata": {},
   "outputs": [],
   "source": [
    "assert_same_countries(economic_indicator, cpi)"
   ]
  },
  {
   "cell_type": "code",
   "execution_count": 7,
   "metadata": {},
   "outputs": [
    {
     "name": "stdout",
     "output_type": "stream",
     "text": [
      "Country not the same\n",
      "list 2 missing:\n",
      "Argentina\n",
      "Saudi Arabia\n"
     ]
    }
   ],
   "source": [
    "assert_same_countries(economic_indicator, gdp_production)"
   ]
  },
  {
   "cell_type": "code",
   "execution_count": 8,
   "metadata": {},
   "outputs": [
    {
     "name": "stdout",
     "output_type": "stream",
     "text": [
      "Country not the same\n",
      "list 2 missing:\n",
      "Argentina\n",
      "Saudi Arabia\n"
     ]
    }
   ],
   "source": [
    "assert_same_countries(economic_indicator, health)"
   ]
  },
  {
   "cell_type": "code",
   "execution_count": 9,
   "metadata": {},
   "outputs": [
    {
     "name": "stdout",
     "output_type": "stream",
     "text": [
      "Country not the same\n",
      "list 2 missing:\n",
      "Argentina\n",
      "Saudi Arabia\n",
      "Costa Rica\n"
     ]
    }
   ],
   "source": [
    "assert_same_countries(economic_indicator, ppp)"
   ]
  },
  {
   "cell_type": "code",
   "execution_count": 10,
   "metadata": {},
   "outputs": [
    {
     "name": "stdout",
     "output_type": "stream",
     "text": [
      "Country not the same\n",
      "list 2 missing:\n",
      "Argentina\n",
      "Saudi Arabia\n",
      "Costa Rica\n"
     ]
    }
   ],
   "source": [
    "assert_same_countries(economic_indicator, productivity_ulc)"
   ]
  },
  {
   "cell_type": "code",
   "execution_count": 11,
   "metadata": {},
   "outputs": [
    {
     "name": "stdout",
     "output_type": "stream",
     "text": [
      "Country not the same\n",
      "list 2 missing:\n",
      "Argentina\n",
      "Costa Rica\n"
     ]
    }
   ],
   "source": [
    "assert_same_countries(economic_indicator, resident)"
   ]
  },
  {
   "cell_type": "markdown",
   "metadata": {},
   "source": [
    "From the output above, we see that some data are missing Argentina, Saudi Arabia, and Costa Rica. Therefore, the three countries will be dropped from all dataset."
   ]
  },
  {
   "cell_type": "code",
   "execution_count": 12,
   "metadata": {},
   "outputs": [],
   "source": [
    "df_list = []\n",
    "\n",
    "for data in [economic_indicator, population, cpi, gdp_production, health, ppp, productivity_ulc, resident]:\n",
    "    df_list.append(data.loc[(data['Country'] != 'Argentina') & \n",
    "                                          (data['Country'] != 'Saudi Arabia') & \n",
    "                                          (data['Country'] != 'Costa Rica')])"
   ]
  },
  {
   "cell_type": "code",
   "execution_count": 13,
   "metadata": {},
   "outputs": [],
   "source": [
    "economic_indicator = df_list[0]\n",
    "population = df_list[1]\n",
    "cpi = df_list[2]\n",
    "gdp_production = df_list[3]\n",
    "health = df_list[4]\n",
    "ppp = df_list[5]\n",
    "productivity_ulc = df_list[6]\n",
    "resident = df_list[7]"
   ]
  },
  {
   "cell_type": "code",
   "execution_count": 14,
   "metadata": {},
   "outputs": [],
   "source": [
    "assert_same_countries(economic_indicator, population)\n",
    "assert_same_countries(economic_indicator, cpi)\n",
    "assert_same_countries(economic_indicator, gdp_production)\n",
    "assert_same_countries(economic_indicator, health)\n",
    "assert_same_countries(economic_indicator, ppp)\n",
    "assert_same_countries(economic_indicator, productivity_ulc)\n",
    "assert_same_countries(economic_indicator, resident)"
   ]
  },
  {
   "cell_type": "markdown",
   "metadata": {},
   "source": [
    "## Transforming the Data"
   ]
  },
  {
   "cell_type": "code",
   "execution_count": 15,
   "metadata": {},
   "outputs": [],
   "source": [
    "def create_two_dimensional_arr(subject, countries, data):\n",
    "    \"\"\"\n",
    "    \"\"\"\n",
    "    avg_value_subject = []\n",
    "    for subject in subjects:\n",
    "        averages = []\n",
    "        for country in countries:\n",
    "            subject_value_avg = data.loc[(data['Subject'] == subject) & \n",
    "                                                       (data['Country'] == country)]['Value'].mean()\n",
    "            averages.append(subject_value_avg)\n",
    "        avg_value_subject.append(averages)\n",
    "    return avg_value_subject"
   ]
  },
  {
   "cell_type": "code",
   "execution_count": 18,
   "metadata": {},
   "outputs": [],
   "source": [
    "avg_data = []\n",
    "data = [economic_indicator, cpi, gdp_production, productivity_ulc, resident]\n",
    "\n",
    "for datum in data:\n",
    "    subjects = datum['Subject'].unique()\n",
    "    countries = sorted(datum['Country'].unique())\n",
    "    \n",
    "    index_arr = create_two_dimensional_arr(subjects, countries, datum)\n",
    "    \n",
    "    assert len(index_arr[0]) == len(countries)\n",
    "    assert len(index_arr) == len(subjects)\n",
    "    \n",
    "    df = dict(zip(subjects, index_arr))\n",
    "    df_index = pd.DataFrame(df, index=countries)\n",
    "    avg_data.append(df_index)"
   ]
  },
  {
   "cell_type": "code",
   "execution_count": 19,
   "metadata": {},
   "outputs": [],
   "source": [
    "economic_indicator_index = avg_data[0]\n",
    "cpi_index = avg_data[1]\n",
    "gdp_production_index = avg_data[2]\n",
    "productivity_ulc_index = avg_data[3]\n",
    "resident_index = avg_data[4]"
   ]
  },
  {
   "cell_type": "markdown",
   "metadata": {},
   "source": [
    "### Population"
   ]
  },
  {
   "cell_type": "code",
   "execution_count": 20,
   "metadata": {},
   "outputs": [
    {
     "name": "stdout",
     "output_type": "stream",
     "text": [
      "<class 'pandas.core.frame.DataFrame'>\n",
      "Int64Index: 71982 entries, 0 to 77003\n",
      "Data columns (total 3 columns):\n",
      "Country    71982 non-null object\n",
      "Time       71982 non-null int64\n",
      "Value      71982 non-null float64\n",
      "dtypes: float64(1), int64(1), object(1)\n",
      "memory usage: 2.2+ MB\n"
     ]
    }
   ],
   "source": [
    "population.info()"
   ]
  },
  {
   "cell_type": "code",
   "execution_count": 21,
   "metadata": {},
   "outputs": [
    {
     "data": {
      "text/html": [
       "<div>\n",
       "<style scoped>\n",
       "    .dataframe tbody tr th:only-of-type {\n",
       "        vertical-align: middle;\n",
       "    }\n",
       "\n",
       "    .dataframe tbody tr th {\n",
       "        vertical-align: top;\n",
       "    }\n",
       "\n",
       "    .dataframe thead th {\n",
       "        text-align: right;\n",
       "    }\n",
       "</style>\n",
       "<table border=\"1\" class=\"dataframe\">\n",
       "  <thead>\n",
       "    <tr style=\"text-align: right;\">\n",
       "      <th></th>\n",
       "      <th>Country</th>\n",
       "      <th>Time</th>\n",
       "      <th>Value</th>\n",
       "    </tr>\n",
       "  </thead>\n",
       "  <tbody>\n",
       "    <tr>\n",
       "      <th>0</th>\n",
       "      <td>Australia</td>\n",
       "      <td>2001</td>\n",
       "      <td>9712875.0</td>\n",
       "    </tr>\n",
       "    <tr>\n",
       "      <th>1</th>\n",
       "      <td>Australia</td>\n",
       "      <td>2002</td>\n",
       "      <td>9819727.0</td>\n",
       "    </tr>\n",
       "    <tr>\n",
       "      <th>2</th>\n",
       "      <td>Australia</td>\n",
       "      <td>2003</td>\n",
       "      <td>9933140.0</td>\n",
       "    </tr>\n",
       "    <tr>\n",
       "      <th>3</th>\n",
       "      <td>Australia</td>\n",
       "      <td>2004</td>\n",
       "      <td>10036771.0</td>\n",
       "    </tr>\n",
       "    <tr>\n",
       "      <th>4</th>\n",
       "      <td>Australia</td>\n",
       "      <td>2005</td>\n",
       "      <td>10157211.0</td>\n",
       "    </tr>\n",
       "  </tbody>\n",
       "</table>\n",
       "</div>"
      ],
      "text/plain": [
       "     Country  Time       Value\n",
       "0  Australia  2001   9712875.0\n",
       "1  Australia  2002   9819727.0\n",
       "2  Australia  2003   9933140.0\n",
       "3  Australia  2004  10036771.0\n",
       "4  Australia  2005  10157211.0"
      ]
     },
     "execution_count": 21,
     "metadata": {},
     "output_type": "execute_result"
    }
   ],
   "source": [
    "population.head()"
   ]
  },
  {
   "cell_type": "code",
   "execution_count": 22,
   "metadata": {},
   "outputs": [],
   "source": [
    "countries = sorted(population['Country'].unique())"
   ]
  },
  {
   "cell_type": "code",
   "execution_count": 23,
   "metadata": {},
   "outputs": [],
   "source": [
    "mean_values = []\n",
    "\n",
    "for country in countries:\n",
    "    lst = population.loc[population['Country'] == country][['Value']]\n",
    "    aus = [lst[i:i + 18] for i in range(0, len(lst), 18)]\n",
    "    mean = [aus[i].pct_change().dropna().values.mean() for i in range(len(aus))]\n",
    "    mean_values.append(mean)"
   ]
  },
  {
   "cell_type": "code",
   "execution_count": 24,
   "metadata": {},
   "outputs": [],
   "source": [
    "population_mean_dict = dict(zip(countries, mean_values))"
   ]
  },
  {
   "cell_type": "code",
   "execution_count": 25,
   "metadata": {},
   "outputs": [],
   "source": [
    "avg_population = pd.DataFrame(population_mean_dict)\n",
    "population_index = avg_population.T"
   ]
  },
  {
   "cell_type": "code",
   "execution_count": 27,
   "metadata": {},
   "outputs": [
    {
     "data": {
      "text/html": [
       "<div>\n",
       "<style scoped>\n",
       "    .dataframe tbody tr th:only-of-type {\n",
       "        vertical-align: middle;\n",
       "    }\n",
       "\n",
       "    .dataframe tbody tr th {\n",
       "        vertical-align: top;\n",
       "    }\n",
       "\n",
       "    .dataframe thead th {\n",
       "        text-align: right;\n",
       "    }\n",
       "</style>\n",
       "<table border=\"1\" class=\"dataframe\">\n",
       "  <thead>\n",
       "    <tr style=\"text-align: right;\">\n",
       "      <th></th>\n",
       "      <th>0</th>\n",
       "      <th>1</th>\n",
       "      <th>2</th>\n",
       "      <th>3</th>\n",
       "      <th>4</th>\n",
       "      <th>5</th>\n",
       "      <th>6</th>\n",
       "      <th>7</th>\n",
       "      <th>8</th>\n",
       "      <th>9</th>\n",
       "      <th>...</th>\n",
       "      <th>83</th>\n",
       "      <th>84</th>\n",
       "      <th>85</th>\n",
       "      <th>86</th>\n",
       "      <th>87</th>\n",
       "      <th>88</th>\n",
       "      <th>89</th>\n",
       "      <th>90</th>\n",
       "      <th>91</th>\n",
       "      <th>92</th>\n",
       "    </tr>\n",
       "  </thead>\n",
       "  <tbody>\n",
       "    <tr>\n",
       "      <th>Australia</th>\n",
       "      <td>0.015409</td>\n",
       "      <td>0.015399</td>\n",
       "      <td>0.015404</td>\n",
       "      <td>0.012788</td>\n",
       "      <td>0.013029</td>\n",
       "      <td>0.012912</td>\n",
       "      <td>0.010611</td>\n",
       "      <td>0.010593</td>\n",
       "      <td>0.010602</td>\n",
       "      <td>0.006907</td>\n",
       "      <td>...</td>\n",
       "      <td>0.014254</td>\n",
       "      <td>-0.000160</td>\n",
       "      <td>0.002136</td>\n",
       "      <td>0.000976</td>\n",
       "      <td>-0.000817</td>\n",
       "      <td>0.019901</td>\n",
       "      <td>-0.001224</td>\n",
       "      <td>-0.001631</td>\n",
       "      <td>0.022263</td>\n",
       "      <td>0.025514</td>\n",
       "    </tr>\n",
       "    <tr>\n",
       "      <th>Austria</th>\n",
       "      <td>0.004681</td>\n",
       "      <td>0.006498</td>\n",
       "      <td>0.005567</td>\n",
       "      <td>0.003430</td>\n",
       "      <td>0.004044</td>\n",
       "      <td>0.003745</td>\n",
       "      <td>-0.006905</td>\n",
       "      <td>-0.006279</td>\n",
       "      <td>-0.006584</td>\n",
       "      <td>-0.006874</td>\n",
       "      <td>...</td>\n",
       "      <td>0.012429</td>\n",
       "      <td>-0.001670</td>\n",
       "      <td>0.001448</td>\n",
       "      <td>-0.000265</td>\n",
       "      <td>0.059131</td>\n",
       "      <td>-0.000793</td>\n",
       "      <td>-0.001393</td>\n",
       "      <td>0.053378</td>\n",
       "      <td>-0.000240</td>\n",
       "      <td>0.071006</td>\n",
       "    </tr>\n",
       "    <tr>\n",
       "      <th>Belgium</th>\n",
       "      <td>0.005712</td>\n",
       "      <td>0.006472</td>\n",
       "      <td>0.006085</td>\n",
       "      <td>0.003969</td>\n",
       "      <td>0.004259</td>\n",
       "      <td>0.004118</td>\n",
       "      <td>0.005497</td>\n",
       "      <td>0.005562</td>\n",
       "      <td>0.005530</td>\n",
       "      <td>0.002429</td>\n",
       "      <td>...</td>\n",
       "      <td>0.007542</td>\n",
       "      <td>0.001139</td>\n",
       "      <td>0.003637</td>\n",
       "      <td>0.002316</td>\n",
       "      <td>0.035183</td>\n",
       "      <td>-0.001672</td>\n",
       "      <td>-0.000723</td>\n",
       "      <td>0.030503</td>\n",
       "      <td>-0.001192</td>\n",
       "      <td>0.025675</td>\n",
       "    </tr>\n",
       "    <tr>\n",
       "      <th>Brazil</th>\n",
       "      <td>0.010273</td>\n",
       "      <td>0.009609</td>\n",
       "      <td>0.009947</td>\n",
       "      <td>-0.009491</td>\n",
       "      <td>-0.009041</td>\n",
       "      <td>-0.009261</td>\n",
       "      <td>-0.010580</td>\n",
       "      <td>-0.009320</td>\n",
       "      <td>-0.009940</td>\n",
       "      <td>-0.009198</td>\n",
       "      <td>...</td>\n",
       "      <td>0.021941</td>\n",
       "      <td>-0.017064</td>\n",
       "      <td>-0.018461</td>\n",
       "      <td>-0.017705</td>\n",
       "      <td>0.004375</td>\n",
       "      <td>-0.030872</td>\n",
       "      <td>-0.031504</td>\n",
       "      <td>-0.030182</td>\n",
       "      <td>0.004035</td>\n",
       "      <td>0.004729</td>\n",
       "    </tr>\n",
       "    <tr>\n",
       "      <th>Canada</th>\n",
       "      <td>0.010372</td>\n",
       "      <td>0.010666</td>\n",
       "      <td>0.010517</td>\n",
       "      <td>0.006302</td>\n",
       "      <td>0.006351</td>\n",
       "      <td>0.006327</td>\n",
       "      <td>0.000711</td>\n",
       "      <td>0.000369</td>\n",
       "      <td>0.000536</td>\n",
       "      <td>-0.002076</td>\n",
       "      <td>...</td>\n",
       "      <td>0.019703</td>\n",
       "      <td>0.001331</td>\n",
       "      <td>0.001964</td>\n",
       "      <td>0.001635</td>\n",
       "      <td>0.025217</td>\n",
       "      <td>-0.001391</td>\n",
       "      <td>0.029820</td>\n",
       "      <td>-0.001677</td>\n",
       "      <td>0.027329</td>\n",
       "      <td>-0.001532</td>\n",
       "    </tr>\n",
       "  </tbody>\n",
       "</table>\n",
       "<p>5 rows × 93 columns</p>\n",
       "</div>"
      ],
      "text/plain": [
       "                 0         1         2         3         4         5   \\\n",
       "Australia  0.015409  0.015399  0.015404  0.012788  0.013029  0.012912   \n",
       "Austria    0.004681  0.006498  0.005567  0.003430  0.004044  0.003745   \n",
       "Belgium    0.005712  0.006472  0.006085  0.003969  0.004259  0.004118   \n",
       "Brazil     0.010273  0.009609  0.009947 -0.009491 -0.009041 -0.009261   \n",
       "Canada     0.010372  0.010666  0.010517  0.006302  0.006351  0.006327   \n",
       "\n",
       "                 6         7         8         9   ...        83        84  \\\n",
       "Australia  0.010611  0.010593  0.010602  0.006907  ...  0.014254 -0.000160   \n",
       "Austria   -0.006905 -0.006279 -0.006584 -0.006874  ...  0.012429 -0.001670   \n",
       "Belgium    0.005497  0.005562  0.005530  0.002429  ...  0.007542  0.001139   \n",
       "Brazil    -0.010580 -0.009320 -0.009940 -0.009198  ...  0.021941 -0.017064   \n",
       "Canada     0.000711  0.000369  0.000536 -0.002076  ...  0.019703  0.001331   \n",
       "\n",
       "                 85        86        87        88        89        90  \\\n",
       "Australia  0.002136  0.000976 -0.000817  0.019901 -0.001224 -0.001631   \n",
       "Austria    0.001448 -0.000265  0.059131 -0.000793 -0.001393  0.053378   \n",
       "Belgium    0.003637  0.002316  0.035183 -0.001672 -0.000723  0.030503   \n",
       "Brazil    -0.018461 -0.017705  0.004375 -0.030872 -0.031504 -0.030182   \n",
       "Canada     0.001964  0.001635  0.025217 -0.001391  0.029820 -0.001677   \n",
       "\n",
       "                 91        92  \n",
       "Australia  0.022263  0.025514  \n",
       "Austria   -0.000240  0.071006  \n",
       "Belgium   -0.001192  0.025675  \n",
       "Brazil     0.004035  0.004729  \n",
       "Canada     0.027329 -0.001532  \n",
       "\n",
       "[5 rows x 93 columns]"
      ]
     },
     "execution_count": 27,
     "metadata": {},
     "output_type": "execute_result"
    }
   ],
   "source": [
    "population_index.head()"
   ]
  },
  {
   "cell_type": "markdown",
   "metadata": {},
   "source": [
    "### Health"
   ]
  },
  {
   "cell_type": "markdown",
   "metadata": {},
   "source": [
    "### Purchasing Power Parity"
   ]
  }
 ],
 "metadata": {
  "kernelspec": {
   "display_name": "Python 3",
   "language": "python",
   "name": "python3"
  },
  "language_info": {
   "codemirror_mode": {
    "name": "ipython",
    "version": 3
   },
   "file_extension": ".py",
   "mimetype": "text/x-python",
   "name": "python",
   "nbconvert_exporter": "python",
   "pygments_lexer": "ipython3",
   "version": "3.8.0"
  }
 },
 "nbformat": 4,
 "nbformat_minor": 4
}
