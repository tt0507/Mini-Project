{
 "cells": [
  {
   "cell_type": "markdown",
   "metadata": {},
   "source": [
    "# OECD Data Preprocess"
   ]
  },
  {
   "cell_type": "markdown",
   "metadata": {},
   "source": []
  },
  {
   "cell_type": "code",
   "execution_count": 1,
   "metadata": {},
   "outputs": [],
   "source": [
    "import pandas as pd\n",
    "import numpy as np"
   ]
  },
  {
   "cell_type": "code",
   "execution_count": 2,
   "metadata": {},
   "outputs": [],
   "source": [
    "# get data\n",
    "economic_indicator_full = pd.read_csv('data/economic_indicator.csv')\n",
    "population_full = pd.read_csv('data/population.csv')\n",
    "cpi_full = pd.read_csv('data/cpi.csv')\n",
    "gdp_and_production_full = pd.read_csv('data/gdp_and_productivity.csv')\n",
    "health_full = pd.read_csv('data/health.csv')\n",
    "ppp_full = pd.read_csv('data/ppp.csv')\n",
    "productivity_ulc_full = pd.read_csv('data/productivity_ulc.csv')\n",
    "resident_full = pd.read_csv('data/resident.csv')"
   ]
  },
  {
   "cell_type": "code",
   "execution_count": 3,
   "metadata": {},
   "outputs": [],
   "source": [
    "# get relevant columns from data\n",
    "economic_indicator = economic_indicator_full[['Subject', 'Country', 'Time', 'Value']]\n",
    "population = population_full[['Country', 'Time', 'Value']]\n",
    "cpi = cpi_full[['Subject', 'Country', 'Time', 'Value']]\n",
    "gdp_production = gdp_and_production_full[['Subject', 'Country', 'Time', 'Value']]\n",
    "health = health_full[['Function', 'Country', 'Year', 'Value']]\n",
    "ppp = ppp_full[['Indicator', 'Country', 'Time', 'Value']]\n",
    "productivity_ulc = productivity_ulc_full[['Subject', 'Country', 'Time', 'Value']]\n",
    "resident = resident_full[['Subject', 'Country', 'Time', 'Value']]"
   ]
  },
  {
   "cell_type": "markdown",
   "metadata": {},
   "source": [
    "Now we check if all the dataset has the same countries."
   ]
  },
  {
   "cell_type": "code",
   "execution_count": 4,
   "metadata": {},
   "outputs": [],
   "source": [
    "def assert_same_countries(list1, list2):\n",
    "    \"\"\"\n",
    "    Check if lists have some countries\n",
    "    \"\"\"\n",
    "    try:\n",
    "        assert len(list1['Country'].unique()) == len(list2['Country'].unique())\n",
    "    except:\n",
    "        print(\"Country not the same\")\n",
    "\n",
    "        if len(list1['Country'].unique()) > len(list2['Country'].unique()):\n",
    "            print('list 2 missing:')\n",
    "            for col in list1['Country'].unique():\n",
    "                if col not in list2['Country'].unique():\n",
    "                    print(col)\n",
    "        else:\n",
    "            print('list 1 missing:')\n",
    "            for col in list2['Country'].unique():\n",
    "                if col not in list1['Country'].unique():\n",
    "                    print(col)"
   ]
  },
  {
   "cell_type": "markdown",
   "metadata": {},
   "source": [
    "Now we use `assert_same_countries` to see if the data have the same countries."
   ]
  },
  {
   "cell_type": "code",
   "execution_count": 5,
   "metadata": {},
   "outputs": [],
   "source": [
    "assert_same_countries(economic_indicator, population)"
   ]
  },
  {
   "cell_type": "code",
   "execution_count": 6,
   "metadata": {},
   "outputs": [],
   "source": [
    "assert_same_countries(economic_indicator, cpi)"
   ]
  },
  {
   "cell_type": "code",
   "execution_count": 7,
   "metadata": {},
   "outputs": [
    {
     "name": "stdout",
     "output_type": "stream",
     "text": [
      "Country not the same\n",
      "list 2 missing:\n",
      "Argentina\n",
      "Saudi Arabia\n"
     ]
    }
   ],
   "source": [
    "assert_same_countries(economic_indicator, gdp_production)"
   ]
  },
  {
   "cell_type": "code",
   "execution_count": 8,
   "metadata": {},
   "outputs": [
    {
     "name": "stdout",
     "output_type": "stream",
     "text": [
      "Country not the same\n",
      "list 2 missing:\n",
      "Argentina\n",
      "Saudi Arabia\n"
     ]
    }
   ],
   "source": [
    "assert_same_countries(economic_indicator, health)"
   ]
  },
  {
   "cell_type": "code",
   "execution_count": 9,
   "metadata": {},
   "outputs": [
    {
     "name": "stdout",
     "output_type": "stream",
     "text": [
      "Country not the same\n",
      "list 2 missing:\n",
      "Argentina\n",
      "Saudi Arabia\n",
      "Costa Rica\n"
     ]
    }
   ],
   "source": [
    "assert_same_countries(economic_indicator, ppp)"
   ]
  },
  {
   "cell_type": "code",
   "execution_count": 10,
   "metadata": {},
   "outputs": [
    {
     "name": "stdout",
     "output_type": "stream",
     "text": [
      "Country not the same\n",
      "list 2 missing:\n",
      "Argentina\n",
      "Saudi Arabia\n",
      "Costa Rica\n"
     ]
    }
   ],
   "source": [
    "assert_same_countries(economic_indicator, productivity_ulc)"
   ]
  },
  {
   "cell_type": "code",
   "execution_count": 11,
   "metadata": {},
   "outputs": [
    {
     "name": "stdout",
     "output_type": "stream",
     "text": [
      "Country not the same\n",
      "list 2 missing:\n",
      "Argentina\n",
      "Costa Rica\n"
     ]
    }
   ],
   "source": [
    "assert_same_countries(economic_indicator, resident)"
   ]
  },
  {
   "cell_type": "markdown",
   "metadata": {},
   "source": [
    "From the output above, we see that some data are missing Argentina, Saudi Arabia, and Costa Rica. Therefore, the three countries will be dropped from all dataset."
   ]
  },
  {
   "cell_type": "code",
   "execution_count": 23,
   "metadata": {},
   "outputs": [],
   "source": [
    "df_list = []\n",
    "\n",
    "for data in [economic_indicator, population, cpi, gdp_production, health, ppp, productivity_ulc, resident]:\n",
    "    df_list.append(data.loc[(data['Country'] != 'Argentina') & \n",
    "                                          (data['Country'] != 'Saudi Arabia') & \n",
    "                                          (data['Country'] != 'Costa Rica')])"
   ]
  },
  {
   "cell_type": "code",
   "execution_count": 25,
   "metadata": {},
   "outputs": [],
   "source": [
    "economic_indicator = df_list[0]\n",
    "population = df_list[1]\n",
    "cpi = df_list[2]\n",
    "gdp_production = df_list[3]\n",
    "health = df_list[4]\n",
    "ppp = df_list[5]\n",
    "productivity_ulc = df_list[6]\n",
    "resident = df_list[7]"
   ]
  },
  {
   "cell_type": "code",
   "execution_count": 26,
   "metadata": {},
   "outputs": [],
   "source": [
    "assert_same_countries(economic_indicator, population)\n",
    "assert_same_countries(economic_indicator, cpi)\n",
    "assert_same_countries(economic_indicator, gdp_production)\n",
    "assert_same_countries(economic_indicator, health)\n",
    "assert_same_countries(economic_indicator, ppp)\n",
    "assert_same_countries(economic_indicator, productivity_ulc)\n",
    "assert_same_countries(economic_indicator, resident)"
   ]
  },
  {
   "cell_type": "markdown",
   "metadata": {},
   "source": [
    "## Economic Indicator"
   ]
  },
  {
   "cell_type": "code",
   "execution_count": 27,
   "metadata": {},
   "outputs": [
    {
     "name": "stdout",
     "output_type": "stream",
     "text": [
      "<class 'pandas.core.frame.DataFrame'>\n",
      "Int64Index: 41670 entries, 0 to 42630\n",
      "Data columns (total 4 columns):\n",
      "Subject    41670 non-null object\n",
      "Country    41670 non-null object\n",
      "Time       41670 non-null int64\n",
      "Value      41670 non-null float64\n",
      "dtypes: float64(1), int64(1), object(2)\n",
      "memory usage: 1.6+ MB\n"
     ]
    }
   ],
   "source": [
    "# check if there are null values\n",
    "economic_indicator.info()"
   ]
  },
  {
   "cell_type": "code",
   "execution_count": 31,
   "metadata": {},
   "outputs": [
    {
     "name": "stdout",
     "output_type": "stream",
     "text": [
      "# of subject: 26, # of countries: 43\n"
     ]
    }
   ],
   "source": [
    "print(\"# of subject: {}, # of countries: {}\".format(len(economic_indicator['Subject'].unique()),\n",
    "                                                    len(economic_indicator['Country'].unique())))"
   ]
  },
  {
   "cell_type": "code",
   "execution_count": 68,
   "metadata": {},
   "outputs": [],
   "source": [
    "def create_two_dimensional_arr(subject, countries, data):\n",
    "    \"\"\"\n",
    "    \"\"\"\n",
    "    avg_value_subject = []\n",
    "    for country in countries:\n",
    "        averages = []\n",
    "        for subject in subjects:\n",
    "            subject_value_avg = data.loc[(data['Subject'] == subject) & \n",
    "                                                       (data['Country'] == country)]['Value'].mean()\n",
    "            averages.append(subject_value_avg)\n",
    "        avg_value_subject.append(averages)\n",
    "    return avg_value_subject"
   ]
  },
  {
   "cell_type": "code",
   "execution_count": 69,
   "metadata": {},
   "outputs": [],
   "source": [
    "subjects = economic_indicator['Subject'].unique()\n",
    "countries = sorted(economic_indicator['Country'].unique()) # sort country list by alphabetical order\n",
    "\n",
    "econ_indi_arr = create_two_dimensional_arr(subjects, countries, economic_indicator)"
   ]
  },
  {
   "cell_type": "code",
   "execution_count": 72,
   "metadata": {},
   "outputs": [],
   "source": [
    "assert len(econ_indi_arr) == len(economic_indicator['Country'].unique())\n",
    "assert len(econ_indi_arr[0]) == len(economic_indicator['Subject'].unique())"
   ]
  },
  {
   "cell_type": "code",
   "execution_count": null,
   "metadata": {},
   "outputs": [],
   "source": []
  }
 ],
 "metadata": {
  "kernelspec": {
   "display_name": "Python 3",
   "language": "python",
   "name": "python3"
  },
  "language_info": {
   "codemirror_mode": {
    "name": "ipython",
    "version": 3
   },
   "file_extension": ".py",
   "mimetype": "text/x-python",
   "name": "python",
   "nbconvert_exporter": "python",
   "pygments_lexer": "ipython3",
   "version": "3.8.0"
  }
 },
 "nbformat": 4,
 "nbformat_minor": 4
}
