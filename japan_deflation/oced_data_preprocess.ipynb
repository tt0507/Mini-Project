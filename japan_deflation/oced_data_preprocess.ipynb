{
 "cells": [
  {
   "cell_type": "markdown",
   "metadata": {},
   "source": [
    "# OECD Data Preprocess"
   ]
  },
  {
   "cell_type": "markdown",
   "metadata": {},
   "source": []
  },
  {
   "cell_type": "code",
   "execution_count": 1,
   "metadata": {},
   "outputs": [],
   "source": [
    "import pandas as pd\n",
    "import numpy as np"
   ]
  },
  {
   "cell_type": "code",
   "execution_count": 2,
   "metadata": {},
   "outputs": [],
   "source": [
    "# get data\n",
    "economic_indicator_full = pd.read_csv('data/economic_indicator.csv')\n",
    "population_full = pd.read_csv('data/population.csv')\n",
    "cpi_full = pd.read_csv('data/cpi.csv')\n",
    "gdp_and_production_full = pd.read_csv('data/gdp_and_productivity.csv')\n",
    "health_full = pd.read_csv('data/health.csv')\n",
    "ppp_full = pd.read_csv('data/ppp.csv')\n",
    "productivity_ulc_full = pd.read_csv('data/productivity_ulc.csv')\n",
    "resident_full = pd.read_csv('data/resident.csv')"
   ]
  },
  {
   "cell_type": "code",
   "execution_count": 3,
   "metadata": {},
   "outputs": [],
   "source": [
    "# get relevant columns from data\n",
    "economic_indicator = economic_indicator_full[['Subject', 'Country', 'Time', 'Value']]\n",
    "population = population_full[['Country', 'Time', 'Value']]\n",
    "cpi = cpi_full[['Subject', 'Country', 'Time', 'Value']]\n",
    "gdp_production = gdp_and_production_full[['Subject', 'Country', 'Time', 'Value']]\n",
    "health = health_full[['Function', 'Country', 'Year', 'Value']]\n",
    "ppp = ppp_full[['Indicator', 'Country', 'Time', 'Value']]\n",
    "productivity_ulc = productivity_ulc_full[['Subject', 'Country', 'Time', 'Value']]\n",
    "resident = resident_full[['Subject', 'Country', 'Time', 'Value']]"
   ]
  },
  {
   "cell_type": "markdown",
   "metadata": {},
   "source": [
    "Now we check if all the dataset has the same countries."
   ]
  },
  {
   "cell_type": "code",
   "execution_count": 4,
   "metadata": {},
   "outputs": [],
   "source": [
    "def assert_same_countries(list1, list2):\n",
    "    \"\"\"\n",
    "    Check if lists have some countries\n",
    "    \"\"\"\n",
    "    try:\n",
    "        assert len(list1['Country'].unique()) == len(list2['Country'].unique())\n",
    "    except:\n",
    "        print(\"Country not the same\")\n",
    "\n",
    "        if len(list1['Country'].unique()) > len(list2['Country'].unique()):\n",
    "            print('list 2 missing:')\n",
    "            for col in list1['Country'].unique():\n",
    "                if col not in list2['Country'].unique():\n",
    "                    print(col)\n",
    "        else:\n",
    "            print('list 1 missing:')\n",
    "            for col in list2['Country'].unique():\n",
    "                if col not in list1['Country'].unique():\n",
    "                    print(col)"
   ]
  },
  {
   "cell_type": "markdown",
   "metadata": {},
   "source": [
    "Now we use `assert_same_countries` to see if the data have the same countries."
   ]
  },
  {
   "cell_type": "code",
   "execution_count": 5,
   "metadata": {},
   "outputs": [],
   "source": [
    "assert_same_countries(economic_indicator, population)"
   ]
  },
  {
   "cell_type": "code",
   "execution_count": 6,
   "metadata": {},
   "outputs": [],
   "source": [
    "assert_same_countries(economic_indicator, cpi)"
   ]
  },
  {
   "cell_type": "code",
   "execution_count": 7,
   "metadata": {},
   "outputs": [
    {
     "name": "stdout",
     "output_type": "stream",
     "text": [
      "Country not the same\n",
      "list 2 missing:\n",
      "Argentina\n",
      "Saudi Arabia\n"
     ]
    }
   ],
   "source": [
    "assert_same_countries(economic_indicator, gdp_production)"
   ]
  },
  {
   "cell_type": "code",
   "execution_count": 8,
   "metadata": {},
   "outputs": [
    {
     "name": "stdout",
     "output_type": "stream",
     "text": [
      "Country not the same\n",
      "list 2 missing:\n",
      "Argentina\n",
      "Saudi Arabia\n"
     ]
    }
   ],
   "source": [
    "assert_same_countries(economic_indicator, health)"
   ]
  },
  {
   "cell_type": "code",
   "execution_count": 9,
   "metadata": {},
   "outputs": [
    {
     "name": "stdout",
     "output_type": "stream",
     "text": [
      "Country not the same\n",
      "list 2 missing:\n",
      "Argentina\n",
      "Saudi Arabia\n",
      "Costa Rica\n"
     ]
    }
   ],
   "source": [
    "assert_same_countries(economic_indicator, ppp)"
   ]
  },
  {
   "cell_type": "code",
   "execution_count": 10,
   "metadata": {},
   "outputs": [
    {
     "name": "stdout",
     "output_type": "stream",
     "text": [
      "Country not the same\n",
      "list 2 missing:\n",
      "Argentina\n",
      "Saudi Arabia\n",
      "Costa Rica\n"
     ]
    }
   ],
   "source": [
    "assert_same_countries(economic_indicator, productivity_ulc)"
   ]
  },
  {
   "cell_type": "code",
   "execution_count": 11,
   "metadata": {},
   "outputs": [
    {
     "name": "stdout",
     "output_type": "stream",
     "text": [
      "Country not the same\n",
      "list 2 missing:\n",
      "Argentina\n",
      "Costa Rica\n"
     ]
    }
   ],
   "source": [
    "assert_same_countries(economic_indicator, resident)"
   ]
  },
  {
   "cell_type": "markdown",
   "metadata": {},
   "source": [
    "From the output above, we see that some data are missing Argentina, Saudi Arabia, and Costa Rica. Therefore, the three countries will be dropped from all dataset."
   ]
  },
  {
   "cell_type": "code",
   "execution_count": 12,
   "metadata": {},
   "outputs": [],
   "source": [
    "df_list = []\n",
    "\n",
    "for data in [economic_indicator, population, cpi, gdp_production, health, ppp, productivity_ulc, resident]:\n",
    "    df_list.append(data.loc[(data['Country'] != 'Argentina') & \n",
    "                                          (data['Country'] != 'Saudi Arabia') & \n",
    "                                          (data['Country'] != 'Costa Rica')])"
   ]
  },
  {
   "cell_type": "code",
   "execution_count": 13,
   "metadata": {},
   "outputs": [],
   "source": [
    "economic_indicator = df_list[0]\n",
    "population = df_list[1]\n",
    "cpi = df_list[2]\n",
    "gdp_production = df_list[3]\n",
    "health = df_list[4]\n",
    "ppp = df_list[5]\n",
    "productivity_ulc = df_list[6]\n",
    "resident = df_list[7]"
   ]
  },
  {
   "cell_type": "code",
   "execution_count": 14,
   "metadata": {},
   "outputs": [],
   "source": [
    "assert_same_countries(economic_indicator, population)\n",
    "assert_same_countries(economic_indicator, cpi)\n",
    "assert_same_countries(economic_indicator, gdp_production)\n",
    "assert_same_countries(economic_indicator, health)\n",
    "assert_same_countries(economic_indicator, ppp)\n",
    "assert_same_countries(economic_indicator, productivity_ulc)\n",
    "assert_same_countries(economic_indicator, resident)"
   ]
  },
  {
   "cell_type": "markdown",
   "metadata": {},
   "source": [
    "## Economic Indicator"
   ]
  },
  {
   "cell_type": "code",
   "execution_count": 15,
   "metadata": {},
   "outputs": [
    {
     "name": "stdout",
     "output_type": "stream",
     "text": [
      "<class 'pandas.core.frame.DataFrame'>\n",
      "Int64Index: 41670 entries, 0 to 42630\n",
      "Data columns (total 4 columns):\n",
      "Subject    41670 non-null object\n",
      "Country    41670 non-null object\n",
      "Time       41670 non-null int64\n",
      "Value      41670 non-null float64\n",
      "dtypes: float64(1), int64(1), object(2)\n",
      "memory usage: 1.6+ MB\n"
     ]
    }
   ],
   "source": [
    "# check if there are null values\n",
    "economic_indicator.info()"
   ]
  },
  {
   "cell_type": "code",
   "execution_count": 16,
   "metadata": {},
   "outputs": [
    {
     "name": "stdout",
     "output_type": "stream",
     "text": [
      "# of subject: 26, # of countries: 43\n"
     ]
    }
   ],
   "source": [
    "print(\"# of subject: {}, # of countries: {}\".format(len(economic_indicator['Subject'].unique()),\n",
    "                                                    len(economic_indicator['Country'].unique())))"
   ]
  },
  {
   "cell_type": "code",
   "execution_count": 17,
   "metadata": {},
   "outputs": [],
   "source": [
    "def create_two_dimensional_arr(subject, countries, data):\n",
    "    \"\"\"\n",
    "    \"\"\"\n",
    "    avg_value_subject = []\n",
    "    for subject in subjects:\n",
    "        averages = []\n",
    "        for country in countries:\n",
    "            subject_value_avg = data.loc[(data['Subject'] == subject) & \n",
    "                                                       (data['Country'] == country)]['Value'].mean()\n",
    "            averages.append(subject_value_avg)\n",
    "        avg_value_subject.append(averages)\n",
    "    return avg_value_subject"
   ]
  },
  {
   "cell_type": "code",
   "execution_count": 18,
   "metadata": {},
   "outputs": [],
   "source": [
    "subjects = economic_indicator['Subject'].unique()\n",
    "countries = sorted(economic_indicator['Country'].unique()) # sort country list by alphabetical order\n",
    "\n",
    "econ_indi_arr = create_two_dimensional_arr(subjects, countries, economic_indicator)"
   ]
  },
  {
   "cell_type": "code",
   "execution_count": 19,
   "metadata": {},
   "outputs": [],
   "source": [
    "assert len(econ_indi_arr[0]) == len(economic_indicator['Country'].unique())\n",
    "assert len(econ_indi_arr) == len(economic_indicator['Subject'].unique())"
   ]
  },
  {
   "cell_type": "code",
   "execution_count": 20,
   "metadata": {},
   "outputs": [],
   "source": [
    "data = dict(zip(subjects, econ_indi_arr))\n",
    "avg_economic_indicator = pd.DataFrame(data, index=countries)"
   ]
  },
  {
   "cell_type": "code",
   "execution_count": 21,
   "metadata": {},
   "outputs": [
    {
     "data": {
      "text/html": [
       "<div>\n",
       "<style scoped>\n",
       "    .dataframe tbody tr th:only-of-type {\n",
       "        vertical-align: middle;\n",
       "    }\n",
       "\n",
       "    .dataframe tbody tr th {\n",
       "        vertical-align: top;\n",
       "    }\n",
       "\n",
       "    .dataframe thead th {\n",
       "        text-align: right;\n",
       "    }\n",
       "</style>\n",
       "<table border=\"1\" class=\"dataframe\">\n",
       "  <thead>\n",
       "    <tr style=\"text-align: right;\">\n",
       "      <th></th>\n",
       "      <th>Exports in goods, s.a.</th>\n",
       "      <th>Imports in goods, s.a.</th>\n",
       "      <th>Share prices</th>\n",
       "      <th>Consumer prices: all items</th>\n",
       "      <th>Industrial production, s.a.</th>\n",
       "      <th>Permits issued for dwellings, s.a.</th>\n",
       "      <th>Passenger car registrations, s.a.</th>\n",
       "      <th>Retail trade (Volume), s.a.</th>\n",
       "      <th>Gross domestic product; constant prices, s.a.</th>\n",
       "      <th>GDP Private final consumption expenditure; constant prices, s.a.</th>\n",
       "      <th>...</th>\n",
       "      <th>Overnight interbank rate</th>\n",
       "      <th>Long-term interest rate</th>\n",
       "      <th>Exchange rates,  monthly averages, National currency per US dollar</th>\n",
       "      <th>3 month interbank rate</th>\n",
       "      <th>Harmonised unemployment rate: all persons, s.a.</th>\n",
       "      <th>Broad money, s.a.</th>\n",
       "      <th>Unit labour cost: Total Economy, s.a.</th>\n",
       "      <th>Total manufacturing, s.a.</th>\n",
       "      <th>Construction, s.a.</th>\n",
       "      <th>Current account as a % of GDP, s.a.</th>\n",
       "    </tr>\n",
       "  </thead>\n",
       "  <tbody>\n",
       "    <tr>\n",
       "      <th>Australia</th>\n",
       "      <td>65.066161</td>\n",
       "      <td>62.010703</td>\n",
       "      <td>4.435165</td>\n",
       "      <td>31.276290</td>\n",
       "      <td>31.347402</td>\n",
       "      <td>26.279443</td>\n",
       "      <td>32.962547</td>\n",
       "      <td>31.039611</td>\n",
       "      <td>2.846152</td>\n",
       "      <td>3.146623</td>\n",
       "      <td>...</td>\n",
       "      <td>3.706842</td>\n",
       "      <td>4.370501</td>\n",
       "      <td>1.311715</td>\n",
       "      <td>4.038026</td>\n",
       "      <td>5.447924</td>\n",
       "      <td>29.365487</td>\n",
       "      <td>31.477237</td>\n",
       "      <td>34.605469</td>\n",
       "      <td>30.277256</td>\n",
       "      <td>-3.954578</td>\n",
       "    </tr>\n",
       "    <tr>\n",
       "      <th>Austria</th>\n",
       "      <td>52.938333</td>\n",
       "      <td>54.467084</td>\n",
       "      <td>7.284979</td>\n",
       "      <td>31.701839</td>\n",
       "      <td>32.603948</td>\n",
       "      <td>NaN</td>\n",
       "      <td>34.516842</td>\n",
       "      <td>32.933805</td>\n",
       "      <td>1.550005</td>\n",
       "      <td>1.177416</td>\n",
       "      <td>...</td>\n",
       "      <td>1.193111</td>\n",
       "      <td>2.787935</td>\n",
       "      <td>0.831370</td>\n",
       "      <td>1.544161</td>\n",
       "      <td>5.042105</td>\n",
       "      <td>NaN</td>\n",
       "      <td>31.462773</td>\n",
       "      <td>32.523495</td>\n",
       "      <td>34.861578</td>\n",
       "      <td>2.247881</td>\n",
       "    </tr>\n",
       "    <tr>\n",
       "      <th>Belgium</th>\n",
       "      <td>132.521391</td>\n",
       "      <td>127.287131</td>\n",
       "      <td>3.598502</td>\n",
       "      <td>32.057675</td>\n",
       "      <td>33.280718</td>\n",
       "      <td>38.036488</td>\n",
       "      <td>34.359046</td>\n",
       "      <td>31.924394</td>\n",
       "      <td>1.580833</td>\n",
       "      <td>1.368922</td>\n",
       "      <td>...</td>\n",
       "      <td>1.193111</td>\n",
       "      <td>2.957237</td>\n",
       "      <td>0.831370</td>\n",
       "      <td>1.544161</td>\n",
       "      <td>7.606579</td>\n",
       "      <td>NaN</td>\n",
       "      <td>32.369499</td>\n",
       "      <td>32.565987</td>\n",
       "      <td>51.093849</td>\n",
       "      <td>0.899500</td>\n",
       "    </tr>\n",
       "    <tr>\n",
       "      <th>Brazil</th>\n",
       "      <td>63.382781</td>\n",
       "      <td>53.096924</td>\n",
       "      <td>11.892222</td>\n",
       "      <td>30.001269</td>\n",
       "      <td>34.055932</td>\n",
       "      <td>NaN</td>\n",
       "      <td>NaN</td>\n",
       "      <td>28.788349</td>\n",
       "      <td>2.286007</td>\n",
       "      <td>2.713431</td>\n",
       "      <td>...</td>\n",
       "      <td>12.631579</td>\n",
       "      <td>NaN</td>\n",
       "      <td>2.587612</td>\n",
       "      <td>NaN</td>\n",
       "      <td>NaN</td>\n",
       "      <td>29.341794</td>\n",
       "      <td>NaN</td>\n",
       "      <td>34.668558</td>\n",
       "      <td>32.901928</td>\n",
       "      <td>-1.619464</td>\n",
       "    </tr>\n",
       "    <tr>\n",
       "      <th>Canada</th>\n",
       "      <td>131.896120</td>\n",
       "      <td>127.755152</td>\n",
       "      <td>3.512017</td>\n",
       "      <td>32.056941</td>\n",
       "      <td>33.092914</td>\n",
       "      <td>32.333241</td>\n",
       "      <td>35.071111</td>\n",
       "      <td>31.514421</td>\n",
       "      <td>1.967490</td>\n",
       "      <td>2.766567</td>\n",
       "      <td>...</td>\n",
       "      <td>1.802758</td>\n",
       "      <td>3.175885</td>\n",
       "      <td>1.217234</td>\n",
       "      <td>2.072132</td>\n",
       "      <td>6.941667</td>\n",
       "      <td>29.977154</td>\n",
       "      <td>31.336217</td>\n",
       "      <td>34.354295</td>\n",
       "      <td>30.622559</td>\n",
       "      <td>-1.068944</td>\n",
       "    </tr>\n",
       "  </tbody>\n",
       "</table>\n",
       "<p>5 rows × 26 columns</p>\n",
       "</div>"
      ],
      "text/plain": [
       "           Exports in goods, s.a.  Imports in goods, s.a.  Share prices  \\\n",
       "Australia               65.066161               62.010703      4.435165   \n",
       "Austria                 52.938333               54.467084      7.284979   \n",
       "Belgium                132.521391              127.287131      3.598502   \n",
       "Brazil                  63.382781               53.096924     11.892222   \n",
       "Canada                 131.896120              127.755152      3.512017   \n",
       "\n",
       "           Consumer prices: all items  Industrial production, s.a.  \\\n",
       "Australia                   31.276290                    31.347402   \n",
       "Austria                     31.701839                    32.603948   \n",
       "Belgium                     32.057675                    33.280718   \n",
       "Brazil                      30.001269                    34.055932   \n",
       "Canada                      32.056941                    33.092914   \n",
       "\n",
       "           Permits issued for dwellings, s.a.  \\\n",
       "Australia                           26.279443   \n",
       "Austria                                   NaN   \n",
       "Belgium                             38.036488   \n",
       "Brazil                                    NaN   \n",
       "Canada                              32.333241   \n",
       "\n",
       "           Passenger car registrations, s.a.  Retail trade (Volume), s.a.  \\\n",
       "Australia                          32.962547                    31.039611   \n",
       "Austria                            34.516842                    32.933805   \n",
       "Belgium                            34.359046                    31.924394   \n",
       "Brazil                                   NaN                    28.788349   \n",
       "Canada                             35.071111                    31.514421   \n",
       "\n",
       "           Gross domestic product; constant prices, s.a.  \\\n",
       "Australia                                       2.846152   \n",
       "Austria                                         1.550005   \n",
       "Belgium                                         1.580833   \n",
       "Brazil                                          2.286007   \n",
       "Canada                                          1.967490   \n",
       "\n",
       "           GDP Private final consumption expenditure; constant prices, s.a.  \\\n",
       "Australia                                           3.146623                  \n",
       "Austria                                             1.177416                  \n",
       "Belgium                                             1.368922                  \n",
       "Brazil                                              2.713431                  \n",
       "Canada                                              2.766567                  \n",
       "\n",
       "           ...  Overnight interbank rate  Long-term interest rate  \\\n",
       "Australia  ...                  3.706842                 4.370501   \n",
       "Austria    ...                  1.193111                 2.787935   \n",
       "Belgium    ...                  1.193111                 2.957237   \n",
       "Brazil     ...                 12.631579                      NaN   \n",
       "Canada     ...                  1.802758                 3.175885   \n",
       "\n",
       "           Exchange rates,  monthly averages, National currency per US dollar  \\\n",
       "Australia                                           1.311715                    \n",
       "Austria                                             0.831370                    \n",
       "Belgium                                             0.831370                    \n",
       "Brazil                                              2.587612                    \n",
       "Canada                                              1.217234                    \n",
       "\n",
       "           3 month interbank rate  \\\n",
       "Australia                4.038026   \n",
       "Austria                  1.544161   \n",
       "Belgium                  1.544161   \n",
       "Brazil                        NaN   \n",
       "Canada                   2.072132   \n",
       "\n",
       "           Harmonised unemployment rate: all persons, s.a.  Broad money, s.a.  \\\n",
       "Australia                                         5.447924          29.365487   \n",
       "Austria                                           5.042105                NaN   \n",
       "Belgium                                           7.606579                NaN   \n",
       "Brazil                                                 NaN          29.341794   \n",
       "Canada                                            6.941667          29.977154   \n",
       "\n",
       "           Unit labour cost: Total Economy, s.a.  Total manufacturing, s.a.  \\\n",
       "Australia                              31.477237                  34.605469   \n",
       "Austria                                31.462773                  32.523495   \n",
       "Belgium                                32.369499                  32.565987   \n",
       "Brazil                                       NaN                  34.668558   \n",
       "Canada                                 31.336217                  34.354295   \n",
       "\n",
       "           Construction, s.a.  Current account as a % of GDP, s.a.  \n",
       "Australia           30.277256                            -3.954578  \n",
       "Austria             34.861578                             2.247881  \n",
       "Belgium             51.093849                             0.899500  \n",
       "Brazil              32.901928                            -1.619464  \n",
       "Canada              30.622559                            -1.068944  \n",
       "\n",
       "[5 rows x 26 columns]"
      ]
     },
     "execution_count": 21,
     "metadata": {},
     "output_type": "execute_result"
    }
   ],
   "source": [
    "avg_economic_indicator.head()"
   ]
  },
  {
   "cell_type": "markdown",
   "metadata": {},
   "source": [
    "## Population"
   ]
  },
  {
   "cell_type": "code",
   "execution_count": 22,
   "metadata": {},
   "outputs": [
    {
     "name": "stdout",
     "output_type": "stream",
     "text": [
      "<class 'pandas.core.frame.DataFrame'>\n",
      "Int64Index: 71982 entries, 0 to 77003\n",
      "Data columns (total 3 columns):\n",
      "Country    71982 non-null object\n",
      "Time       71982 non-null int64\n",
      "Value      71982 non-null float64\n",
      "dtypes: float64(1), int64(1), object(1)\n",
      "memory usage: 2.2+ MB\n"
     ]
    }
   ],
   "source": [
    "population.info()"
   ]
  },
  {
   "cell_type": "code",
   "execution_count": 23,
   "metadata": {},
   "outputs": [
    {
     "data": {
      "text/html": [
       "<div>\n",
       "<style scoped>\n",
       "    .dataframe tbody tr th:only-of-type {\n",
       "        vertical-align: middle;\n",
       "    }\n",
       "\n",
       "    .dataframe tbody tr th {\n",
       "        vertical-align: top;\n",
       "    }\n",
       "\n",
       "    .dataframe thead th {\n",
       "        text-align: right;\n",
       "    }\n",
       "</style>\n",
       "<table border=\"1\" class=\"dataframe\">\n",
       "  <thead>\n",
       "    <tr style=\"text-align: right;\">\n",
       "      <th></th>\n",
       "      <th>Country</th>\n",
       "      <th>Time</th>\n",
       "      <th>Value</th>\n",
       "    </tr>\n",
       "  </thead>\n",
       "  <tbody>\n",
       "    <tr>\n",
       "      <th>0</th>\n",
       "      <td>Australia</td>\n",
       "      <td>2001</td>\n",
       "      <td>9712875.0</td>\n",
       "    </tr>\n",
       "    <tr>\n",
       "      <th>1</th>\n",
       "      <td>Australia</td>\n",
       "      <td>2002</td>\n",
       "      <td>9819727.0</td>\n",
       "    </tr>\n",
       "    <tr>\n",
       "      <th>2</th>\n",
       "      <td>Australia</td>\n",
       "      <td>2003</td>\n",
       "      <td>9933140.0</td>\n",
       "    </tr>\n",
       "    <tr>\n",
       "      <th>3</th>\n",
       "      <td>Australia</td>\n",
       "      <td>2004</td>\n",
       "      <td>10036771.0</td>\n",
       "    </tr>\n",
       "    <tr>\n",
       "      <th>4</th>\n",
       "      <td>Australia</td>\n",
       "      <td>2005</td>\n",
       "      <td>10157211.0</td>\n",
       "    </tr>\n",
       "  </tbody>\n",
       "</table>\n",
       "</div>"
      ],
      "text/plain": [
       "     Country  Time       Value\n",
       "0  Australia  2001   9712875.0\n",
       "1  Australia  2002   9819727.0\n",
       "2  Australia  2003   9933140.0\n",
       "3  Australia  2004  10036771.0\n",
       "4  Australia  2005  10157211.0"
      ]
     },
     "execution_count": 23,
     "metadata": {},
     "output_type": "execute_result"
    }
   ],
   "source": [
    "population.head()"
   ]
  },
  {
   "cell_type": "code",
   "execution_count": 103,
   "metadata": {},
   "outputs": [],
   "source": [
    "countries = sorted(population['Country'].unique())"
   ]
  },
  {
   "cell_type": "code",
   "execution_count": 104,
   "metadata": {},
   "outputs": [],
   "source": [
    "mean_values = []\n",
    "\n",
    "for country in countries:\n",
    "    lst = population.loc[population['Country'] == country][['Value']]\n",
    "    aus = [lst[i:i + 18] for i in range(0, len(lst), 18)]\n",
    "    mean = [aus[i].pct_change().dropna().values.mean() for i in range(len(aus))]\n",
    "    mean_values.append(mean)"
   ]
  },
  {
   "cell_type": "code",
   "execution_count": 105,
   "metadata": {},
   "outputs": [],
   "source": [
    "population_mean_dict = dict(zip(countries, mean_values))"
   ]
  },
  {
   "cell_type": "code",
   "execution_count": 106,
   "metadata": {},
   "outputs": [],
   "source": [
    "avg_population = pd.DataFrame(population_mean_dict)\n",
    "avg_population = avg_population.T"
   ]
  },
  {
   "cell_type": "code",
   "execution_count": 107,
   "metadata": {},
   "outputs": [
    {
     "data": {
      "text/html": [
       "<div>\n",
       "<style scoped>\n",
       "    .dataframe tbody tr th:only-of-type {\n",
       "        vertical-align: middle;\n",
       "    }\n",
       "\n",
       "    .dataframe tbody tr th {\n",
       "        vertical-align: top;\n",
       "    }\n",
       "\n",
       "    .dataframe thead th {\n",
       "        text-align: right;\n",
       "    }\n",
       "</style>\n",
       "<table border=\"1\" class=\"dataframe\">\n",
       "  <thead>\n",
       "    <tr style=\"text-align: right;\">\n",
       "      <th></th>\n",
       "      <th>0</th>\n",
       "      <th>1</th>\n",
       "      <th>2</th>\n",
       "      <th>3</th>\n",
       "      <th>4</th>\n",
       "      <th>5</th>\n",
       "      <th>6</th>\n",
       "      <th>7</th>\n",
       "      <th>8</th>\n",
       "      <th>9</th>\n",
       "      <th>...</th>\n",
       "      <th>83</th>\n",
       "      <th>84</th>\n",
       "      <th>85</th>\n",
       "      <th>86</th>\n",
       "      <th>87</th>\n",
       "      <th>88</th>\n",
       "      <th>89</th>\n",
       "      <th>90</th>\n",
       "      <th>91</th>\n",
       "      <th>92</th>\n",
       "    </tr>\n",
       "  </thead>\n",
       "  <tbody>\n",
       "    <tr>\n",
       "      <th>Australia</th>\n",
       "      <td>0.015409</td>\n",
       "      <td>0.015399</td>\n",
       "      <td>0.015404</td>\n",
       "      <td>0.012788</td>\n",
       "      <td>0.013029</td>\n",
       "      <td>0.012912</td>\n",
       "      <td>0.010611</td>\n",
       "      <td>0.010593</td>\n",
       "      <td>0.010602</td>\n",
       "      <td>0.006907</td>\n",
       "      <td>...</td>\n",
       "      <td>0.014254</td>\n",
       "      <td>-0.000160</td>\n",
       "      <td>0.002136</td>\n",
       "      <td>0.000976</td>\n",
       "      <td>-0.000817</td>\n",
       "      <td>0.019901</td>\n",
       "      <td>-0.001224</td>\n",
       "      <td>-0.001631</td>\n",
       "      <td>0.022263</td>\n",
       "      <td>0.025514</td>\n",
       "    </tr>\n",
       "    <tr>\n",
       "      <th>Austria</th>\n",
       "      <td>0.004681</td>\n",
       "      <td>0.006498</td>\n",
       "      <td>0.005567</td>\n",
       "      <td>0.003430</td>\n",
       "      <td>0.004044</td>\n",
       "      <td>0.003745</td>\n",
       "      <td>-0.006905</td>\n",
       "      <td>-0.006279</td>\n",
       "      <td>-0.006584</td>\n",
       "      <td>-0.006874</td>\n",
       "      <td>...</td>\n",
       "      <td>0.012429</td>\n",
       "      <td>-0.001670</td>\n",
       "      <td>0.001448</td>\n",
       "      <td>-0.000265</td>\n",
       "      <td>0.059131</td>\n",
       "      <td>-0.000793</td>\n",
       "      <td>-0.001393</td>\n",
       "      <td>0.053378</td>\n",
       "      <td>-0.000240</td>\n",
       "      <td>0.071006</td>\n",
       "    </tr>\n",
       "    <tr>\n",
       "      <th>Belgium</th>\n",
       "      <td>0.005712</td>\n",
       "      <td>0.006472</td>\n",
       "      <td>0.006085</td>\n",
       "      <td>0.003969</td>\n",
       "      <td>0.004259</td>\n",
       "      <td>0.004118</td>\n",
       "      <td>0.005497</td>\n",
       "      <td>0.005562</td>\n",
       "      <td>0.005530</td>\n",
       "      <td>0.002429</td>\n",
       "      <td>...</td>\n",
       "      <td>0.007542</td>\n",
       "      <td>0.001139</td>\n",
       "      <td>0.003637</td>\n",
       "      <td>0.002316</td>\n",
       "      <td>0.035183</td>\n",
       "      <td>-0.001672</td>\n",
       "      <td>-0.000723</td>\n",
       "      <td>0.030503</td>\n",
       "      <td>-0.001192</td>\n",
       "      <td>0.025675</td>\n",
       "    </tr>\n",
       "    <tr>\n",
       "      <th>Brazil</th>\n",
       "      <td>0.010273</td>\n",
       "      <td>0.009609</td>\n",
       "      <td>0.009947</td>\n",
       "      <td>-0.009491</td>\n",
       "      <td>-0.009041</td>\n",
       "      <td>-0.009261</td>\n",
       "      <td>-0.010580</td>\n",
       "      <td>-0.009320</td>\n",
       "      <td>-0.009940</td>\n",
       "      <td>-0.009198</td>\n",
       "      <td>...</td>\n",
       "      <td>0.021941</td>\n",
       "      <td>-0.017064</td>\n",
       "      <td>-0.018461</td>\n",
       "      <td>-0.017705</td>\n",
       "      <td>0.004375</td>\n",
       "      <td>-0.030872</td>\n",
       "      <td>-0.031504</td>\n",
       "      <td>-0.030182</td>\n",
       "      <td>0.004035</td>\n",
       "      <td>0.004729</td>\n",
       "    </tr>\n",
       "    <tr>\n",
       "      <th>Canada</th>\n",
       "      <td>0.010372</td>\n",
       "      <td>0.010666</td>\n",
       "      <td>0.010517</td>\n",
       "      <td>0.006302</td>\n",
       "      <td>0.006351</td>\n",
       "      <td>0.006327</td>\n",
       "      <td>0.000711</td>\n",
       "      <td>0.000369</td>\n",
       "      <td>0.000536</td>\n",
       "      <td>-0.002076</td>\n",
       "      <td>...</td>\n",
       "      <td>0.019703</td>\n",
       "      <td>0.001331</td>\n",
       "      <td>0.001964</td>\n",
       "      <td>0.001635</td>\n",
       "      <td>0.025217</td>\n",
       "      <td>-0.001391</td>\n",
       "      <td>0.029820</td>\n",
       "      <td>-0.001677</td>\n",
       "      <td>0.027329</td>\n",
       "      <td>-0.001532</td>\n",
       "    </tr>\n",
       "  </tbody>\n",
       "</table>\n",
       "<p>5 rows × 93 columns</p>\n",
       "</div>"
      ],
      "text/plain": [
       "                 0         1         2         3         4         5   \\\n",
       "Australia  0.015409  0.015399  0.015404  0.012788  0.013029  0.012912   \n",
       "Austria    0.004681  0.006498  0.005567  0.003430  0.004044  0.003745   \n",
       "Belgium    0.005712  0.006472  0.006085  0.003969  0.004259  0.004118   \n",
       "Brazil     0.010273  0.009609  0.009947 -0.009491 -0.009041 -0.009261   \n",
       "Canada     0.010372  0.010666  0.010517  0.006302  0.006351  0.006327   \n",
       "\n",
       "                 6         7         8         9   ...        83        84  \\\n",
       "Australia  0.010611  0.010593  0.010602  0.006907  ...  0.014254 -0.000160   \n",
       "Austria   -0.006905 -0.006279 -0.006584 -0.006874  ...  0.012429 -0.001670   \n",
       "Belgium    0.005497  0.005562  0.005530  0.002429  ...  0.007542  0.001139   \n",
       "Brazil    -0.010580 -0.009320 -0.009940 -0.009198  ...  0.021941 -0.017064   \n",
       "Canada     0.000711  0.000369  0.000536 -0.002076  ...  0.019703  0.001331   \n",
       "\n",
       "                 85        86        87        88        89        90  \\\n",
       "Australia  0.002136  0.000976 -0.000817  0.019901 -0.001224 -0.001631   \n",
       "Austria    0.001448 -0.000265  0.059131 -0.000793 -0.001393  0.053378   \n",
       "Belgium    0.003637  0.002316  0.035183 -0.001672 -0.000723  0.030503   \n",
       "Brazil    -0.018461 -0.017705  0.004375 -0.030872 -0.031504 -0.030182   \n",
       "Canada     0.001964  0.001635  0.025217 -0.001391  0.029820 -0.001677   \n",
       "\n",
       "                 91        92  \n",
       "Australia  0.022263  0.025514  \n",
       "Austria   -0.000240  0.071006  \n",
       "Belgium   -0.001192  0.025675  \n",
       "Brazil     0.004035  0.004729  \n",
       "Canada     0.027329 -0.001532  \n",
       "\n",
       "[5 rows x 93 columns]"
      ]
     },
     "execution_count": 107,
     "metadata": {},
     "output_type": "execute_result"
    }
   ],
   "source": [
    "avg_population.head()"
   ]
  },
  {
   "cell_type": "markdown",
   "metadata": {},
   "source": [
    "## Consumer Price Index"
   ]
  },
  {
   "cell_type": "code",
   "execution_count": 119,
   "metadata": {},
   "outputs": [],
   "source": [
    "subjects = cpi['Subject'].unique()\n",
    "countries = sorted(cpi['Country'].unique())\n",
    "\n",
    "cpi_arr = create_two_dimensional_arr(subjects, countries, cpi)"
   ]
  },
  {
   "cell_type": "code",
   "execution_count": 121,
   "metadata": {},
   "outputs": [],
   "source": [
    "assert len(cpi_arr[0]) == len(cpi['Country'].unique())\n",
    "assert len(cpi_arr) == len(cpi['Subject'].unique())"
   ]
  },
  {
   "cell_type": "code",
   "execution_count": 123,
   "metadata": {},
   "outputs": [],
   "source": [
    "data = dict(zip(subjects, cpi_arr))"
   ]
  },
  {
   "cell_type": "code",
   "execution_count": 124,
   "metadata": {},
   "outputs": [],
   "source": [
    "avg_cpi_index = pd.DataFrame(data, index=countries)"
   ]
  },
  {
   "cell_type": "code",
   "execution_count": 125,
   "metadata": {},
   "outputs": [
    {
     "data": {
      "text/html": [
       "<div>\n",
       "<style scoped>\n",
       "    .dataframe tbody tr th:only-of-type {\n",
       "        vertical-align: middle;\n",
       "    }\n",
       "\n",
       "    .dataframe tbody tr th {\n",
       "        vertical-align: top;\n",
       "    }\n",
       "\n",
       "    .dataframe thead th {\n",
       "        text-align: right;\n",
       "    }\n",
       "</style>\n",
       "<table border=\"1\" class=\"dataframe\">\n",
       "  <thead>\n",
       "    <tr style=\"text-align: right;\">\n",
       "      <th></th>\n",
       "      <th>CPI: 01-12 - All items</th>\n",
       "      <th>CPI: 01 - Food and non-Alcoholic beverages</th>\n",
       "      <th>CPI: Energy</th>\n",
       "      <th>CPI: All items non-food non-energy</th>\n",
       "    </tr>\n",
       "  </thead>\n",
       "  <tbody>\n",
       "    <tr>\n",
       "      <th>Australia</th>\n",
       "      <td>2.544193</td>\n",
       "      <td>2.565971</td>\n",
       "      <td>4.339597</td>\n",
       "      <td>2.437083</td>\n",
       "    </tr>\n",
       "    <tr>\n",
       "      <th>Austria</th>\n",
       "      <td>1.899952</td>\n",
       "      <td>2.273441</td>\n",
       "      <td>2.315837</td>\n",
       "      <td>1.818234</td>\n",
       "    </tr>\n",
       "    <tr>\n",
       "      <th>Belgium</th>\n",
       "      <td>1.936742</td>\n",
       "      <td>2.295579</td>\n",
       "      <td>3.315962</td>\n",
       "      <td>1.689575</td>\n",
       "    </tr>\n",
       "    <tr>\n",
       "      <th>Brazil</th>\n",
       "      <td>6.320469</td>\n",
       "      <td>7.513241</td>\n",
       "      <td>NaN</td>\n",
       "      <td>NaN</td>\n",
       "    </tr>\n",
       "    <tr>\n",
       "      <th>Canada</th>\n",
       "      <td>1.886370</td>\n",
       "      <td>2.469971</td>\n",
       "      <td>2.752541</td>\n",
       "      <td>1.744280</td>\n",
       "    </tr>\n",
       "  </tbody>\n",
       "</table>\n",
       "</div>"
      ],
      "text/plain": [
       "           CPI: 01-12 - All items  CPI: 01 - Food and non-Alcoholic beverages  \\\n",
       "Australia                2.544193                                    2.565971   \n",
       "Austria                  1.899952                                    2.273441   \n",
       "Belgium                  1.936742                                    2.295579   \n",
       "Brazil                   6.320469                                    7.513241   \n",
       "Canada                   1.886370                                    2.469971   \n",
       "\n",
       "           CPI: Energy  CPI: All items non-food non-energy  \n",
       "Australia     4.339597                            2.437083  \n",
       "Austria       2.315837                            1.818234  \n",
       "Belgium       3.315962                            1.689575  \n",
       "Brazil             NaN                                 NaN  \n",
       "Canada        2.752541                            1.744280  "
      ]
     },
     "execution_count": 125,
     "metadata": {},
     "output_type": "execute_result"
    }
   ],
   "source": [
    "avg_cpi_index.head()"
   ]
  },
  {
   "cell_type": "markdown",
   "metadata": {},
   "source": [
    "## Level of GDP per capita and Productivity"
   ]
  },
  {
   "cell_type": "code",
   "execution_count": 128,
   "metadata": {},
   "outputs": [],
   "source": [
    "subjects = gdp_production['Subject'].unique()\n",
    "countries = sorted(gdp_production['Country'].unique())\n",
    "\n",
    "gdp_production_arr = create_two_dimensional_arr(subjects, countries, gdp_production)"
   ]
  },
  {
   "cell_type": "code",
   "execution_count": 129,
   "metadata": {},
   "outputs": [],
   "source": [
    "assert len(gdp_production_arr[0]) == len(gdp_production['Country'].unique())\n",
    "assert len(gdp_production_arr) == len(gdp_production['Subject'].unique())"
   ]
  },
  {
   "cell_type": "code",
   "execution_count": null,
   "metadata": {},
   "outputs": [],
   "source": [
    "data = dict(zip(subjects, gdp_production_arr))"
   ]
  },
  {
   "cell_type": "code",
   "execution_count": null,
   "metadata": {},
   "outputs": [],
   "source": []
  },
  {
   "cell_type": "code",
   "execution_count": null,
   "metadata": {},
   "outputs": [],
   "source": []
  },
  {
   "cell_type": "markdown",
   "metadata": {},
   "source": [
    "## Health"
   ]
  },
  {
   "cell_type": "markdown",
   "metadata": {},
   "source": [
    "## Purchasing Power Parity"
   ]
  },
  {
   "cell_type": "markdown",
   "metadata": {},
   "source": [
    "## Growth in GDP per capita productivity and ULC"
   ]
  },
  {
   "cell_type": "markdown",
   "metadata": {},
   "source": [
    "## Residential Property Price Indices"
   ]
  }
 ],
 "metadata": {
  "kernelspec": {
   "display_name": "Python 3",
   "language": "python",
   "name": "python3"
  },
  "language_info": {
   "codemirror_mode": {
    "name": "ipython",
    "version": 3
   },
   "file_extension": ".py",
   "mimetype": "text/x-python",
   "name": "python",
   "nbconvert_exporter": "python",
   "pygments_lexer": "ipython3",
   "version": "3.8.0"
  }
 },
 "nbformat": 4,
 "nbformat_minor": 4
}
