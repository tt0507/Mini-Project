{
 "cells": [
  {
   "cell_type": "markdown",
   "metadata": {},
   "source": [
    "# Data Cleansing using R"
   ]
  },
  {
   "cell_type": "code",
   "execution_count": 1,
   "metadata": {},
   "outputs": [
    {
     "name": "stderr",
     "output_type": "stream",
     "text": [
      "\n",
      "Attaching package: ‘dplyr’\n",
      "\n",
      "\n",
      "The following objects are masked from ‘package:stats’:\n",
      "\n",
      "    filter, lag\n",
      "\n",
      "\n",
      "The following objects are masked from ‘package:base’:\n",
      "\n",
      "    intersect, setdiff, setequal, union\n",
      "\n",
      "\n"
     ]
    }
   ],
   "source": [
    "library(dplyr)"
   ]
  },
  {
   "cell_type": "code",
   "execution_count": 2,
   "metadata": {},
   "outputs": [],
   "source": [
    "data = read.csv('data/train.csv')"
   ]
  },
  {
   "cell_type": "code",
   "execution_count": 7,
   "metadata": {},
   "outputs": [],
   "source": [
    "full_data = select(data, -c('migration_msa', 'migration_reg', 'migration_within_reg', 'migration_sunbelt', 'industry_code', 'occupation_code'))"
   ]
  },
  {
   "cell_type": "code",
   "execution_count": 9,
   "metadata": {},
   "outputs": [],
   "source": [
    "full_data$income_level = as.factor(full_data$income_level)\n",
    "full_data$business_or_self_employed = as.factor(full_data$business_or_self_employed)\n",
    "full_data$veterans_benefits = as.factor(full_data$veterans_benefits)\n",
    "full_data$year = as.factor(full_data$year)"
   ]
  },
  {
   "cell_type": "code",
   "execution_count": 10,
   "metadata": {},
   "outputs": [
    {
     "name": "stdout",
     "output_type": "stream",
     "text": [
      "'data.frame':\t199523 obs. of  35 variables:\n",
      " $ age                             : int  73 58 18 9 10 48 42 28 47 34 ...\n",
      " $ class_of_worker                 : Factor w/ 9 levels \"Federal government\",..: 4 7 4 4 4 5 5 5 2 5 ...\n",
      " $ education                       : Factor w/ 17 levels \"10th grade\",\"11th grade\",..: 13 17 1 11 11 17 10 13 17 17 ...\n",
      " $ wage_per_hour                   : int  0 0 0 0 0 1200 0 0 876 0 ...\n",
      " $ enrolled_in_edu_inst_lastwk     : Factor w/ 3 levels \"College or university\",..: 3 3 2 3 3 3 3 3 3 3 ...\n",
      " $ marital_status                  : Factor w/ 7 levels \"Divorced\",\"Married-A F spouse present\",..: 7 1 5 5 5 3 3 5 3 3 ...\n",
      " $ major_industry_code             : Factor w/ 24 levels \"Agriculture\",..: 15 5 15 15 15 7 8 5 6 5 ...\n",
      " $ major_occupation_code           : Factor w/ 15 levels \"Adm support including clerical\",..: 7 9 7 7 7 11 3 5 1 6 ...\n",
      " $ race                            : Factor w/ 5 levels \"Amer Indian Aleut or Eskimo\",..: 5 5 2 5 5 1 5 5 5 5 ...\n",
      " $ hispanic_origin                 : Factor w/ 9 levels \"All other\",\"Central or South American\",..: 1 1 1 1 1 1 1 1 1 1 ...\n",
      " $ sex                             : Factor w/ 2 levels \"Female\",\"Male\": 1 2 1 1 1 1 2 1 1 2 ...\n",
      " $ member_of_labor_union           : Factor w/ 3 levels \"No\",\"Not in universe\",..: 2 2 2 2 2 1 2 2 1 2 ...\n",
      " $ reason_for_unemployment         : Factor w/ 6 levels \"Job leaver\",\"Job loser - on layoff\",..: 4 4 4 4 4 4 4 2 4 4 ...\n",
      " $ full_parttime_employment_stat   : Factor w/ 8 levels \"Children or Armed Forces\",..: 3 1 3 1 1 2 1 7 2 1 ...\n",
      " $ capital_gains                   : int  0 0 0 0 0 0 5178 0 0 0 ...\n",
      " $ capital_losses                  : int  0 0 0 0 0 0 0 0 0 0 ...\n",
      " $ dividend_from_Stocks            : int  0 0 0 0 0 0 0 0 0 0 ...\n",
      " $ tax_filer_status                : Factor w/ 6 levels \"Head of household\",..: 5 1 5 5 5 3 3 6 3 3 ...\n",
      " $ region_of_previous_residence    : Factor w/ 6 levels \"Abroad\",\"Midwest\",..: 4 5 4 4 4 4 4 4 4 4 ...\n",
      " $ state_of_previous_residence     : Factor w/ 50 levels \"Abroad\",\"Alabama\",..: 36 5 36 36 36 36 36 36 36 36 ...\n",
      " $ d_household_family_stat         : Factor w/ 38 levels \"Child <18 ever marr not in subfamily\",..: 30 21 8 3 3 37 21 36 37 21 ...\n",
      " $ d_household_summary             : Factor w/ 8 levels \"Child 18 or older\",..: 7 5 1 3 3 8 5 6 8 5 ...\n",
      " $ live_1_year_ago                 : Factor w/ 3 levels \"No\",\"Not in universe under 1 year old\",..: 2 1 2 3 3 2 3 2 2 3 ...\n",
      " $ num_person_Worked_employer      : int  0 1 0 0 0 1 6 4 5 6 ...\n",
      " $ family_members_under_18         : Factor w/ 5 levels \"Both parents present\",..: 5 5 5 1 1 5 5 5 5 5 ...\n",
      " $ country_father                  : Factor w/ 42 levels \"Cambodia\",\"Canada\",..: 40 40 41 40 40 31 40 40 40 40 ...\n",
      " $ country_mother                  : Factor w/ 42 levels \"Cambodia\",\"Canada\",..: 40 40 41 40 40 40 40 40 40 40 ...\n",
      " $ country_self                    : Factor w/ 42 levels \"Cambodia\",\"Canada\",..: 40 40 41 40 40 40 40 40 40 40 ...\n",
      " $ citizenship                     : Factor w/ 5 levels \"Foreign born- Not a citizen of U S\",..: 5 5 1 5 5 5 5 5 5 5 ...\n",
      " $ business_or_self_employed       : Factor w/ 3 levels \"0\",\"1\",\"2\": 1 1 1 1 1 3 1 1 1 1 ...\n",
      " $ fill_questionnaire_veteran_admin: Factor w/ 3 levels \"No\",\"Not in universe\",..: 2 2 2 2 2 2 2 2 2 2 ...\n",
      " $ veterans_benefits               : Factor w/ 3 levels \"0\",\"1\",\"2\": 3 3 3 1 1 3 3 3 3 3 ...\n",
      " $ weeks_worked_in_year            : int  0 52 0 0 0 52 52 30 52 52 ...\n",
      " $ year                            : Factor w/ 2 levels \"94\",\"95\": 2 1 2 1 1 2 1 2 2 1 ...\n",
      " $ income_level                    : Factor w/ 2 levels \"-50000\",\"50000\": 1 1 1 1 1 1 1 1 1 1 ...\n"
     ]
    }
   ],
   "source": [
    "str(full_data)"
   ]
  },
  {
   "cell_type": "code",
   "execution_count": 6,
   "metadata": {},
   "outputs": [
    {
     "data": {
      "text/plain": [
       "\n",
       "Call:\n",
       "glm(formula = income_level ~ age, family = \"binomial\", data = full_data)\n",
       "\n",
       "Deviance Residuals: \n",
       "    Min       1Q   Median       3Q      Max  \n",
       "-0.6341  -0.3889  -0.3148  -0.2542   2.5812  \n",
       "\n",
       "Coefficients:\n",
       "              Estimate Std. Error z value Pr(>|z|)    \n",
       "(Intercept) -3.6824182  0.0207987 -177.05   <2e-16 ***\n",
       "age          0.0242267  0.0004098   59.12   <2e-16 ***\n",
       "---\n",
       "Signif. codes:  0 ‘***’ 0.001 ‘**’ 0.01 ‘*’ 0.05 ‘.’ 0.1 ‘ ’ 1\n",
       "\n",
       "(Dispersion parameter for binomial family taken to be 1)\n",
       "\n",
       "    Null deviance: 92815  on 199522  degrees of freedom\n",
       "Residual deviance: 89267  on 199521  degrees of freedom\n",
       "AIC: 89271\n",
       "\n",
       "Number of Fisher Scoring iterations: 6\n"
      ]
     },
     "metadata": {},
     "output_type": "display_data"
    }
   ],
   "source": [
    "model = glm(income_level ~ age, data = full_data, family = 'binomial')\n",
    "summary(model)"
   ]
  },
  {
   "cell_type": "code",
   "execution_count": null,
   "metadata": {},
   "outputs": [],
   "source": []
  }
 ],
 "metadata": {
  "kernelspec": {
   "display_name": "R",
   "language": "R",
   "name": "ir"
  },
  "language_info": {
   "codemirror_mode": "r",
   "file_extension": ".r",
   "mimetype": "text/x-r-source",
   "name": "R",
   "pygments_lexer": "r",
   "version": "3.6.2"
  }
 },
 "nbformat": 4,
 "nbformat_minor": 4
}
