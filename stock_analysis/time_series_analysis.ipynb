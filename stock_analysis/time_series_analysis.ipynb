{
 "cells": [
  {
   "cell_type": "code",
   "execution_count": 5,
   "metadata": {},
   "outputs": [],
   "source": [
    "%run -i 'scraping.py'"
   ]
  },
  {
   "cell_type": "code",
   "execution_count": 6,
   "metadata": {},
   "outputs": [],
   "source": [
    "import pandas as pd\n",
    "import tensorflow as tf\n",
    "from tensorflow import keras\n",
    "import matplotlib.pyplot as plt\n",
    "import numpy as np\n",
    "from sklearn.preprocessing import StandardScaler"
   ]
  },
  {
   "cell_type": "code",
   "execution_count": 7,
   "metadata": {},
   "outputs": [],
   "source": [
    "assert len(dataframe_list) == 3"
   ]
  },
  {
   "cell_type": "code",
   "execution_count": 8,
   "metadata": {},
   "outputs": [],
   "source": [
    "dji = dataframe_list[0]\n",
    "sp_500 = dataframe_list[1]\n",
    "nasdaq = dataframe_list[2]"
   ]
  },
  {
   "cell_type": "code",
   "execution_count": 9,
   "metadata": {},
   "outputs": [],
   "source": [
    "assert len(dji) == len(sp_500)\n",
    "assert len(dji) == len(nasdaq)\n",
    "assert len(sp_500) == len(nasdaq)"
   ]
  },
  {
   "cell_type": "code",
   "execution_count": 10,
   "metadata": {},
   "outputs": [],
   "source": [
    "dji.set_index('Date', inplace = True)\n",
    "sp_500.set_index('Date', inplace=True)\n",
    "nasdaq.set_index('Date', inplace=True)\n",
    "\n",
    "dji = dji.sort_index()\n",
    "sp_500 = sp_500.sort_index()\n",
    "nasdaq = nasdaq.sort_index()"
   ]
  },
  {
   "cell_type": "code",
   "execution_count": 11,
   "metadata": {},
   "outputs": [
    {
     "data": {
      "text/html": [
       "<div>\n",
       "<style scoped>\n",
       "    .dataframe tbody tr th:only-of-type {\n",
       "        vertical-align: middle;\n",
       "    }\n",
       "\n",
       "    .dataframe tbody tr th {\n",
       "        vertical-align: top;\n",
       "    }\n",
       "\n",
       "    .dataframe thead th {\n",
       "        text-align: right;\n",
       "    }\n",
       "</style>\n",
       "<table border=\"1\" class=\"dataframe\">\n",
       "  <thead>\n",
       "    <tr style=\"text-align: right;\">\n",
       "      <th></th>\n",
       "      <th>Open</th>\n",
       "      <th>High</th>\n",
       "      <th>Low</th>\n",
       "      <th>Close</th>\n",
       "      <th>Adj Close</th>\n",
       "      <th>Volume</th>\n",
       "    </tr>\n",
       "    <tr>\n",
       "      <th>Date</th>\n",
       "      <th></th>\n",
       "      <th></th>\n",
       "      <th></th>\n",
       "      <th></th>\n",
       "      <th></th>\n",
       "      <th></th>\n",
       "    </tr>\n",
       "  </thead>\n",
       "  <tbody>\n",
       "    <tr>\n",
       "      <th>2015-07-22</th>\n",
       "      <td>17918.35</td>\n",
       "      <td>17919.35</td>\n",
       "      <td>17807.41</td>\n",
       "      <td>17851.04</td>\n",
       "      <td>17851.04</td>\n",
       "      <td>112370000.0</td>\n",
       "    </tr>\n",
       "    <tr>\n",
       "      <th>2015-07-23</th>\n",
       "      <td>17853.78</td>\n",
       "      <td>17860.95</td>\n",
       "      <td>17705.03</td>\n",
       "      <td>17731.92</td>\n",
       "      <td>17731.92</td>\n",
       "      <td>88600000.0</td>\n",
       "    </tr>\n",
       "    <tr>\n",
       "      <th>2015-07-24</th>\n",
       "      <td>17731.05</td>\n",
       "      <td>17756.54</td>\n",
       "      <td>17553.73</td>\n",
       "      <td>17568.53</td>\n",
       "      <td>17568.53</td>\n",
       "      <td>103470000.0</td>\n",
       "    </tr>\n",
       "    <tr>\n",
       "      <th>2015-07-27</th>\n",
       "      <td>17561.78</td>\n",
       "      <td>17561.78</td>\n",
       "      <td>17399.17</td>\n",
       "      <td>17440.59</td>\n",
       "      <td>17440.59</td>\n",
       "      <td>117860000.0</td>\n",
       "    </tr>\n",
       "    <tr>\n",
       "      <th>2015-07-28</th>\n",
       "      <td>17449.81</td>\n",
       "      <td>17650.07</td>\n",
       "      <td>17449.81</td>\n",
       "      <td>17630.27</td>\n",
       "      <td>17630.27</td>\n",
       "      <td>103450000.0</td>\n",
       "    </tr>\n",
       "  </tbody>\n",
       "</table>\n",
       "</div>"
      ],
      "text/plain": [
       "                Open      High       Low     Close  Adj Close       Volume\n",
       "Date                                                                      \n",
       "2015-07-22  17918.35  17919.35  17807.41  17851.04   17851.04  112370000.0\n",
       "2015-07-23  17853.78  17860.95  17705.03  17731.92   17731.92   88600000.0\n",
       "2015-07-24  17731.05  17756.54  17553.73  17568.53   17568.53  103470000.0\n",
       "2015-07-27  17561.78  17561.78  17399.17  17440.59   17440.59  117860000.0\n",
       "2015-07-28  17449.81  17650.07  17449.81  17630.27   17630.27  103450000.0"
      ]
     },
     "execution_count": 11,
     "metadata": {},
     "output_type": "execute_result"
    }
   ],
   "source": [
    "dji.head()"
   ]
  },
  {
   "cell_type": "code",
   "execution_count": 12,
   "metadata": {},
   "outputs": [
    {
     "data": {
      "text/html": [
       "<div>\n",
       "<style scoped>\n",
       "    .dataframe tbody tr th:only-of-type {\n",
       "        vertical-align: middle;\n",
       "    }\n",
       "\n",
       "    .dataframe tbody tr th {\n",
       "        vertical-align: top;\n",
       "    }\n",
       "\n",
       "    .dataframe thead th {\n",
       "        text-align: right;\n",
       "    }\n",
       "</style>\n",
       "<table border=\"1\" class=\"dataframe\">\n",
       "  <thead>\n",
       "    <tr style=\"text-align: right;\">\n",
       "      <th></th>\n",
       "      <th>Open</th>\n",
       "      <th>High</th>\n",
       "      <th>Low</th>\n",
       "      <th>Close</th>\n",
       "      <th>Adj Close</th>\n",
       "      <th>Volume</th>\n",
       "    </tr>\n",
       "    <tr>\n",
       "      <th>Date</th>\n",
       "      <th></th>\n",
       "      <th></th>\n",
       "      <th></th>\n",
       "      <th></th>\n",
       "      <th></th>\n",
       "      <th></th>\n",
       "    </tr>\n",
       "  </thead>\n",
       "  <tbody>\n",
       "    <tr>\n",
       "      <th>2015-07-22</th>\n",
       "      <td>2118.21</td>\n",
       "      <td>2118.51</td>\n",
       "      <td>2110.00</td>\n",
       "      <td>2114.15</td>\n",
       "      <td>2114.15</td>\n",
       "      <td>3.694070e+09</td>\n",
       "    </tr>\n",
       "    <tr>\n",
       "      <th>2015-07-23</th>\n",
       "      <td>2114.16</td>\n",
       "      <td>2116.87</td>\n",
       "      <td>2098.63</td>\n",
       "      <td>2102.15</td>\n",
       "      <td>2102.15</td>\n",
       "      <td>3.772810e+09</td>\n",
       "    </tr>\n",
       "    <tr>\n",
       "      <th>2015-07-24</th>\n",
       "      <td>2102.24</td>\n",
       "      <td>2106.01</td>\n",
       "      <td>2077.09</td>\n",
       "      <td>2079.65</td>\n",
       "      <td>2079.65</td>\n",
       "      <td>3.870040e+09</td>\n",
       "    </tr>\n",
       "    <tr>\n",
       "      <th>2015-07-27</th>\n",
       "      <td>2078.19</td>\n",
       "      <td>2078.19</td>\n",
       "      <td>2063.52</td>\n",
       "      <td>2067.64</td>\n",
       "      <td>2067.64</td>\n",
       "      <td>3.836750e+09</td>\n",
       "    </tr>\n",
       "    <tr>\n",
       "      <th>2015-07-28</th>\n",
       "      <td>2070.75</td>\n",
       "      <td>2095.60</td>\n",
       "      <td>2069.09</td>\n",
       "      <td>2093.25</td>\n",
       "      <td>2093.25</td>\n",
       "      <td>4.117740e+09</td>\n",
       "    </tr>\n",
       "  </tbody>\n",
       "</table>\n",
       "</div>"
      ],
      "text/plain": [
       "               Open     High      Low    Close  Adj Close        Volume\n",
       "Date                                                                   \n",
       "2015-07-22  2118.21  2118.51  2110.00  2114.15    2114.15  3.694070e+09\n",
       "2015-07-23  2114.16  2116.87  2098.63  2102.15    2102.15  3.772810e+09\n",
       "2015-07-24  2102.24  2106.01  2077.09  2079.65    2079.65  3.870040e+09\n",
       "2015-07-27  2078.19  2078.19  2063.52  2067.64    2067.64  3.836750e+09\n",
       "2015-07-28  2070.75  2095.60  2069.09  2093.25    2093.25  4.117740e+09"
      ]
     },
     "execution_count": 12,
     "metadata": {},
     "output_type": "execute_result"
    }
   ],
   "source": [
    "sp_500.head()"
   ]
  },
  {
   "cell_type": "code",
   "execution_count": 13,
   "metadata": {},
   "outputs": [
    {
     "data": {
      "text/html": [
       "<div>\n",
       "<style scoped>\n",
       "    .dataframe tbody tr th:only-of-type {\n",
       "        vertical-align: middle;\n",
       "    }\n",
       "\n",
       "    .dataframe tbody tr th {\n",
       "        vertical-align: top;\n",
       "    }\n",
       "\n",
       "    .dataframe thead th {\n",
       "        text-align: right;\n",
       "    }\n",
       "</style>\n",
       "<table border=\"1\" class=\"dataframe\">\n",
       "  <thead>\n",
       "    <tr style=\"text-align: right;\">\n",
       "      <th></th>\n",
       "      <th>Open</th>\n",
       "      <th>High</th>\n",
       "      <th>Low</th>\n",
       "      <th>Close</th>\n",
       "      <th>Adj Close</th>\n",
       "      <th>Volume</th>\n",
       "    </tr>\n",
       "    <tr>\n",
       "      <th>Date</th>\n",
       "      <th></th>\n",
       "      <th></th>\n",
       "      <th></th>\n",
       "      <th></th>\n",
       "      <th></th>\n",
       "      <th></th>\n",
       "    </tr>\n",
       "  </thead>\n",
       "  <tbody>\n",
       "    <tr>\n",
       "      <th>2015-07-22</th>\n",
       "      <td>5146.03</td>\n",
       "      <td>5184.74</td>\n",
       "      <td>5145.78</td>\n",
       "      <td>5171.77</td>\n",
       "      <td>5171.77</td>\n",
       "      <td>2.035730e+09</td>\n",
       "    </tr>\n",
       "    <tr>\n",
       "      <th>2015-07-23</th>\n",
       "      <td>5180.33</td>\n",
       "      <td>5197.00</td>\n",
       "      <td>5137.64</td>\n",
       "      <td>5146.41</td>\n",
       "      <td>5146.41</td>\n",
       "      <td>2.003310e+09</td>\n",
       "    </tr>\n",
       "    <tr>\n",
       "      <th>2015-07-24</th>\n",
       "      <td>5166.91</td>\n",
       "      <td>5167.54</td>\n",
       "      <td>5084.51</td>\n",
       "      <td>5088.63</td>\n",
       "      <td>5088.63</td>\n",
       "      <td>2.004380e+09</td>\n",
       "    </tr>\n",
       "    <tr>\n",
       "      <th>2015-07-27</th>\n",
       "      <td>5055.92</td>\n",
       "      <td>5072.88</td>\n",
       "      <td>5032.69</td>\n",
       "      <td>5039.78</td>\n",
       "      <td>5039.78</td>\n",
       "      <td>1.942520e+09</td>\n",
       "    </tr>\n",
       "    <tr>\n",
       "      <th>2015-07-28</th>\n",
       "      <td>5063.44</td>\n",
       "      <td>5097.69</td>\n",
       "      <td>5025.61</td>\n",
       "      <td>5089.21</td>\n",
       "      <td>5089.21</td>\n",
       "      <td>2.025110e+09</td>\n",
       "    </tr>\n",
       "  </tbody>\n",
       "</table>\n",
       "</div>"
      ],
      "text/plain": [
       "               Open     High      Low    Close  Adj Close        Volume\n",
       "Date                                                                   \n",
       "2015-07-22  5146.03  5184.74  5145.78  5171.77    5171.77  2.035730e+09\n",
       "2015-07-23  5180.33  5197.00  5137.64  5146.41    5146.41  2.003310e+09\n",
       "2015-07-24  5166.91  5167.54  5084.51  5088.63    5088.63  2.004380e+09\n",
       "2015-07-27  5055.92  5072.88  5032.69  5039.78    5039.78  1.942520e+09\n",
       "2015-07-28  5063.44  5097.69  5025.61  5089.21    5089.21  2.025110e+09"
      ]
     },
     "execution_count": 13,
     "metadata": {},
     "output_type": "execute_result"
    }
   ],
   "source": [
    "nasdaq.head()"
   ]
  },
  {
   "cell_type": "code",
   "execution_count": 14,
   "metadata": {},
   "outputs": [],
   "source": [
    "# constants\n",
    "TRAIN_SPLIT = len(dji) - 10 # same for all data\n",
    "START_INDEX = 20"
   ]
  },
  {
   "cell_type": "code",
   "execution_count": 15,
   "metadata": {},
   "outputs": [],
   "source": [
    "#standard scaler\n",
    "standard_scaler = StandardScaler()\n",
    "dji_standarized = standard_scaler.fit_transform(dji.values)\n",
    "sp500_standarized = standard_scaler.fit_transform(sp_500.values)\n",
    "nasdaq_standarized = standard_scaler.fit_transform(nasdaq.values)"
   ]
  },
  {
   "cell_type": "code",
   "execution_count": 16,
   "metadata": {},
   "outputs": [],
   "source": [
    "assert dji_standarized.shape == (len(dji), 6)\n",
    "assert sp500_standarized.shape == (len(sp_500), 6)\n",
    "assert nasdaq_standarized.shape == (len(nasdaq), 6)"
   ]
  },
  {
   "cell_type": "code",
   "execution_count": 17,
   "metadata": {},
   "outputs": [],
   "source": [
    "def train_data(dataset, target_index, start_index, train_split):\n",
    "    \"\"\"\n",
    "    \"\"\"\n",
    "    data = []\n",
    "    labels = []\n",
    "    target = dataset[:, target_index]\n",
    "\n",
    "    # model will be given 20 prices\n",
    "    start_index = start_index\n",
    "    end_index = train_split\n",
    "    \n",
    "    for i in range(start_index, end_index):\n",
    "        indices = range(i - start_index, i)\n",
    "        data.append(dataset[indices])\n",
    "        labels.append(target[i])\n",
    "    \n",
    "    return np.array(data), np.array(labels)"
   ]
  },
  {
   "cell_type": "code",
   "execution_count": 18,
   "metadata": {},
   "outputs": [],
   "source": [
    "dji_train, dji_label = train_data(dji_standarized, 4, START_INDEX, TRAIN_SPLIT)\n",
    "sp500_train, sp500_label = train_data(sp500_standarized, 4, START_INDEX, TRAIN_SPLIT)\n",
    "nasdaq_train, nasdaq_label = train_data(nasdaq_standarized, 4, START_INDEX, TRAIN_SPLIT)"
   ]
  },
  {
   "cell_type": "code",
   "execution_count": 19,
   "metadata": {},
   "outputs": [],
   "source": [
    "# check shape of training data\n",
    "assert dji_train.shape == (TRAIN_SPLIT - START_INDEX, 20, 6)\n",
    "assert sp500_train.shape == (TRAIN_SPLIT - START_INDEX, 20, 6)\n",
    "assert nasdaq_train.shape == (TRAIN_SPLIT - START_INDEX, 20, 6)\n",
    "\n",
    "# check shape of label data\n",
    "assert dji_label.shape == (TRAIN_SPLIT - START_INDEX,)\n",
    "assert sp500_label.shape == (TRAIN_SPLIT - START_INDEX,)\n",
    "assert nasdaq_label.shape == (TRAIN_SPLIT - START_INDEX,)"
   ]
  },
  {
   "cell_type": "code",
   "execution_count": 20,
   "metadata": {},
   "outputs": [],
   "source": [
    "def validation_data(dataset, target_index, start_index):\n",
    "    \"\"\"\n",
    "    \"\"\"\n",
    "    valid_data = []\n",
    "    valid_labels = []\n",
    "    target = dataset[:, target_index]\n",
    "\n",
    "    # set index \n",
    "    start_index = start_index\n",
    "    end_index = len(dataset)\n",
    "\n",
    "    for i in range(start_index, end_index):\n",
    "        indices = range(i - 20, i)\n",
    "        valid_data.append(dataset[indices])\n",
    "        valid_labels.append(target[i])\n",
    "\n",
    "    return np.array(valid_data), np.array(valid_labels)"
   ]
  },
  {
   "cell_type": "code",
   "execution_count": 21,
   "metadata": {},
   "outputs": [],
   "source": [
    "dji_valid_data, dji_valid_label = validation_data(dji_standarized, 4, TRAIN_SPLIT)\n",
    "sp500_valid_data, sp500_valid_label = validation_data(sp500_standarized, 4, TRAIN_SPLIT)\n",
    "nasdaq_valid_data, nasdaq_valid_label = validation_data(nasdaq_standarized, 4, TRAIN_SPLIT)"
   ]
  },
  {
   "cell_type": "code",
   "execution_count": 22,
   "metadata": {},
   "outputs": [],
   "source": [
    "# check shape of validation data\n",
    "assert dji_valid_data.shape == (10, 20, 6)\n",
    "assert sp500_valid_data.shape == (10, 20, 6)\n",
    "assert nasdaq_valid_data.shape == (10, 20, 6)\n",
    "\n",
    "# check shape of validation label\n",
    "assert dji_valid_label.shape == (10,)\n",
    "assert sp500_valid_label.shape == (10,)\n",
    "assert nasdaq_valid_label.shape == (10,)"
   ]
  },
  {
   "cell_type": "code",
   "execution_count": 54,
   "metadata": {
    "collapsed": true,
    "jupyter": {
     "outputs_hidden": true
    }
   },
   "outputs": [
    {
     "name": "stdout",
     "output_type": "stream",
     "text": [
      "Epoch 1/100\n",
      "39/39 [==============================] - 2s 39ms/step - loss: 0.2049 - val_loss: 0.1110\n",
      "Epoch 2/100\n",
      "39/39 [==============================] - 1s 21ms/step - loss: 0.1409 - val_loss: 0.3056\n",
      "Epoch 3/100\n",
      "39/39 [==============================] - 1s 21ms/step - loss: 0.1308 - val_loss: 0.3106\n",
      "Epoch 4/100\n",
      "39/39 [==============================] - 1s 21ms/step - loss: 0.1203 - val_loss: 0.2081\n",
      "Epoch 5/100\n",
      "39/39 [==============================] - 1s 21ms/step - loss: 0.1108 - val_loss: 0.2045\n",
      "Epoch 6/100\n",
      "39/39 [==============================] - 1s 21ms/step - loss: 0.1084 - val_loss: 0.0847\n",
      "Epoch 7/100\n",
      "39/39 [==============================] - 1s 21ms/step - loss: 0.1071 - val_loss: 0.2266\n",
      "Epoch 8/100\n",
      "39/39 [==============================] - 1s 21ms/step - loss: 0.0969 - val_loss: 0.0794\n",
      "Epoch 9/100\n",
      "39/39 [==============================] - 1s 21ms/step - loss: 0.0958 - val_loss: 0.2165\n",
      "Epoch 10/100\n",
      "39/39 [==============================] - 1s 21ms/step - loss: 0.0943 - val_loss: 0.0971\n",
      "Epoch 11/100\n",
      "39/39 [==============================] - 1s 21ms/step - loss: 0.0899 - val_loss: 0.1166\n",
      "Epoch 12/100\n",
      "39/39 [==============================] - 1s 21ms/step - loss: 0.0900 - val_loss: 0.2060\n",
      "Epoch 13/100\n",
      "39/39 [==============================] - 1s 21ms/step - loss: 0.0894 - val_loss: 0.0843\n",
      "Epoch 14/100\n",
      "39/39 [==============================] - 1s 21ms/step - loss: 0.0823 - val_loss: 0.0983\n",
      "Epoch 15/100\n",
      "39/39 [==============================] - 1s 21ms/step - loss: 0.0845 - val_loss: 0.1246\n",
      "Epoch 16/100\n",
      "39/39 [==============================] - 1s 21ms/step - loss: 0.0774 - val_loss: 0.2709\n",
      "Epoch 17/100\n",
      "39/39 [==============================] - 1s 21ms/step - loss: 0.0826 - val_loss: 0.0827\n",
      "Epoch 18/100\n",
      "39/39 [==============================] - 1s 21ms/step - loss: 0.0792 - val_loss: 0.0768\n",
      "Epoch 19/100\n",
      "39/39 [==============================] - 1s 21ms/step - loss: 0.0757 - val_loss: 0.1039\n",
      "Epoch 20/100\n",
      "39/39 [==============================] - 1s 21ms/step - loss: 0.0737 - val_loss: 0.1747\n",
      "Epoch 21/100\n",
      "39/39 [==============================] - 1s 21ms/step - loss: 0.0757 - val_loss: 0.1552\n",
      "Epoch 22/100\n",
      "39/39 [==============================] - 1s 21ms/step - loss: 0.0722 - val_loss: 0.0751\n",
      "Epoch 23/100\n",
      "39/39 [==============================] - 1s 20ms/step - loss: 0.0723 - val_loss: 0.0990\n",
      "Epoch 24/100\n",
      "39/39 [==============================] - 1s 21ms/step - loss: 0.0677 - val_loss: 0.1002\n",
      "Epoch 25/100\n",
      "39/39 [==============================] - 1s 21ms/step - loss: 0.0690 - val_loss: 0.0999\n",
      "Epoch 26/100\n",
      "39/39 [==============================] - 1s 21ms/step - loss: 0.0684 - val_loss: 0.0711\n",
      "Epoch 27/100\n",
      "39/39 [==============================] - 1s 21ms/step - loss: 0.0677 - val_loss: 0.0696\n",
      "Epoch 28/100\n",
      "39/39 [==============================] - 1s 21ms/step - loss: 0.0649 - val_loss: 0.1165\n",
      "Epoch 29/100\n",
      "39/39 [==============================] - 1s 21ms/step - loss: 0.0625 - val_loss: 0.0925\n",
      "Epoch 30/100\n",
      "39/39 [==============================] - 1s 21ms/step - loss: 0.0658 - val_loss: 0.1076\n",
      "Epoch 31/100\n",
      "39/39 [==============================] - 1s 21ms/step - loss: 0.0633 - val_loss: 0.0658\n",
      "Epoch 32/100\n",
      "39/39 [==============================] - 1s 21ms/step - loss: 0.0629 - val_loss: 0.0677\n",
      "Epoch 33/100\n",
      "39/39 [==============================] - 1s 21ms/step - loss: 0.0602 - val_loss: 0.1024\n",
      "Epoch 34/100\n",
      "39/39 [==============================] - 1s 21ms/step - loss: 0.0620 - val_loss: 0.0695\n",
      "Epoch 35/100\n",
      "39/39 [==============================] - 1s 21ms/step - loss: 0.0623 - val_loss: 0.1165\n",
      "Epoch 36/100\n",
      "39/39 [==============================] - 1s 21ms/step - loss: 0.0601 - val_loss: 0.1489\n",
      "Epoch 37/100\n",
      "39/39 [==============================] - 1s 21ms/step - loss: 0.0609 - val_loss: 0.0899\n",
      "Epoch 38/100\n",
      "39/39 [==============================] - 1s 21ms/step - loss: 0.0590 - val_loss: 0.1010\n",
      "Epoch 39/100\n",
      "39/39 [==============================] - 1s 21ms/step - loss: 0.0603 - val_loss: 0.0986\n",
      "Epoch 40/100\n",
      "39/39 [==============================] - 1s 21ms/step - loss: 0.0589 - val_loss: 0.0783\n",
      "Epoch 41/100\n",
      "39/39 [==============================] - 1s 21ms/step - loss: 0.0577 - val_loss: 0.0707\n"
     ]
    }
   ],
   "source": [
    "# DIJ time series\n",
    "dji_model = keras.models.Sequential([\n",
    "    keras.layers.LSTM(100, return_sequences=True, input_shape = dji_train.shape[-2:]),\n",
    "    keras.layers.LSTM(50, return_sequences=True),\n",
    "    keras.layers.LSTM(25),\n",
    "    keras.layers.Dense(1)\n",
    "])\n",
    "\n",
    "callback = keras.callbacks.EarlyStopping(patience=10, restore_best_weights=True)\n",
    "checkpoint_cb = keras.callbacks.ModelCheckpoint(\"model/dji_model.h5\", save_best_only=True)\n",
    "dji_model.compile(optimizer = tf.keras.optimizers.RMSprop(), loss='mae')\n",
    "\n",
    "history = dji_model.fit(dji_train, dji_label, epochs=100,\n",
    "                    validation_data=(dji_valid_data, dji_valid_label),\n",
    "                        callbacks=[callback, checkpoint_cb])\n",
    "\n",
    "dji_predict = dji_model.predict(dji_valid_data)"
   ]
  },
  {
   "cell_type": "code",
   "execution_count": 55,
   "metadata": {},
   "outputs": [],
   "source": [
    "import os\n",
    "\n",
    "def save_model(model_version, model_name, model):\n",
    "    \"\"\"\n",
    "    Save model to upload to Google Cloud Platform\n",
    "    \"\"\"\n",
    "    model_path = os.path.join(model_name, model_version)\n",
    "    tf.saved_model.save(model, model_path)"
   ]
  },
  {
   "cell_type": "code",
   "execution_count": 56,
   "metadata": {},
   "outputs": [
    {
     "name": "stdout",
     "output_type": "stream",
     "text": [
      "INFO:tensorflow:Assets written to: dji_model/0001/assets\n"
     ]
    }
   ],
   "source": [
    "save_model('0001', 'dji_model', dji_model)"
   ]
  },
  {
   "cell_type": "code",
   "execution_count": 57,
   "metadata": {},
   "outputs": [],
   "source": [
    "def unstandarize(predict, target_data):\n",
    "    \"\"\"\n",
    "    Unstandarize the data to plot for graph\n",
    "    \"\"\"\n",
    "    mean = target_data.mean()\n",
    "    std = target_data.std()\n",
    "    unstandarized_arr = predict*std + mean\n",
    "    return unstandarized_arr"
   ]
  },
  {
   "cell_type": "code",
   "execution_count": 58,
   "metadata": {},
   "outputs": [],
   "source": [
    "dji_unstan_predict = unstandarize(dji_predict, dji['Adj Close'].values)"
   ]
  },
  {
   "cell_type": "code",
   "execution_count": 59,
   "metadata": {},
   "outputs": [],
   "source": [
    "def plot_valid_predict(data, train_split, predict, span):\n",
    "    \"\"\"\n",
    "    Plot history, true future, and predicted future\n",
    "    \"\"\"\n",
    "    train_split = len(data) - train_split\n",
    "    adj_close = [x for x in data['Adj Close'].values]\n",
    "    train_date = data.index[:train_split]\n",
    "            \n",
    "    plt.figure(figsize=(18, 8))\n",
    "    plt.plot(data.index[-20:-10], adj_close[-20:-10], label='History')\n",
    "    plt.plot(data.index[-train_split:], adj_close[-train_split:], label='True Future')\n",
    "    plt.plot(data.index[-train_split:], predict, label='Predicted Price')\n",
    "    plt.xlabel(\"Date\")\n",
    "    plt.ylabel(\"Normalized Price\")\n",
    "    plt.legend()\n",
    "    plt.show()"
   ]
  },
  {
   "cell_type": "code",
   "execution_count": 60,
   "metadata": {},
   "outputs": [
    {
     "data": {
      "image/png": "[encoded data removed]",
      "text/plain": [
       "<Figure size 1296x576 with 1 Axes>"
      ]
     },
     "metadata": {
      "needs_background": "light"
     },
     "output_type": "display_data"
    }
   ],
   "source": [
    "plot_valid_predict(dji, TRAIN_SPLIT, dji_unstan_predict, 20)"
   ]
  },
  {
   "cell_type": "code",
   "execution_count": 61,
   "metadata": {
    "collapsed": true,
    "jupyter": {
     "outputs_hidden": true
    }
   },
   "outputs": [
    {
     "name": "stdout",
     "output_type": "stream",
     "text": [
      "Epoch 1/100\n",
      "39/39 [==============================] - 2s 39ms/step - loss: 0.1929 - val_loss: 0.0641\n",
      "Epoch 2/100\n",
      "39/39 [==============================] - 1s 21ms/step - loss: 0.1461 - val_loss: 0.3885\n",
      "Epoch 3/100\n",
      "39/39 [==============================] - 1s 21ms/step - loss: 0.1306 - val_loss: 0.2166\n",
      "Epoch 4/100\n",
      "39/39 [==============================] - 1s 21ms/step - loss: 0.1254 - val_loss: 0.0997\n",
      "Epoch 5/100\n",
      "39/39 [==============================] - 1s 22ms/step - loss: 0.1142 - val_loss: 0.0503\n",
      "Epoch 6/100\n",
      "39/39 [==============================] - 1s 21ms/step - loss: 0.1119 - val_loss: 0.2686\n",
      "Epoch 7/100\n",
      "39/39 [==============================] - 1s 21ms/step - loss: 0.1091 - val_loss: 0.1075\n",
      "Epoch 8/100\n",
      "39/39 [==============================] - 1s 21ms/step - loss: 0.1041 - val_loss: 0.7012\n",
      "Epoch 9/100\n",
      "39/39 [==============================] - 1s 21ms/step - loss: 0.1039 - val_loss: 0.0830\n",
      "Epoch 10/100\n",
      "39/39 [==============================] - 1s 21ms/step - loss: 0.0974 - val_loss: 0.1864\n",
      "Epoch 11/100\n",
      "39/39 [==============================] - 1s 21ms/step - loss: 0.0946 - val_loss: 0.0761\n",
      "Epoch 12/100\n",
      "39/39 [==============================] - 1s 21ms/step - loss: 0.0953 - val_loss: 0.1880\n",
      "Epoch 13/100\n",
      "39/39 [==============================] - 1s 21ms/step - loss: 0.0902 - val_loss: 0.1100\n",
      "Epoch 14/100\n",
      "39/39 [==============================] - 1s 21ms/step - loss: 0.0901 - val_loss: 0.2148\n",
      "Epoch 15/100\n",
      "39/39 [==============================] - 1s 21ms/step - loss: 0.0890 - val_loss: 0.1830\n"
     ]
    }
   ],
   "source": [
    "# S&P 500 model\n",
    "sp500_model = keras.models.Sequential([\n",
    "    keras.layers.LSTM(100, return_sequences=True, input_shape = nasdaq_train.shape[-2:]),\n",
    "    keras.layers.LSTM(50, return_sequences=True),\n",
    "    keras.layers.LSTM(25),\n",
    "    keras.layers.Dense(1)\n",
    "])\n",
    "\n",
    "callback = keras.callbacks.EarlyStopping(patience=10, restore_best_weights=True)\n",
    "checkpoint_cb = keras.callbacks.ModelCheckpoint(\"model/sp500_model.h5\", save_best_only=True)\n",
    "sp500_model.compile(optimizer = tf.keras.optimizers.RMSprop(), loss='mae')\n",
    "\n",
    "history = sp500_model.fit(sp500_train, sp500_label, epochs=100,\n",
    "                    validation_data=(sp500_valid_data, sp500_valid_label),\n",
    "                        callbacks=[callback, checkpoint_cb])\n",
    "\n",
    "sp500_predict = sp500_model.predict(sp500_valid_data)"
   ]
  },
  {
   "cell_type": "code",
   "execution_count": 62,
   "metadata": {},
   "outputs": [
    {
     "name": "stdout",
     "output_type": "stream",
     "text": [
      "INFO:tensorflow:Assets written to: sp500_model/0001/assets\n"
     ]
    }
   ],
   "source": [
    "save_model('0001', 'sp500_model', sp500_model)"
   ]
  },
  {
   "cell_type": "code",
   "execution_count": 63,
   "metadata": {},
   "outputs": [],
   "source": [
    "sp500_unstan_predict = unstandarize(sp500_predict, sp_500['Adj Close'].values)"
   ]
  },
  {
   "cell_type": "code",
   "execution_count": 64,
   "metadata": {},
   "outputs": [
    {
     "data": {
      "image/png": "[encoded data removed]",
      "text/plain": [
       "<Figure size 1296x576 with 1 Axes>"
      ]
     },
     "metadata": {
      "needs_background": "light"
     },
     "output_type": "display_data"
    }
   ],
   "source": [
    "plot_valid_predict(sp_500, TRAIN_SPLIT, sp500_unstan_predict, 20)"
   ]
  },
  {
   "cell_type": "code",
   "execution_count": 65,
   "metadata": {
    "collapsed": true,
    "jupyter": {
     "outputs_hidden": true
    }
   },
   "outputs": [
    {
     "name": "stdout",
     "output_type": "stream",
     "text": [
      "Epoch 1/100\n",
      "39/39 [==============================] - 2s 39ms/step - loss: 0.1971 - val_loss: 0.5891\n",
      "Epoch 2/100\n",
      "39/39 [==============================] - 1s 21ms/step - loss: 0.1252 - val_loss: 0.7309\n",
      "Epoch 3/100\n",
      "39/39 [==============================] - 1s 22ms/step - loss: 0.1174 - val_loss: 0.0451\n",
      "Epoch 4/100\n",
      "39/39 [==============================] - 1s 21ms/step - loss: 0.1112 - val_loss: 0.0496\n",
      "Epoch 5/100\n",
      "39/39 [==============================] - 1s 21ms/step - loss: 0.1012 - val_loss: 0.3730\n",
      "Epoch 6/100\n",
      "39/39 [==============================] - 1s 21ms/step - loss: 0.1044 - val_loss: 0.0696\n",
      "Epoch 7/100\n",
      "39/39 [==============================] - 1s 21ms/step - loss: 0.0997 - val_loss: 0.5105\n",
      "Epoch 8/100\n",
      "39/39 [==============================] - 1s 21ms/step - loss: 0.0957 - val_loss: 0.3430\n",
      "Epoch 9/100\n",
      "39/39 [==============================] - 1s 21ms/step - loss: 0.0887 - val_loss: 0.3513\n",
      "Epoch 10/100\n",
      "39/39 [==============================] - 1s 21ms/step - loss: 0.0876 - val_loss: 0.1251\n",
      "Epoch 11/100\n",
      "39/39 [==============================] - 1s 21ms/step - loss: 0.0874 - val_loss: 0.4867\n",
      "Epoch 12/100\n",
      "39/39 [==============================] - 1s 21ms/step - loss: 0.0829 - val_loss: 0.2730\n",
      "Epoch 13/100\n",
      "39/39 [==============================] - 1s 21ms/step - loss: 0.0847 - val_loss: 0.1485\n"
     ]
    }
   ],
   "source": [
    "# NASDAQ model\n",
    "nasdaq_model = keras.models.Sequential([\n",
    "    keras.layers.LSTM(100, return_sequences=True, input_shape = nasdaq_train.shape[-2:]),\n",
    "    keras.layers.LSTM(50, return_sequences=True),\n",
    "    keras.layers.LSTM(25),\n",
    "    keras.layers.Dense(1)\n",
    "])\n",
    "\n",
    "callback = keras.callbacks.EarlyStopping(patience=10, restore_best_weights=True)\n",
    "checkpoint_cb = keras.callbacks.ModelCheckpoint(\"model/nasdaq_model.h5\", save_best_only=True)\n",
    "nasdaq_model.compile(optimizer = tf.keras.optimizers.RMSprop(), loss='mae')\n",
    "\n",
    "history = nasdaq_model.fit(nasdaq_train, nasdaq_label, epochs=100,\n",
    "                    validation_data=(nasdaq_valid_data, nasdaq_valid_label),\n",
    "                        callbacks=[callback, checkpoint_cb])\n",
    "\n",
    "nasdaq_predict = nasdaq_model.predict(nasdaq_valid_data)"
   ]
  },
  {
   "cell_type": "code",
   "execution_count": 66,
   "metadata": {},
   "outputs": [
    {
     "name": "stdout",
     "output_type": "stream",
     "text": [
      "INFO:tensorflow:Assets written to: nasdaq_model/0001/assets\n"
     ]
    }
   ],
   "source": [
    "save_model('0001', 'nasdaq_model', nasdaq_model)"
   ]
  },
  {
   "cell_type": "code",
   "execution_count": 67,
   "metadata": {},
   "outputs": [],
   "source": [
    "nasdaq_unstan_predict = unstandarize(nasdaq_predict, nasdaq['Adj Close'].values)"
   ]
  },
  {
   "cell_type": "code",
   "execution_count": 68,
   "metadata": {},
   "outputs": [
    {
     "data": {
      "image/png": "[encoded data removed]",
      "text/plain": [
       "<Figure size 1296x576 with 1 Axes>"
      ]
     },
     "metadata": {
      "needs_background": "light"
     },
     "output_type": "display_data"
    }
   ],
   "source": [
    "plot_valid_predict(nasdaq, TRAIN_SPLIT, nasdaq_unstan_predict, 20)"
   ]
  }
 ],
 "metadata": {
  "kernelspec": {
   "display_name": "Python 3",
   "language": "python",
   "name": "python3"
  },
  "language_info": {
   "codemirror_mode": {
    "name": "ipython",
    "version": 3
   },
   "file_extension": ".py",
   "mimetype": "text/x-python",
   "name": "python",
   "nbconvert_exporter": "python",
   "pygments_lexer": "ipython3",
   "version": "3.8.0"
  }
 },
 "nbformat": 4,
 "nbformat_minor": 4
}
