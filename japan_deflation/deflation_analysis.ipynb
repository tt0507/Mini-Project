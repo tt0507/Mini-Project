{
 "cells": [
  {
   "cell_type": "markdown",
   "metadata": {},
   "source": [
    "# Japan Deflation Analysis"
   ]
  },
  {
   "cell_type": "markdown",
   "metadata": {},
   "source": [
    "- https://www.boj.or.jp/statistics/money/ms/index.htm/ (Single Data)\n",
    "- https://www.e-stat.go.jp/statistics-by-theme/ (Multiple Data)\n",
    "- https://www.boj.or.jp/statistics/index.htm/ (Multiple Data)\n",
    "- https://data.worldbank.org/indicator (Multiple Data)\n",
    "- https://stats.oecd.org/# (Multiple Data) Use this "
   ]
  },
  {
   "cell_type": "code",
   "execution_count": 1,
   "metadata": {},
   "outputs": [],
   "source": [
    "# import necessary libraries\n",
    "import pandas as pd\n",
    "import numpy as np\n",
    "import seaborn as sns\n",
    "import matplotlib.pyplot as plt\n",
    "from sklearn.decomposition import PCA\n",
    "from sklearn.metrics.pairwise import cosine_similarity"
   ]
  },
  {
   "cell_type": "markdown",
   "metadata": {},
   "source": [
    "## Introduction"
   ]
  },
  {
   "cell_type": "markdown",
   "metadata": {},
   "source": []
  },
  {
   "cell_type": "markdown",
   "metadata": {},
   "source": [
    "## Finding similar countries to Japan"
   ]
  },
  {
   "cell_type": "markdown",
   "metadata": {},
   "source": [
    "In this section we use t-SNE on the dataset to create a scatter plot, and find the countries that are close to Japan in terms of the distance between coordinates on the scatter plot."
   ]
  },
  {
   "cell_type": "code",
   "execution_count": 2,
   "metadata": {},
   "outputs": [],
   "source": [
    "def transform_dataset(data):\n",
    "    data = data.set_index('Unnamed: 0')\n",
    "    data.index.rename('', inplace=True)\n",
    "    return data"
   ]
  },
  {
   "cell_type": "code",
   "execution_count": 3,
   "metadata": {},
   "outputs": [
    {
     "data": {
      "text/html": [
       "<div>\n",
       "<style scoped>\n",
       "    .dataframe tbody tr th:only-of-type {\n",
       "        vertical-align: middle;\n",
       "    }\n",
       "\n",
       "    .dataframe tbody tr th {\n",
       "        vertical-align: top;\n",
       "    }\n",
       "\n",
       "    .dataframe thead th {\n",
       "        text-align: right;\n",
       "    }\n",
       "</style>\n",
       "<table border=\"1\" class=\"dataframe\">\n",
       "  <thead>\n",
       "    <tr style=\"text-align: right;\">\n",
       "      <th></th>\n",
       "      <th>Exports in goods, s.a.</th>\n",
       "      <th>Imports in goods, s.a.</th>\n",
       "      <th>Share prices</th>\n",
       "      <th>Consumer prices: all items</th>\n",
       "      <th>Industrial production, s.a.</th>\n",
       "      <th>Permits issued for dwellings, s.a.</th>\n",
       "      <th>Passenger car registrations, s.a.</th>\n",
       "      <th>Retail trade (Volume), s.a.</th>\n",
       "      <th>Gross domestic product; constant prices, s.a.</th>\n",
       "      <th>GDP Private final consumption expenditure; constant prices, s.a.</th>\n",
       "      <th>...</th>\n",
       "      <th>Unit Labour Costs, employment based</th>\n",
       "      <th>ICT capital deepening</th>\n",
       "      <th>Capital productivity</th>\n",
       "      <th>ICT capital</th>\n",
       "      <th>Non-ICT capital deepening</th>\n",
       "      <th>Non-ICT capital</th>\n",
       "      <th>Unit Labour Costs, employment based, USD exchange-rate adjusted</th>\n",
       "      <th>Unit Labour Costs, USD exchange-rate adjusted</th>\n",
       "      <th>Capital quality</th>\n",
       "      <th>Total capital stock</th>\n",
       "    </tr>\n",
       "    <tr>\n",
       "      <th></th>\n",
       "      <th></th>\n",
       "      <th></th>\n",
       "      <th></th>\n",
       "      <th></th>\n",
       "      <th></th>\n",
       "      <th></th>\n",
       "      <th></th>\n",
       "      <th></th>\n",
       "      <th></th>\n",
       "      <th></th>\n",
       "      <th></th>\n",
       "      <th></th>\n",
       "      <th></th>\n",
       "      <th></th>\n",
       "      <th></th>\n",
       "      <th></th>\n",
       "      <th></th>\n",
       "      <th></th>\n",
       "      <th></th>\n",
       "      <th></th>\n",
       "      <th></th>\n",
       "    </tr>\n",
       "  </thead>\n",
       "  <tbody>\n",
       "    <tr>\n",
       "      <th>Australia</th>\n",
       "      <td>-0.233699</td>\n",
       "      <td>-0.256102</td>\n",
       "      <td>-0.479847</td>\n",
       "      <td>-0.312487</td>\n",
       "      <td>-0.598316</td>\n",
       "      <td>-0.401856</td>\n",
       "      <td>-0.398980</td>\n",
       "      <td>-0.360682</td>\n",
       "      <td>0.050322</td>\n",
       "      <td>0.363567</td>\n",
       "      <td>...</td>\n",
       "      <td>-0.736760</td>\n",
       "      <td>-0.387543</td>\n",
       "      <td>-3.100986e-01</td>\n",
       "      <td>-1.092898e-01</td>\n",
       "      <td>1.390974</td>\n",
       "      <td>1.324842</td>\n",
       "      <td>-0.620196</td>\n",
       "      <td>-7.433811e-01</td>\n",
       "      <td>-1.032218</td>\n",
       "      <td>1.947551e+00</td>\n",
       "    </tr>\n",
       "    <tr>\n",
       "      <th>Austria</th>\n",
       "      <td>-0.342110</td>\n",
       "      <td>-0.317628</td>\n",
       "      <td>0.033466</td>\n",
       "      <td>0.085702</td>\n",
       "      <td>-0.301410</td>\n",
       "      <td>0.000000</td>\n",
       "      <td>-0.193004</td>\n",
       "      <td>-0.174619</td>\n",
       "      <td>-0.714010</td>\n",
       "      <td>-1.012482</td>\n",
       "      <td>...</td>\n",
       "      <td>-0.036970</td>\n",
       "      <td>2.203452</td>\n",
       "      <td>-1.168989e+00</td>\n",
       "      <td>1.655403e+00</td>\n",
       "      <td>0.618322</td>\n",
       "      <td>0.605985</td>\n",
       "      <td>-0.125199</td>\n",
       "      <td>-4.666341e-03</td>\n",
       "      <td>1.589605</td>\n",
       "      <td>2.433988e-01</td>\n",
       "    </tr>\n",
       "    <tr>\n",
       "      <th>Belgium</th>\n",
       "      <td>0.369286</td>\n",
       "      <td>0.276294</td>\n",
       "      <td>-0.630549</td>\n",
       "      <td>0.418660</td>\n",
       "      <td>-0.141498</td>\n",
       "      <td>-0.322663</td>\n",
       "      <td>-0.213916</td>\n",
       "      <td>-0.273772</td>\n",
       "      <td>-0.695831</td>\n",
       "      <td>-0.878660</td>\n",
       "      <td>...</td>\n",
       "      <td>-0.120314</td>\n",
       "      <td>0.620519</td>\n",
       "      <td>-6.526524e-01</td>\n",
       "      <td>5.285569e-01</td>\n",
       "      <td>0.645914</td>\n",
       "      <td>0.529186</td>\n",
       "      <td>-0.162655</td>\n",
       "      <td>-1.144269e-01</td>\n",
       "      <td>-0.302749</td>\n",
       "      <td>6.039751e-01</td>\n",
       "    </tr>\n",
       "    <tr>\n",
       "      <th>Brazil</th>\n",
       "      <td>-0.248746</td>\n",
       "      <td>-0.328803</td>\n",
       "      <td>0.863331</td>\n",
       "      <td>-1.505533</td>\n",
       "      <td>0.041675</td>\n",
       "      <td>0.000000</td>\n",
       "      <td>0.000000</td>\n",
       "      <td>-0.581818</td>\n",
       "      <td>-0.279993</td>\n",
       "      <td>0.060860</td>\n",
       "      <td>...</td>\n",
       "      <td>5.051742</td>\n",
       "      <td>0.000000</td>\n",
       "      <td>-9.017795e-15</td>\n",
       "      <td>-8.713533e-15</td>\n",
       "      <td>0.000000</td>\n",
       "      <td>0.000000</td>\n",
       "      <td>4.413033</td>\n",
       "      <td>1.067143e-15</td>\n",
       "      <td>0.000000</td>\n",
       "      <td>-8.299467e-15</td>\n",
       "    </tr>\n",
       "    <tr>\n",
       "      <th>Canada</th>\n",
       "      <td>0.363697</td>\n",
       "      <td>0.280111</td>\n",
       "      <td>-0.646126</td>\n",
       "      <td>0.417974</td>\n",
       "      <td>-0.185874</td>\n",
       "      <td>-0.361079</td>\n",
       "      <td>-0.119553</td>\n",
       "      <td>-0.314042</td>\n",
       "      <td>-0.467821</td>\n",
       "      <td>0.097990</td>\n",
       "      <td>...</td>\n",
       "      <td>-0.263241</td>\n",
       "      <td>-1.707186</td>\n",
       "      <td>2.640957e-01</td>\n",
       "      <td>-1.147591e+00</td>\n",
       "      <td>0.634743</td>\n",
       "      <td>0.733420</td>\n",
       "      <td>-0.382829</td>\n",
       "      <td>-4.047417e-01</td>\n",
       "      <td>-1.246592</td>\n",
       "      <td>9.531083e-01</td>\n",
       "    </tr>\n",
       "  </tbody>\n",
       "</table>\n",
       "<p>5 rows × 159 columns</p>\n",
       "</div>"
      ],
      "text/plain": [
       "           Exports in goods, s.a.  Imports in goods, s.a.  Share prices  \\\n",
       "                                                                          \n",
       "Australia               -0.233699               -0.256102     -0.479847   \n",
       "Austria                 -0.342110               -0.317628      0.033466   \n",
       "Belgium                  0.369286                0.276294     -0.630549   \n",
       "Brazil                  -0.248746               -0.328803      0.863331   \n",
       "Canada                   0.363697                0.280111     -0.646126   \n",
       "\n",
       "           Consumer prices: all items  Industrial production, s.a.  \\\n",
       "                                                                     \n",
       "Australia                   -0.312487                    -0.598316   \n",
       "Austria                      0.085702                    -0.301410   \n",
       "Belgium                      0.418660                    -0.141498   \n",
       "Brazil                      -1.505533                     0.041675   \n",
       "Canada                       0.417974                    -0.185874   \n",
       "\n",
       "           Permits issued for dwellings, s.a.  \\\n",
       "                                                \n",
       "Australia                           -0.401856   \n",
       "Austria                              0.000000   \n",
       "Belgium                             -0.322663   \n",
       "Brazil                               0.000000   \n",
       "Canada                              -0.361079   \n",
       "\n",
       "           Passenger car registrations, s.a.  Retail trade (Volume), s.a.  \\\n",
       "                                                                            \n",
       "Australia                          -0.398980                    -0.360682   \n",
       "Austria                            -0.193004                    -0.174619   \n",
       "Belgium                            -0.213916                    -0.273772   \n",
       "Brazil                              0.000000                    -0.581818   \n",
       "Canada                             -0.119553                    -0.314042   \n",
       "\n",
       "           Gross domestic product; constant prices, s.a.  \\\n",
       "                                                           \n",
       "Australia                                       0.050322   \n",
       "Austria                                        -0.714010   \n",
       "Belgium                                        -0.695831   \n",
       "Brazil                                         -0.279993   \n",
       "Canada                                         -0.467821   \n",
       "\n",
       "           GDP Private final consumption expenditure; constant prices, s.a.  \\\n",
       "                                                                              \n",
       "Australia                                           0.363567                  \n",
       "Austria                                            -1.012482                  \n",
       "Belgium                                            -0.878660                  \n",
       "Brazil                                              0.060860                  \n",
       "Canada                                              0.097990                  \n",
       "\n",
       "           ...  Unit Labour Costs, employment based  ICT capital deepening  \\\n",
       "           ...                                                               \n",
       "Australia  ...                            -0.736760              -0.387543   \n",
       "Austria    ...                            -0.036970               2.203452   \n",
       "Belgium    ...                            -0.120314               0.620519   \n",
       "Brazil     ...                             5.051742               0.000000   \n",
       "Canada     ...                            -0.263241              -1.707186   \n",
       "\n",
       "           Capital productivity   ICT capital  Non-ICT capital deepening  \\\n",
       "                                                                           \n",
       "Australia         -3.100986e-01 -1.092898e-01                   1.390974   \n",
       "Austria           -1.168989e+00  1.655403e+00                   0.618322   \n",
       "Belgium           -6.526524e-01  5.285569e-01                   0.645914   \n",
       "Brazil            -9.017795e-15 -8.713533e-15                   0.000000   \n",
       "Canada             2.640957e-01 -1.147591e+00                   0.634743   \n",
       "\n",
       "           Non-ICT capital  \\\n",
       "                             \n",
       "Australia         1.324842   \n",
       "Austria           0.605985   \n",
       "Belgium           0.529186   \n",
       "Brazil            0.000000   \n",
       "Canada            0.733420   \n",
       "\n",
       "           Unit Labour Costs, employment based, USD exchange-rate adjusted  \\\n",
       "                                                                             \n",
       "Australia                                          -0.620196                 \n",
       "Austria                                            -0.125199                 \n",
       "Belgium                                            -0.162655                 \n",
       "Brazil                                              4.413033                 \n",
       "Canada                                             -0.382829                 \n",
       "\n",
       "           Unit Labour Costs, USD exchange-rate adjusted  Capital quality  \\\n",
       "                                                                            \n",
       "Australia                                  -7.433811e-01        -1.032218   \n",
       "Austria                                    -4.666341e-03         1.589605   \n",
       "Belgium                                    -1.144269e-01        -0.302749   \n",
       "Brazil                                      1.067143e-15         0.000000   \n",
       "Canada                                     -4.047417e-01        -1.246592   \n",
       "\n",
       "           Total capital stock  \n",
       "                                \n",
       "Australia         1.947551e+00  \n",
       "Austria           2.433988e-01  \n",
       "Belgium           6.039751e-01  \n",
       "Brazil           -8.299467e-15  \n",
       "Canada            9.531083e-01  \n",
       "\n",
       "[5 rows x 159 columns]"
      ]
     },
     "execution_count": 3,
     "metadata": {},
     "output_type": "execute_result"
    }
   ],
   "source": [
    "full_data = pd.read_csv('data/full_data.csv')\n",
    "full_data = transform_dataset(full_data)\n",
    "full_data.head()"
   ]
  },
  {
   "cell_type": "markdown",
   "metadata": {},
   "source": [
    "### Principal Component Analysis (PCA)"
   ]
  },
  {
   "cell_type": "code",
   "execution_count": 4,
   "metadata": {},
   "outputs": [],
   "source": [
    "data_reduced = PCA(n_components=2).fit_transform(full_data)"
   ]
  },
  {
   "cell_type": "code",
   "execution_count": 5,
   "metadata": {},
   "outputs": [],
   "source": [
    "japan = data_reduced[22]\n",
    "others = np.delete(data_reduced, 22, axis=0)\n",
    "\n",
    "country_data = [x for x in full_data.index if x != 'Japan']"
   ]
  },
  {
   "cell_type": "code",
   "execution_count": 6,
   "metadata": {},
   "outputs": [
    {
     "data": {
      "image/png": "[encoded data removed]",
      "text/plain": [
       "<Figure size 936x720 with 1 Axes>"
      ]
     },
     "metadata": {
      "needs_background": "light"
     },
     "output_type": "display_data"
    }
   ],
   "source": [
    "# plot scatter graph\n",
    "plt.figure(figsize=(13,10))\n",
    "plt.scatter(others[:, 0], others[:, 1])\n",
    "plt.scatter(japan[0], japan[1])\n",
    "\n",
    "for i, txt in enumerate(country_data):\n",
    "    plt.annotate(txt, (others[:, 0][i], others[:, 1][i]))\n",
    "    \n",
    "plt.annotate(\"Japan\", (japan[0], japan[1]))\n",
    "plt.axis('off')\n",
    "plt.show()"
   ]
  },
  {
   "cell_type": "markdown",
   "metadata": {},
   "source": [
    "By visualizing the data obtained from t-SNE we can plot the scatter plot above. Japan is depicted as the orange point and all the other countries are shown with a blue point. To find the closest countries to Japan in terms of coordinates, we find the distance between coordinates using the equation $d = \\sqrt{(x_2 - x_1)^2 + (y_2 - y_1)^2}$ "
   ]
  },
  {
   "cell_type": "code",
   "execution_count": 11,
   "metadata": {},
   "outputs": [
    {
     "data": {
      "text/plain": [
       "1.4142135623730951"
      ]
     },
     "execution_count": 11,
     "metadata": {},
     "output_type": "execute_result"
    }
   ],
   "source": [
    "np.linalg.norm( np.array([3, 3]) - np.array([2, 2]) )"
   ]
  },
  {
   "cell_type": "markdown",
   "metadata": {},
   "source": [
    "## Comparing Social Factors"
   ]
  },
  {
   "cell_type": "markdown",
   "metadata": {},
   "source": [
    "In this section, similar to the previous section, we use t-SNE to create visualizations for each social factors to identify the areas in which Japan shows similarities with the other four countries."
   ]
  },
  {
   "cell_type": "code",
   "execution_count": 7,
   "metadata": {},
   "outputs": [],
   "source": [
    "# import dataset\n",
    "economic_index = pd.read_csv('data/ei_combined.csv')\n",
    "cpi_index = pd.read_csv('data/cpi_index.csv')\n",
    "gdp_production_index = pd.read_csv('data/gdp_production_index.csv')\n",
    "health_index = pd.read_csv('data/health_index.csv')\n",
    "population_index = pd.read_csv('data/population_index.csv')\n",
    "ppp_index = pd.read_csv('data/ppp_index.csv')\n",
    "productivity_ulc_index = pd.read_csv('data/productivity_ulc_index.csv')"
   ]
  },
  {
   "cell_type": "code",
   "execution_count": 8,
   "metadata": {},
   "outputs": [],
   "source": [
    "# change index of dataset\n",
    "economic_index = transform_dataset(economic_index)\n",
    "cpi_index = transform_dataset(cpi_index)\n",
    "gdp_production_index = transform_dataset(gdp_production_index)\n",
    "health_index = transform_dataset(health_index)\n",
    "population_index = transform_dataset(population_index)\n",
    "ppp_index = transform_dataset(ppp_index)\n",
    "productivity_ulc_index = transform_dataset(productivity_ulc_index)"
   ]
  },
  {
   "cell_type": "code",
   "execution_count": null,
   "metadata": {},
   "outputs": [],
   "source": []
  }
 ],
 "metadata": {
  "kernelspec": {
   "display_name": "Python 3",
   "language": "python",
   "name": "python3"
  },
  "language_info": {
   "codemirror_mode": {
    "name": "ipython",
    "version": 3
   },
   "file_extension": ".py",
   "mimetype": "text/x-python",
   "name": "python",
   "nbconvert_exporter": "python",
   "pygments_lexer": "ipython3",
   "version": "3.8.0"
  }
 },
 "nbformat": 4,
 "nbformat_minor": 4
}
